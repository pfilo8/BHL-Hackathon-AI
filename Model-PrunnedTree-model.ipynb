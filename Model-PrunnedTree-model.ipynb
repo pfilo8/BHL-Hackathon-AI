{
 "cells": [
  {
   "cell_type": "code",
   "execution_count": 1,
   "id": "adverse-poultry",
   "metadata": {},
   "outputs": [],
   "source": [
    "from pathlib import Path\n",
    "\n",
    "import graphviz\n",
    "import joblib\n",
    "import numpy as np\n",
    "import matplotlib.pyplot as plt\n",
    "import pandas as pd\n",
    "import seaborn as sns\n",
    "from sklearn import metrics, model_selection, tree\n",
    "from tqdm import tqdm"
   ]
  },
  {
   "cell_type": "code",
   "execution_count": 2,
   "id": "visible-pulse",
   "metadata": {},
   "outputs": [],
   "source": [
    "PATH = Path(\"results/prunned_tree\")\n",
    "PATH.mkdir(exist_ok=True)"
   ]
  },
  {
   "cell_type": "code",
   "execution_count": 3,
   "id": "improved-master",
   "metadata": {},
   "outputs": [
    {
     "data": {
      "text/html": [
       "<div>\n",
       "<style scoped>\n",
       "    .dataframe tbody tr th:only-of-type {\n",
       "        vertical-align: middle;\n",
       "    }\n",
       "\n",
       "    .dataframe tbody tr th {\n",
       "        vertical-align: top;\n",
       "    }\n",
       "\n",
       "    .dataframe thead th {\n",
       "        text-align: right;\n",
       "    }\n",
       "</style>\n",
       "<table border=\"1\" class=\"dataframe\">\n",
       "  <thead>\n",
       "    <tr style=\"text-align: right;\">\n",
       "      <th></th>\n",
       "      <th>Activity</th>\n",
       "      <th>angle(X,gravityMean)</th>\n",
       "      <th>angle(Y,gravityMean)</th>\n",
       "      <th>angle(Z,gravityMean)</th>\n",
       "      <th>angle(tBodyAccJerkMean),gravityMean)</th>\n",
       "      <th>angle(tBodyAccMean,gravity)</th>\n",
       "      <th>angle(tBodyGyroJerkMean,gravityMean)</th>\n",
       "      <th>angle(tBodyGyroMean,gravityMean)</th>\n",
       "      <th>energy-mean()</th>\n",
       "      <th>fBodyAcc-bandsEnergy()-1,16</th>\n",
       "      <th>...</th>\n",
       "      <th>tGravityAccMag-energy()</th>\n",
       "      <th>tGravityAccMag-entropy()</th>\n",
       "      <th>tGravityAccMag-iqr()</th>\n",
       "      <th>tGravityAccMag-mad()</th>\n",
       "      <th>tGravityAccMag-max()</th>\n",
       "      <th>tGravityAccMag-mean()</th>\n",
       "      <th>tGravityAccMag-min()</th>\n",
       "      <th>tGravityAccMag-sma()</th>\n",
       "      <th>tGravityAccMag-std()</th>\n",
       "      <th>void()</th>\n",
       "    </tr>\n",
       "  </thead>\n",
       "  <tbody>\n",
       "    <tr>\n",
       "      <th>0</th>\n",
       "      <td>STANDING</td>\n",
       "      <td>-1.574191</td>\n",
       "      <td>-0.805700</td>\n",
       "      <td>-2.453831</td>\n",
       "      <td>-1.861714</td>\n",
       "      <td>0.115517</td>\n",
       "      <td>-2.023369</td>\n",
       "      <td>3.125860</td>\n",
       "      <td>-9.474436</td>\n",
       "      <td>3.622600</td>\n",
       "      <td>...</td>\n",
       "      <td>5.049130</td>\n",
       "      <td>3.272281</td>\n",
       "      <td>5.103018</td>\n",
       "      <td>-0.823302</td>\n",
       "      <td>3.063681</td>\n",
       "      <td>-0.928676</td>\n",
       "      <td>-1.007695</td>\n",
       "      <td>3.094236</td>\n",
       "      <td>1.669987</td>\n",
       "      <td>1.0</td>\n",
       "    </tr>\n",
       "    <tr>\n",
       "      <th>1</th>\n",
       "      <td>WALKING_UPSTAIRS</td>\n",
       "      <td>-1.568669</td>\n",
       "      <td>-0.612620</td>\n",
       "      <td>-2.488338</td>\n",
       "      <td>-1.751117</td>\n",
       "      <td>0.218134</td>\n",
       "      <td>0.280294</td>\n",
       "      <td>7.953403</td>\n",
       "      <td>-0.679894</td>\n",
       "      <td>2.512880</td>\n",
       "      <td>...</td>\n",
       "      <td>4.565443</td>\n",
       "      <td>4.440779</td>\n",
       "      <td>3.288399</td>\n",
       "      <td>-2.689605</td>\n",
       "      <td>1.705341</td>\n",
       "      <td>-0.822617</td>\n",
       "      <td>-0.572410</td>\n",
       "      <td>-2.187890</td>\n",
       "      <td>-0.544652</td>\n",
       "      <td>2.0</td>\n",
       "    </tr>\n",
       "    <tr>\n",
       "      <th>2</th>\n",
       "      <td>LAYING</td>\n",
       "      <td>-1.548333</td>\n",
       "      <td>-0.139628</td>\n",
       "      <td>-2.380889</td>\n",
       "      <td>-1.915239</td>\n",
       "      <td>0.067613</td>\n",
       "      <td>-0.887342</td>\n",
       "      <td>6.007361</td>\n",
       "      <td>-11.906904</td>\n",
       "      <td>3.621984</td>\n",
       "      <td>...</td>\n",
       "      <td>5.059609</td>\n",
       "      <td>2.296603</td>\n",
       "      <td>5.344174</td>\n",
       "      <td>-0.549843</td>\n",
       "      <td>3.272225</td>\n",
       "      <td>-0.940610</td>\n",
       "      <td>-1.031522</td>\n",
       "      <td>-2.071755</td>\n",
       "      <td>2.024442</td>\n",
       "      <td>3.0</td>\n",
       "    </tr>\n",
       "    <tr>\n",
       "      <th>3</th>\n",
       "      <td>WALKING</td>\n",
       "      <td>-1.574094</td>\n",
       "      <td>-0.793443</td>\n",
       "      <td>-2.449959</td>\n",
       "      <td>-1.842741</td>\n",
       "      <td>-0.195625</td>\n",
       "      <td>-0.950671</td>\n",
       "      <td>2.104353</td>\n",
       "      <td>-11.906121</td>\n",
       "      <td>3.355701</td>\n",
       "      <td>...</td>\n",
       "      <td>4.860758</td>\n",
       "      <td>4.177535</td>\n",
       "      <td>3.950012</td>\n",
       "      <td>-0.322642</td>\n",
       "      <td>2.366287</td>\n",
       "      <td>-0.866937</td>\n",
       "      <td>-0.696431</td>\n",
       "      <td>1.863375</td>\n",
       "      <td>0.550414</td>\n",
       "      <td>2.0</td>\n",
       "    </tr>\n",
       "    <tr>\n",
       "      <th>4</th>\n",
       "      <td>LAYING</td>\n",
       "      <td>-1.548333</td>\n",
       "      <td>-0.139628</td>\n",
       "      <td>-2.380889</td>\n",
       "      <td>NaN</td>\n",
       "      <td>0.067613</td>\n",
       "      <td>-0.887342</td>\n",
       "      <td>6.007361</td>\n",
       "      <td>-11.970485</td>\n",
       "      <td>3.621984</td>\n",
       "      <td>...</td>\n",
       "      <td>5.059609</td>\n",
       "      <td>2.296603</td>\n",
       "      <td>5.344174</td>\n",
       "      <td>-0.549843</td>\n",
       "      <td>3.272225</td>\n",
       "      <td>-0.940610</td>\n",
       "      <td>-1.031522</td>\n",
       "      <td>-2.102513</td>\n",
       "      <td>2.024442</td>\n",
       "      <td>3.0</td>\n",
       "    </tr>\n",
       "  </tbody>\n",
       "</table>\n",
       "<p>5 rows × 572 columns</p>\n",
       "</div>"
      ],
      "text/plain": [
       "           Activity  angle(X,gravityMean)  angle(Y,gravityMean)  \\\n",
       "0          STANDING             -1.574191             -0.805700   \n",
       "1  WALKING_UPSTAIRS             -1.568669             -0.612620   \n",
       "2            LAYING             -1.548333             -0.139628   \n",
       "3           WALKING             -1.574094             -0.793443   \n",
       "4            LAYING             -1.548333             -0.139628   \n",
       "\n",
       "   angle(Z,gravityMean)  angle(tBodyAccJerkMean),gravityMean)  \\\n",
       "0             -2.453831                             -1.861714   \n",
       "1             -2.488338                             -1.751117   \n",
       "2             -2.380889                             -1.915239   \n",
       "3             -2.449959                             -1.842741   \n",
       "4             -2.380889                                   NaN   \n",
       "\n",
       "   angle(tBodyAccMean,gravity)  angle(tBodyGyroJerkMean,gravityMean)  \\\n",
       "0                     0.115517                             -2.023369   \n",
       "1                     0.218134                              0.280294   \n",
       "2                     0.067613                             -0.887342   \n",
       "3                    -0.195625                             -0.950671   \n",
       "4                     0.067613                             -0.887342   \n",
       "\n",
       "   angle(tBodyGyroMean,gravityMean)  energy-mean()  \\\n",
       "0                          3.125860      -9.474436   \n",
       "1                          7.953403      -0.679894   \n",
       "2                          6.007361     -11.906904   \n",
       "3                          2.104353     -11.906121   \n",
       "4                          6.007361     -11.970485   \n",
       "\n",
       "   fBodyAcc-bandsEnergy()-1,16  ...  tGravityAccMag-energy()  \\\n",
       "0                     3.622600  ...                 5.049130   \n",
       "1                     2.512880  ...                 4.565443   \n",
       "2                     3.621984  ...                 5.059609   \n",
       "3                     3.355701  ...                 4.860758   \n",
       "4                     3.621984  ...                 5.059609   \n",
       "\n",
       "   tGravityAccMag-entropy()  tGravityAccMag-iqr()  tGravityAccMag-mad()  \\\n",
       "0                  3.272281              5.103018             -0.823302   \n",
       "1                  4.440779              3.288399             -2.689605   \n",
       "2                  2.296603              5.344174             -0.549843   \n",
       "3                  4.177535              3.950012             -0.322642   \n",
       "4                  2.296603              5.344174             -0.549843   \n",
       "\n",
       "   tGravityAccMag-max()  tGravityAccMag-mean()  tGravityAccMag-min()  \\\n",
       "0              3.063681              -0.928676             -1.007695   \n",
       "1              1.705341              -0.822617             -0.572410   \n",
       "2              3.272225              -0.940610             -1.031522   \n",
       "3              2.366287              -0.866937             -0.696431   \n",
       "4              3.272225              -0.940610             -1.031522   \n",
       "\n",
       "   tGravityAccMag-sma()  tGravityAccMag-std()  void()  \n",
       "0              3.094236              1.669987     1.0  \n",
       "1             -2.187890             -0.544652     2.0  \n",
       "2             -2.071755              2.024442     3.0  \n",
       "3              1.863375              0.550414     2.0  \n",
       "4             -2.102513              2.024442     3.0  \n",
       "\n",
       "[5 rows x 572 columns]"
      ]
     },
     "execution_count": 3,
     "metadata": {},
     "output_type": "execute_result"
    }
   ],
   "source": [
    "df = pd.read_csv(\"data/final_train.csv\", index_col=0)\n",
    "df.head()"
   ]
  },
  {
   "cell_type": "markdown",
   "id": "lyric-thickness",
   "metadata": {},
   "source": [
    "# Data preprocessing"
   ]
  },
  {
   "cell_type": "code",
   "execution_count": 4,
   "id": "outside-vehicle",
   "metadata": {},
   "outputs": [],
   "source": [
    "df = df.drop(columns=[\"subject\", \"void()\"])\n",
    "df = df.dropna()"
   ]
  },
  {
   "cell_type": "code",
   "execution_count": 5,
   "id": "sapphire-given",
   "metadata": {},
   "outputs": [],
   "source": [
    "y = df[\"Activity\"]\n",
    "X = df.drop(columns=[\"Activity\"])"
   ]
  },
  {
   "cell_type": "code",
   "execution_count": 6,
   "id": "random-guitar",
   "metadata": {},
   "outputs": [
    {
     "data": {
      "text/plain": [
       "LAYING                1821\n",
       "SITTING               1789\n",
       "STANDING              1753\n",
       "WALKING               1652\n",
       "WALKING_UPSTAIRS      1369\n",
       "WALKING_DOWNSTAIRS    1240\n",
       "Name: Activity, dtype: int64"
      ]
     },
     "execution_count": 6,
     "metadata": {},
     "output_type": "execute_result"
    }
   ],
   "source": [
    "y.value_counts()"
   ]
  },
  {
   "cell_type": "code",
   "execution_count": 7,
   "id": "generic-flesh",
   "metadata": {},
   "outputs": [],
   "source": [
    "X_train, X_test, y_train, y_test = model_selection.train_test_split(X, y, random_state=42)"
   ]
  },
  {
   "cell_type": "markdown",
   "id": "incorporated-python",
   "metadata": {},
   "source": [
    "# Decision tree"
   ]
  },
  {
   "cell_type": "code",
   "execution_count": 8,
   "id": "taken-applicant",
   "metadata": {},
   "outputs": [
    {
     "data": {
      "text/plain": [
       "DecisionTreeClassifier(random_state=42)"
      ]
     },
     "execution_count": 8,
     "metadata": {},
     "output_type": "execute_result"
    }
   ],
   "source": [
    "tree_clf = tree.DecisionTreeClassifier(random_state=42)\n",
    "tree_clf.fit(X_train, y_train)"
   ]
  },
  {
   "cell_type": "markdown",
   "id": "convinced-belfast",
   "metadata": {},
   "source": [
    "# Full tree classification report"
   ]
  },
  {
   "cell_type": "code",
   "execution_count": 9,
   "id": "convertible-oakland",
   "metadata": {},
   "outputs": [
    {
     "name": "stdout",
     "output_type": "stream",
     "text": [
      "Test dataset accuracy: 0.9559434746467166\n",
      "Confusion matrix:\n",
      "[[450   0   0   0   0   0]\n",
      " [  0 438  29   0   0   0]\n",
      " [  0  38 381   0   0   0]\n",
      " [  0   0   0 402   6  10]\n",
      " [  0   0   0   4 299   6]\n",
      " [  0   0   0   6   7 330]]\n",
      "Classification report:\n",
      "                    precision    recall  f1-score   support\n",
      "\n",
      "            LAYING       1.00      1.00      1.00       450\n",
      "           SITTING       0.92      0.94      0.93       467\n",
      "          STANDING       0.93      0.91      0.92       419\n",
      "           WALKING       0.98      0.96      0.97       418\n",
      "WALKING_DOWNSTAIRS       0.96      0.97      0.96       309\n",
      "  WALKING_UPSTAIRS       0.95      0.96      0.96       343\n",
      "\n",
      "          accuracy                           0.96      2406\n",
      "         macro avg       0.96      0.96      0.96      2406\n",
      "      weighted avg       0.96      0.96      0.96      2406\n",
      "\n"
     ]
    }
   ],
   "source": [
    "print(\"Test dataset accuracy:\", tree_clf.score(X_test, y_test))\n",
    "\n",
    "y_pred = tree_clf.predict(X_test)\n",
    "\n",
    "print(\"Confusion matrix:\")\n",
    "print(metrics.confusion_matrix(y_test, y_pred))\n",
    "\n",
    "print(\"Classification report:\")\n",
    "print(metrics.classification_report(y_test, y_pred))\n"
   ]
  },
  {
   "cell_type": "markdown",
   "id": "thirty-authentication",
   "metadata": {},
   "source": [
    "# Prunning tree"
   ]
  },
  {
   "cell_type": "code",
   "execution_count": 10,
   "id": "presidential-inside",
   "metadata": {},
   "outputs": [],
   "source": [
    "path = tree_clf.cost_complexity_pruning_path(X_train, y_train)\n",
    "ccp_alphas, impurities = path.ccp_alphas, path.impurities"
   ]
  },
  {
   "cell_type": "code",
   "execution_count": 11,
   "id": "failing-manitoba",
   "metadata": {},
   "outputs": [
    {
     "data": {
      "image/png": "[encoded data removed]",
      "text/plain": [
       "<Figure size 1080x360 with 1 Axes>"
      ]
     },
     "metadata": {
      "needs_background": "light"
     },
     "output_type": "display_data"
    }
   ],
   "source": [
    "fig, ax = plt.subplots(figsize=(15, 5))\n",
    "ax.plot(ccp_alphas, impurities, marker='o', drawstyle=\"steps-post\")\n",
    "ax.set_title(\"Tree total impurity due to ccp_alpha\")\n",
    "ax.set_xlabel(\"ccp_alpha\")\n",
    "ax.set_ylabel(\"impurity\")\n",
    "plt.show()"
   ]
  },
  {
   "cell_type": "code",
   "execution_count": 12,
   "id": "compact-conference",
   "metadata": {},
   "outputs": [
    {
     "name": "stderr",
     "output_type": "stream",
     "text": [
      "100%|██████████| 111/111 [05:42<00:00,  3.09s/it]\n"
     ]
    }
   ],
   "source": [
    "clfs = [\n",
    "    tree.DecisionTreeClassifier(random_state=42, ccp_alpha=ccp_alpha).fit(X_train, y_train)\n",
    "    for ccp_alpha in tqdm(ccp_alphas)\n",
    "]"
   ]
  },
  {
   "cell_type": "code",
   "execution_count": 13,
   "id": "dietary-hypothetical",
   "metadata": {},
   "outputs": [],
   "source": [
    "train_scores = [clf.score(X_train, y_train) for clf in clfs]\n",
    "test_scores = [clf.score(X_test, y_test) for clf in clfs]"
   ]
  },
  {
   "cell_type": "code",
   "execution_count": 14,
   "id": "circular-broad",
   "metadata": {},
   "outputs": [
    {
     "data": {
      "image/png": "[encoded data removed]",
      "text/plain": [
       "<Figure size 1080x720 with 1 Axes>"
      ]
     },
     "metadata": {
      "needs_background": "light"
     },
     "output_type": "display_data"
    }
   ],
   "source": [
    "fig, ax = plt.subplots(figsize=(15, 10))\n",
    "\n",
    "ax.plot(ccp_alphas, train_scores, marker='o', drawstyle=\"steps-post\", label=\"train score\")\n",
    "ax.plot(ccp_alphas, test_scores, marker='o', drawstyle=\"steps-post\", label=\"test score\")\n",
    "ax.set_title(\"Tree accuracy due to ccp_alpha\")\n",
    "ax.set_xlabel(\"ccp_alpha\")\n",
    "ax.set_ylabel(\"accuracy\")\n",
    "ax.legend()\n",
    "\n",
    "plt.show()"
   ]
  },
  {
   "cell_type": "code",
   "execution_count": 15,
   "id": "corrected-manner",
   "metadata": {},
   "outputs": [
    {
     "data": {
      "image/png": "[encoded data removed]",
      "text/plain": [
       "<Figure size 1080x720 with 1 Axes>"
      ]
     },
     "metadata": {
      "needs_background": "light"
     },
     "output_type": "display_data"
    }
   ],
   "source": [
    "fig, ax = plt.subplots(figsize=(15, 10))\n",
    "\n",
    "ax.plot(1 + np.arange(len(train_scores)), train_scores[::-1], marker='o', drawstyle=\"steps-post\", label=\"train score\")\n",
    "ax.plot(1 + np.arange(len(test_scores)), test_scores[::-1], marker='o', drawstyle=\"steps-post\", label=\"test score\")\n",
    "\n",
    "ax.set_title(\"Tree accuracy due to number of nodes\")\n",
    "ax.set_ylabel(\"accuracy\")\n",
    "ax.set_xlabel(\"n_nodes\")\n",
    "ax.legend()\n",
    "\n",
    "plt.show()"
   ]
  },
  {
   "cell_type": "markdown",
   "id": "blocked-booking",
   "metadata": {},
   "source": [
    "# Prunned decision tree"
   ]
  },
  {
   "cell_type": "code",
   "execution_count": 16,
   "id": "changed-crime",
   "metadata": {},
   "outputs": [
    {
     "data": {
      "text/plain": [
       "DecisionTreeClassifier(ccp_alpha=0.0165868593536087, random_state=42)"
      ]
     },
     "execution_count": 16,
     "metadata": {},
     "output_type": "execute_result"
    }
   ],
   "source": [
    "selected_alpha = ccp_alphas[-6]\n",
    "selected_alpha\n",
    "\n",
    "prunned_tree_clf = tree.DecisionTreeClassifier(random_state=42, ccp_alpha=selected_alpha)\n",
    "prunned_tree_clf.fit(X_train, y_train)"
   ]
  },
  {
   "cell_type": "markdown",
   "id": "vanilla-forth",
   "metadata": {},
   "source": [
    "# Prunned tree classification insight"
   ]
  },
  {
   "cell_type": "code",
   "execution_count": 17,
   "id": "sought-license",
   "metadata": {},
   "outputs": [
    {
     "name": "stdout",
     "output_type": "stream",
     "text": [
      "Train dataset accuracy: 0.901773344416736\n",
      "\n",
      "Test dataset accuracy: 0.9164588528678305\n",
      "\n",
      "Train dataset confusion matrix:\n",
      "\n",
      "[[1371    0    0    0    0    0]\n",
      " [   0 1179  143    0    0    0]\n",
      " [   0  195 1139    0    0    0]\n",
      " [   0    0    0 1160   48   26]\n",
      " [   0    0    0   94  788   49]\n",
      " [   0    0    0  109   45  872]]\n",
      "\n",
      "Train dataset classification report:\n",
      "\n",
      "                    precision    recall  f1-score   support\n",
      "\n",
      "            LAYING       1.00      1.00      1.00      1371\n",
      "           SITTING       0.86      0.89      0.87      1322\n",
      "          STANDING       0.89      0.85      0.87      1334\n",
      "           WALKING       0.85      0.94      0.89      1234\n",
      "WALKING_DOWNSTAIRS       0.89      0.85      0.87       931\n",
      "  WALKING_UPSTAIRS       0.92      0.85      0.88      1026\n",
      "\n",
      "          accuracy                           0.90      7218\n",
      "         macro avg       0.90      0.90      0.90      7218\n",
      "      weighted avg       0.90      0.90      0.90      7218\n",
      "\n",
      "\n",
      "Test dataset confusion matrix:\n",
      "\n",
      "[[450   0   0   0   0   0]\n",
      " [  0 427  40   0   0   0]\n",
      " [  0  59 360   0   0   0]\n",
      " [  0   0   0 397  11  10]\n",
      " [  0   0   0  25 270  14]\n",
      " [  0   0   0  28  14 301]]\n",
      "\n",
      "Test dataset classification report:\n",
      "\n",
      "                    precision    recall  f1-score   support\n",
      "\n",
      "            LAYING       1.00      1.00      1.00       450\n",
      "           SITTING       0.88      0.91      0.90       467\n",
      "          STANDING       0.90      0.86      0.88       419\n",
      "           WALKING       0.88      0.95      0.91       418\n",
      "WALKING_DOWNSTAIRS       0.92      0.87      0.89       309\n",
      "  WALKING_UPSTAIRS       0.93      0.88      0.90       343\n",
      "\n",
      "          accuracy                           0.92      2406\n",
      "         macro avg       0.92      0.91      0.91      2406\n",
      "      weighted avg       0.92      0.92      0.92      2406\n",
      "\n",
      "\n"
     ]
    }
   ],
   "source": [
    "from functools import partial\n",
    "print = partial(print, end=2*\"\\n\")\n",
    "\n",
    "print(\"Train dataset accuracy:\", prunned_tree_clf.score(X_train, y_train))\n",
    "print(\"Test dataset accuracy:\", prunned_tree_clf.score(X_test, y_test))\n",
    "\n",
    "y_pred = prunned_tree_clf.predict(X_test)\n",
    "y_train_pred = prunned_tree_clf.predict(X_train)\n",
    "\n",
    "print(\"Train dataset confusion matrix:\")\n",
    "print(metrics.confusion_matrix(y_train, y_train_pred))\n",
    "\n",
    "print(\"Train dataset classification report:\")\n",
    "print(metrics.classification_report(y_train, y_train_pred))\n",
    "\n",
    "print(\"Test dataset confusion matrix:\")\n",
    "print(metrics.confusion_matrix(y_test, y_pred))\n",
    "\n",
    "print(\"Test dataset classification report:\")\n",
    "print(metrics.classification_report(y_test, y_pred))"
   ]
  },
  {
   "cell_type": "markdown",
   "id": "familiar-hanging",
   "metadata": {},
   "source": [
    "# Prunned tree visualisation"
   ]
  },
  {
   "cell_type": "code",
   "execution_count": 18,
   "id": "invalid-canyon",
   "metadata": {},
   "outputs": [
    {
     "data": {
      "image/svg+xml": [
       "<?xml version=\"1.0\" encoding=\"UTF-8\" standalone=\"no\"?>\n",
       "<!DOCTYPE svg PUBLIC \"-//W3C//DTD SVG 1.1//EN\"\n",
       " \"http://www.w3.org/Graphics/SVG/1.1/DTD/svg11.dtd\">\n",
       "<!-- Generated by graphviz version 2.43.0 (0)\n",
       " -->\n",
       "<!-- Title: Tree Pages: 1 -->\n",
       "<svg width=\"821pt\" height=\"477pt\"\n",
       " viewBox=\"0.00 0.00 820.50 477.00\" xmlns=\"http://www.w3.org/2000/svg\" xmlns:xlink=\"http://www.w3.org/1999/xlink\">\n",
       "<g id=\"graph0\" class=\"graph\" transform=\"scale(1 1) rotate(0) translate(4 473)\">\n",
       "<title>Tree</title>\n",
       "<polygon fill=\"white\" stroke=\"transparent\" points=\"-4,4 -4,-473 816.5,-473 816.5,4 -4,4\"/>\n",
       "<!-- 0 -->\n",
       "<g id=\"node1\" class=\"node\">\n",
       "<title>0</title>\n",
       "<path fill=\"#fffefe\" stroke=\"black\" d=\"M672.5,-469C672.5,-469 417.5,-469 417.5,-469 411.5,-469 405.5,-463 405.5,-457 405.5,-457 405.5,-413 405.5,-413 405.5,-407 411.5,-401 417.5,-401 417.5,-401 672.5,-401 672.5,-401 678.5,-401 684.5,-407 684.5,-413 684.5,-413 684.5,-457 684.5,-457 684.5,-463 678.5,-469 672.5,-469\"/>\n",
       "<text text-anchor=\"middle\" x=\"545\" y=\"-453.8\" font-family=\"Helvetica,sans-Serif\" font-size=\"14.00\">angle(X,gravityMean) &lt;= &#45;1.553</text>\n",
       "<text text-anchor=\"middle\" x=\"545\" y=\"-438.8\" font-family=\"Helvetica,sans-Serif\" font-size=\"14.00\">7218</text>\n",
       "<text text-anchor=\"middle\" x=\"545\" y=\"-423.8\" font-family=\"Helvetica,sans-Serif\" font-size=\"14.00\">[1371, 1322, 1334, 1234, 931, 1026]</text>\n",
       "<text text-anchor=\"middle\" x=\"545\" y=\"-408.8\" font-family=\"Helvetica,sans-Serif\" font-size=\"14.00\">LAYING</text>\n",
       "</g>\n",
       "<!-- 1 -->\n",
       "<g id=\"node2\" class=\"node\">\n",
       "<title>1</title>\n",
       "<path fill=\"#feffff\" stroke=\"black\" d=\"M568.5,-365C568.5,-365 261.5,-365 261.5,-365 255.5,-365 249.5,-359 249.5,-353 249.5,-353 249.5,-309 249.5,-309 249.5,-303 255.5,-297 261.5,-297 261.5,-297 568.5,-297 568.5,-297 574.5,-297 580.5,-303 580.5,-309 580.5,-309 580.5,-353 580.5,-353 580.5,-359 574.5,-365 568.5,-365\"/>\n",
       "<text text-anchor=\"middle\" x=\"415\" y=\"-349.8\" font-family=\"Helvetica,sans-Serif\" font-size=\"14.00\">fBodyAccJerk&#45;bandsEnergy()&#45;1,16 &lt;= &#45;0.258</text>\n",
       "<text text-anchor=\"middle\" x=\"415\" y=\"-334.8\" font-family=\"Helvetica,sans-Serif\" font-size=\"14.00\">5847</text>\n",
       "<text text-anchor=\"middle\" x=\"415\" y=\"-319.8\" font-family=\"Helvetica,sans-Serif\" font-size=\"14.00\">[0, 1322, 1334, 1234, 931, 1026]</text>\n",
       "<text text-anchor=\"middle\" x=\"415\" y=\"-304.8\" font-family=\"Helvetica,sans-Serif\" font-size=\"14.00\">STANDING</text>\n",
       "</g>\n",
       "<!-- 0&#45;&gt;1 -->\n",
       "<g id=\"edge1\" class=\"edge\">\n",
       "<title>0&#45;&gt;1</title>\n",
       "<path fill=\"none\" stroke=\"black\" d=\"M502.79,-400.88C490.87,-391.53 477.78,-381.26 465.43,-371.57\"/>\n",
       "<polygon fill=\"black\" stroke=\"black\" points=\"467.47,-368.72 457.44,-365.3 463.15,-374.23 467.47,-368.72\"/>\n",
       "<text text-anchor=\"middle\" x=\"460.44\" y=\"-386.42\" font-family=\"Helvetica,sans-Serif\" font-size=\"14.00\">True</text>\n",
       "</g>\n",
       "<!-- 10 -->\n",
       "<g id=\"node11\" class=\"node\">\n",
       "<title>10</title>\n",
       "<path fill=\"#e58139\" stroke=\"black\" d=\"M739.5,-357.5C739.5,-357.5 610.5,-357.5 610.5,-357.5 604.5,-357.5 598.5,-351.5 598.5,-345.5 598.5,-345.5 598.5,-316.5 598.5,-316.5 598.5,-310.5 604.5,-304.5 610.5,-304.5 610.5,-304.5 739.5,-304.5 739.5,-304.5 745.5,-304.5 751.5,-310.5 751.5,-316.5 751.5,-316.5 751.5,-345.5 751.5,-345.5 751.5,-351.5 745.5,-357.5 739.5,-357.5\"/>\n",
       "<text text-anchor=\"middle\" x=\"675\" y=\"-342.3\" font-family=\"Helvetica,sans-Serif\" font-size=\"14.00\">1371</text>\n",
       "<text text-anchor=\"middle\" x=\"675\" y=\"-327.3\" font-family=\"Helvetica,sans-Serif\" font-size=\"14.00\">[1371, 0, 0, 0, 0, 0]</text>\n",
       "<text text-anchor=\"middle\" x=\"675\" y=\"-312.3\" font-family=\"Helvetica,sans-Serif\" font-size=\"14.00\">LAYING</text>\n",
       "</g>\n",
       "<!-- 0&#45;&gt;10 -->\n",
       "<g id=\"edge10\" class=\"edge\">\n",
       "<title>0&#45;&gt;10</title>\n",
       "<path fill=\"none\" stroke=\"black\" d=\"M587.21,-400.88C602.35,-389.01 619.37,-375.65 634.37,-363.88\"/>\n",
       "<polygon fill=\"black\" stroke=\"black\" points=\"636.77,-366.45 642.47,-357.52 632.45,-360.94 636.77,-366.45\"/>\n",
       "<text text-anchor=\"middle\" x=\"639.48\" y=\"-378.64\" font-family=\"Helvetica,sans-Serif\" font-size=\"14.00\">False</text>\n",
       "</g>\n",
       "<!-- 2 -->\n",
       "<g id=\"node3\" class=\"node\">\n",
       "<title>2</title>\n",
       "<path fill=\"#ecf6fd\" stroke=\"black\" d=\"M402.5,-261C402.5,-261 157.5,-261 157.5,-261 151.5,-261 145.5,-255 145.5,-249 145.5,-249 145.5,-205 145.5,-205 145.5,-199 151.5,-193 157.5,-193 157.5,-193 402.5,-193 402.5,-193 408.5,-193 414.5,-199 414.5,-205 414.5,-205 414.5,-249 414.5,-249 414.5,-255 408.5,-261 402.5,-261\"/>\n",
       "<text text-anchor=\"middle\" x=\"280\" y=\"-245.8\" font-family=\"Helvetica,sans-Serif\" font-size=\"14.00\">tGravityAcc&#45;arCoeff()&#45;Z,2 &lt;= &#45;2.404</text>\n",
       "<text text-anchor=\"middle\" x=\"280\" y=\"-230.8\" font-family=\"Helvetica,sans-Serif\" font-size=\"14.00\">3191</text>\n",
       "<text text-anchor=\"middle\" x=\"280\" y=\"-215.8\" font-family=\"Helvetica,sans-Serif\" font-size=\"14.00\">[0, 0, 0, 1234, 931, 1026]</text>\n",
       "<text text-anchor=\"middle\" x=\"280\" y=\"-200.8\" font-family=\"Helvetica,sans-Serif\" font-size=\"14.00\">WALKING</text>\n",
       "</g>\n",
       "<!-- 1&#45;&gt;2 -->\n",
       "<g id=\"edge2\" class=\"edge\">\n",
       "<title>1&#45;&gt;2</title>\n",
       "<path fill=\"none\" stroke=\"black\" d=\"M371.17,-296.88C358.79,-287.53 345.2,-277.26 332.37,-267.57\"/>\n",
       "<polygon fill=\"black\" stroke=\"black\" points=\"334.16,-264.54 324.07,-261.3 329.94,-270.12 334.16,-264.54\"/>\n",
       "</g>\n",
       "<!-- 7 -->\n",
       "<g id=\"node8\" class=\"node\">\n",
       "<title>7</title>\n",
       "<path fill=\"#fdfffe\" stroke=\"black\" d=\"M657,-261C657,-261 445,-261 445,-261 439,-261 433,-255 433,-249 433,-249 433,-205 433,-205 433,-199 439,-193 445,-193 445,-193 657,-193 657,-193 663,-193 669,-199 669,-205 669,-205 669,-249 669,-249 669,-255 663,-261 657,-261\"/>\n",
       "<text text-anchor=\"middle\" x=\"551\" y=\"-245.8\" font-family=\"Helvetica,sans-Serif\" font-size=\"14.00\">tGravityAcc&#45;mean()&#45;Y &lt;= 2.684</text>\n",
       "<text text-anchor=\"middle\" x=\"551\" y=\"-230.8\" font-family=\"Helvetica,sans-Serif\" font-size=\"14.00\">2656</text>\n",
       "<text text-anchor=\"middle\" x=\"551\" y=\"-215.8\" font-family=\"Helvetica,sans-Serif\" font-size=\"14.00\">[0, 1322, 1334, 0, 0, 0]</text>\n",
       "<text text-anchor=\"middle\" x=\"551\" y=\"-200.8\" font-family=\"Helvetica,sans-Serif\" font-size=\"14.00\">STANDING</text>\n",
       "</g>\n",
       "<!-- 1&#45;&gt;7 -->\n",
       "<g id=\"edge7\" class=\"edge\">\n",
       "<title>1&#45;&gt;7</title>\n",
       "<path fill=\"none\" stroke=\"black\" d=\"M459.16,-296.88C471.63,-287.53 485.32,-277.26 498.24,-267.57\"/>\n",
       "<polygon fill=\"black\" stroke=\"black\" points=\"500.7,-270.1 506.6,-261.3 496.5,-264.5 500.7,-270.1\"/>\n",
       "</g>\n",
       "<!-- 3 -->\n",
       "<g id=\"node4\" class=\"node\">\n",
       "<title>3</title>\n",
       "<path fill=\"#e74aa5\" stroke=\"black\" d=\"M150,-149.5C150,-149.5 12,-149.5 12,-149.5 6,-149.5 0,-143.5 0,-137.5 0,-137.5 0,-108.5 0,-108.5 0,-102.5 6,-96.5 12,-96.5 12,-96.5 150,-96.5 150,-96.5 156,-96.5 162,-102.5 162,-108.5 162,-108.5 162,-137.5 162,-137.5 162,-143.5 156,-149.5 150,-149.5\"/>\n",
       "<text text-anchor=\"middle\" x=\"81\" y=\"-134.3\" font-family=\"Helvetica,sans-Serif\" font-size=\"14.00\">947</text>\n",
       "<text text-anchor=\"middle\" x=\"81\" y=\"-119.3\" font-family=\"Helvetica,sans-Serif\" font-size=\"14.00\">[0, 0, 0, 26, 49, 872]</text>\n",
       "<text text-anchor=\"middle\" x=\"81\" y=\"-104.3\" font-family=\"Helvetica,sans-Serif\" font-size=\"14.00\">WALKING_UPSTAIRS</text>\n",
       "</g>\n",
       "<!-- 2&#45;&gt;3 -->\n",
       "<g id=\"edge3\" class=\"edge\">\n",
       "<title>2&#45;&gt;3</title>\n",
       "<path fill=\"none\" stroke=\"black\" d=\"M215.39,-192.88C191.04,-180.4 163.49,-166.28 139.71,-154.09\"/>\n",
       "<polygon fill=\"black\" stroke=\"black\" points=\"141.28,-150.97 130.79,-149.52 138.09,-157.2 141.28,-150.97\"/>\n",
       "</g>\n",
       "<!-- 4 -->\n",
       "<g id=\"node5\" class=\"node\">\n",
       "<title>4</title>\n",
       "<path fill=\"#d0e8f9\" stroke=\"black\" d=\"M395.5,-157C395.5,-157 192.5,-157 192.5,-157 186.5,-157 180.5,-151 180.5,-145 180.5,-145 180.5,-101 180.5,-101 180.5,-95 186.5,-89 192.5,-89 192.5,-89 395.5,-89 395.5,-89 401.5,-89 407.5,-95 407.5,-101 407.5,-101 407.5,-145 407.5,-145 407.5,-151 401.5,-157 395.5,-157\"/>\n",
       "<text text-anchor=\"middle\" x=\"294\" y=\"-141.8\" font-family=\"Helvetica,sans-Serif\" font-size=\"14.00\">fBodyAccMag&#45;std() &lt;= &#45;2.421</text>\n",
       "<text text-anchor=\"middle\" x=\"294\" y=\"-126.8\" font-family=\"Helvetica,sans-Serif\" font-size=\"14.00\">2244</text>\n",
       "<text text-anchor=\"middle\" x=\"294\" y=\"-111.8\" font-family=\"Helvetica,sans-Serif\" font-size=\"14.00\">[0, 0, 0, 1208, 882, 154]</text>\n",
       "<text text-anchor=\"middle\" x=\"294\" y=\"-96.8\" font-family=\"Helvetica,sans-Serif\" font-size=\"14.00\">WALKING</text>\n",
       "</g>\n",
       "<!-- 2&#45;&gt;4 -->\n",
       "<g id=\"edge4\" class=\"edge\">\n",
       "<title>2&#45;&gt;4</title>\n",
       "<path fill=\"none\" stroke=\"black\" d=\"M284.55,-192.88C285.66,-184.78 286.87,-175.98 288.03,-167.47\"/>\n",
       "<polygon fill=\"black\" stroke=\"black\" points=\"291.54,-167.68 289.43,-157.3 284.6,-166.73 291.54,-167.68\"/>\n",
       "</g>\n",
       "<!-- 5 -->\n",
       "<g id=\"node6\" class=\"node\">\n",
       "<title>5</title>\n",
       "<path fill=\"#8f4fe8\" stroke=\"black\" d=\"M273.5,-53C273.5,-53 114.5,-53 114.5,-53 108.5,-53 102.5,-47 102.5,-41 102.5,-41 102.5,-12 102.5,-12 102.5,-6 108.5,0 114.5,0 114.5,0 273.5,0 273.5,0 279.5,0 285.5,-6 285.5,-12 285.5,-12 285.5,-41 285.5,-41 285.5,-47 279.5,-53 273.5,-53\"/>\n",
       "<text text-anchor=\"middle\" x=\"194\" y=\"-37.8\" font-family=\"Helvetica,sans-Serif\" font-size=\"14.00\">881</text>\n",
       "<text text-anchor=\"middle\" x=\"194\" y=\"-22.8\" font-family=\"Helvetica,sans-Serif\" font-size=\"14.00\">[0, 0, 0, 48, 788, 45]</text>\n",
       "<text text-anchor=\"middle\" x=\"194\" y=\"-7.8\" font-family=\"Helvetica,sans-Serif\" font-size=\"14.00\">WALKING_DOWNSTAIRS</text>\n",
       "</g>\n",
       "<!-- 4&#45;&gt;5 -->\n",
       "<g id=\"edge5\" class=\"edge\">\n",
       "<title>4&#45;&gt;5</title>\n",
       "<path fill=\"none\" stroke=\"black\" d=\"M259.02,-88.95C249.15,-79.62 238.41,-69.47 228.57,-60.16\"/>\n",
       "<polygon fill=\"black\" stroke=\"black\" points=\"230.91,-57.56 221.23,-53.24 226.1,-62.65 230.91,-57.56\"/>\n",
       "</g>\n",
       "<!-- 6 -->\n",
       "<g id=\"node7\" class=\"node\">\n",
       "<title>6</title>\n",
       "<path fill=\"#59ade9\" stroke=\"black\" d=\"M472,-53C472,-53 316,-53 316,-53 310,-53 304,-47 304,-41 304,-41 304,-12 304,-12 304,-6 310,0 316,0 316,0 472,0 472,0 478,0 484,-6 484,-12 484,-12 484,-41 484,-41 484,-47 478,-53 472,-53\"/>\n",
       "<text text-anchor=\"middle\" x=\"394\" y=\"-37.8\" font-family=\"Helvetica,sans-Serif\" font-size=\"14.00\">1363</text>\n",
       "<text text-anchor=\"middle\" x=\"394\" y=\"-22.8\" font-family=\"Helvetica,sans-Serif\" font-size=\"14.00\">[0, 0, 0, 1160, 94, 109]</text>\n",
       "<text text-anchor=\"middle\" x=\"394\" y=\"-7.8\" font-family=\"Helvetica,sans-Serif\" font-size=\"14.00\">WALKING</text>\n",
       "</g>\n",
       "<!-- 4&#45;&gt;6 -->\n",
       "<g id=\"edge6\" class=\"edge\">\n",
       "<title>4&#45;&gt;6</title>\n",
       "<path fill=\"none\" stroke=\"black\" d=\"M328.98,-88.95C338.85,-79.62 349.59,-69.47 359.43,-60.16\"/>\n",
       "<polygon fill=\"black\" stroke=\"black\" points=\"361.9,-62.65 366.77,-53.24 357.09,-57.56 361.9,-62.65\"/>\n",
       "</g>\n",
       "<!-- 8 -->\n",
       "<g id=\"node9\" class=\"node\">\n",
       "<title>8</title>\n",
       "<path fill=\"#ade95a\" stroke=\"black\" d=\"M611.5,-149.5C611.5,-149.5 464.5,-149.5 464.5,-149.5 458.5,-149.5 452.5,-143.5 452.5,-137.5 452.5,-137.5 452.5,-108.5 452.5,-108.5 452.5,-102.5 458.5,-96.5 464.5,-96.5 464.5,-96.5 611.5,-96.5 611.5,-96.5 617.5,-96.5 623.5,-102.5 623.5,-108.5 623.5,-108.5 623.5,-137.5 623.5,-137.5 623.5,-143.5 617.5,-149.5 611.5,-149.5\"/>\n",
       "<text text-anchor=\"middle\" x=\"538\" y=\"-134.3\" font-family=\"Helvetica,sans-Serif\" font-size=\"14.00\">1374</text>\n",
       "<text text-anchor=\"middle\" x=\"538\" y=\"-119.3\" font-family=\"Helvetica,sans-Serif\" font-size=\"14.00\">[0, 1179, 195, 0, 0, 0]</text>\n",
       "<text text-anchor=\"middle\" x=\"538\" y=\"-104.3\" font-family=\"Helvetica,sans-Serif\" font-size=\"14.00\">SITTING</text>\n",
       "</g>\n",
       "<!-- 7&#45;&gt;8 -->\n",
       "<g id=\"edge8\" class=\"edge\">\n",
       "<title>7&#45;&gt;8</title>\n",
       "<path fill=\"none\" stroke=\"black\" d=\"M546.78,-192.88C545.42,-182.22 543.91,-170.35 542.53,-159.52\"/>\n",
       "<polygon fill=\"black\" stroke=\"black\" points=\"545.99,-159 541.25,-149.52 539.04,-159.88 545.99,-159\"/>\n",
       "</g>\n",
       "<!-- 9 -->\n",
       "<g id=\"node10\" class=\"node\">\n",
       "<title>9</title>\n",
       "<path fill=\"#52e891\" stroke=\"black\" d=\"M800.5,-149.5C800.5,-149.5 653.5,-149.5 653.5,-149.5 647.5,-149.5 641.5,-143.5 641.5,-137.5 641.5,-137.5 641.5,-108.5 641.5,-108.5 641.5,-102.5 647.5,-96.5 653.5,-96.5 653.5,-96.5 800.5,-96.5 800.5,-96.5 806.5,-96.5 812.5,-102.5 812.5,-108.5 812.5,-108.5 812.5,-137.5 812.5,-137.5 812.5,-143.5 806.5,-149.5 800.5,-149.5\"/>\n",
       "<text text-anchor=\"middle\" x=\"727\" y=\"-134.3\" font-family=\"Helvetica,sans-Serif\" font-size=\"14.00\">1282</text>\n",
       "<text text-anchor=\"middle\" x=\"727\" y=\"-119.3\" font-family=\"Helvetica,sans-Serif\" font-size=\"14.00\">[0, 143, 1139, 0, 0, 0]</text>\n",
       "<text text-anchor=\"middle\" x=\"727\" y=\"-104.3\" font-family=\"Helvetica,sans-Serif\" font-size=\"14.00\">STANDING</text>\n",
       "</g>\n",
       "<!-- 7&#45;&gt;9 -->\n",
       "<g id=\"edge9\" class=\"edge\">\n",
       "<title>7&#45;&gt;9</title>\n",
       "<path fill=\"none\" stroke=\"black\" d=\"M608.14,-192.88C629.4,-180.57 653.4,-166.65 674.24,-154.57\"/>\n",
       "<polygon fill=\"black\" stroke=\"black\" points=\"676.07,-157.56 682.97,-149.52 672.56,-151.51 676.07,-157.56\"/>\n",
       "</g>\n",
       "</g>\n",
       "</svg>\n"
      ],
      "text/plain": [
       "<graphviz.files.Source at 0x7f69630c45e0>"
      ]
     },
     "execution_count": 18,
     "metadata": {},
     "output_type": "execute_result"
    }
   ],
   "source": [
    "dot_data = tree.export_graphviz(\n",
    "    prunned_tree_clf,\n",
    "    feature_names=X.columns,\n",
    "    class_names=prunned_tree_clf.classes_,\n",
    "    label=\"none\",\n",
    "    filled=True,\n",
    "    impurity=False,\n",
    "    rounded=True\n",
    ")\n",
    "graph = graphviz.Source(dot_data)\n",
    "graph.render(\"prunned_tree\", directory=PATH, format=\"pdf\")\n",
    "graph"
   ]
  },
  {
   "cell_type": "markdown",
   "id": "bound-volleyball",
   "metadata": {},
   "source": [
    "# Saving prunned tree"
   ]
  },
  {
   "cell_type": "code",
   "execution_count": 19,
   "id": "civil-passenger",
   "metadata": {},
   "outputs": [
    {
     "data": {
      "text/plain": [
       "['results/prunned_tree/prunned_tree.joblib']"
      ]
     },
     "execution_count": 19,
     "metadata": {},
     "output_type": "execute_result"
    }
   ],
   "source": [
    "joblib.dump(prunned_tree_clf, PATH / \"prunned_tree.joblib\")"
   ]
  }
 ],
 "metadata": {
  "kernelspec": {
   "display_name": "Python 3",
   "language": "python",
   "name": "python3"
  },
  "language_info": {
   "codemirror_mode": {
    "name": "ipython",
    "version": 3
   },
   "file_extension": ".py",
   "mimetype": "text/x-python",
   "name": "python",
   "nbconvert_exporter": "python",
   "pygments_lexer": "ipython3",
   "version": "3.8.5"
  }
 },
 "nbformat": 4,
 "nbformat_minor": 5
}
