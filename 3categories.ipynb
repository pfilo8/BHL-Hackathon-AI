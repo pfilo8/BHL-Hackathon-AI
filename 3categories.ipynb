{
 "cells": [
  {
   "cell_type": "code",
   "execution_count": 1,
   "id": "extended-librarian",
   "metadata": {},
   "outputs": [],
   "source": [
    "from pathlib import Path\n",
    "\n",
    "import joblib\n",
    "import graphviz\n",
    "import matplotlib.pyplot as plt\n",
    "import pandas as pd\n",
    "from tqdm import tqdm\n",
    "\n",
    "from sklearn import metrics\n",
    "from sklearn import model_selection\n",
    "from sklearn import tree"
   ]
  },
  {
   "cell_type": "code",
   "execution_count": 2,
   "id": "honest-protest",
   "metadata": {},
   "outputs": [],
   "source": [
    "PATH = Path(\"results/3cat\")\n",
    "PATH.mkdir(exist_ok=True)"
   ]
  },
  {
   "cell_type": "code",
   "execution_count": 3,
   "id": "ruled-courtesy",
   "metadata": {},
   "outputs": [
    {
     "data": {
      "text/html": [
       "<div>\n",
       "<style scoped>\n",
       "    .dataframe tbody tr th:only-of-type {\n",
       "        vertical-align: middle;\n",
       "    }\n",
       "\n",
       "    .dataframe tbody tr th {\n",
       "        vertical-align: top;\n",
       "    }\n",
       "\n",
       "    .dataframe thead th {\n",
       "        text-align: right;\n",
       "    }\n",
       "</style>\n",
       "<table border=\"1\" class=\"dataframe\">\n",
       "  <thead>\n",
       "    <tr style=\"text-align: right;\">\n",
       "      <th></th>\n",
       "      <th>Activity</th>\n",
       "      <th>angle(X,gravityMean)</th>\n",
       "      <th>angle(Y,gravityMean)</th>\n",
       "      <th>angle(Z,gravityMean)</th>\n",
       "      <th>angle(tBodyAccJerkMean),gravityMean)</th>\n",
       "      <th>angle(tBodyAccMean,gravity)</th>\n",
       "      <th>angle(tBodyGyroJerkMean,gravityMean)</th>\n",
       "      <th>angle(tBodyGyroMean,gravityMean)</th>\n",
       "      <th>energy-mean()</th>\n",
       "      <th>fBodyAcc-bandsEnergy()-1,16</th>\n",
       "      <th>...</th>\n",
       "      <th>tGravityAccMag-energy()</th>\n",
       "      <th>tGravityAccMag-entropy()</th>\n",
       "      <th>tGravityAccMag-iqr()</th>\n",
       "      <th>tGravityAccMag-mad()</th>\n",
       "      <th>tGravityAccMag-max()</th>\n",
       "      <th>tGravityAccMag-mean()</th>\n",
       "      <th>tGravityAccMag-min()</th>\n",
       "      <th>tGravityAccMag-sma()</th>\n",
       "      <th>tGravityAccMag-std()</th>\n",
       "      <th>void()</th>\n",
       "    </tr>\n",
       "  </thead>\n",
       "  <tbody>\n",
       "    <tr>\n",
       "      <th>0</th>\n",
       "      <td>STANDING</td>\n",
       "      <td>-1.574191</td>\n",
       "      <td>-0.805700</td>\n",
       "      <td>-2.453831</td>\n",
       "      <td>-1.861714</td>\n",
       "      <td>0.115517</td>\n",
       "      <td>-2.023369</td>\n",
       "      <td>3.125860</td>\n",
       "      <td>-9.474436</td>\n",
       "      <td>3.622600</td>\n",
       "      <td>...</td>\n",
       "      <td>5.049130</td>\n",
       "      <td>3.272281</td>\n",
       "      <td>5.103018</td>\n",
       "      <td>-0.823302</td>\n",
       "      <td>3.063681</td>\n",
       "      <td>-0.928676</td>\n",
       "      <td>-1.007695</td>\n",
       "      <td>3.094236</td>\n",
       "      <td>1.669987</td>\n",
       "      <td>1.0</td>\n",
       "    </tr>\n",
       "    <tr>\n",
       "      <th>1</th>\n",
       "      <td>WALKING_UPSTAIRS</td>\n",
       "      <td>-1.568669</td>\n",
       "      <td>-0.612620</td>\n",
       "      <td>-2.488338</td>\n",
       "      <td>-1.751117</td>\n",
       "      <td>0.218134</td>\n",
       "      <td>0.280294</td>\n",
       "      <td>7.953403</td>\n",
       "      <td>-0.679894</td>\n",
       "      <td>2.512880</td>\n",
       "      <td>...</td>\n",
       "      <td>4.565443</td>\n",
       "      <td>4.440779</td>\n",
       "      <td>3.288399</td>\n",
       "      <td>-2.689605</td>\n",
       "      <td>1.705341</td>\n",
       "      <td>-0.822617</td>\n",
       "      <td>-0.572410</td>\n",
       "      <td>-2.187890</td>\n",
       "      <td>-0.544652</td>\n",
       "      <td>2.0</td>\n",
       "    </tr>\n",
       "    <tr>\n",
       "      <th>2</th>\n",
       "      <td>LAYING</td>\n",
       "      <td>-1.548333</td>\n",
       "      <td>-0.139628</td>\n",
       "      <td>-2.380889</td>\n",
       "      <td>-1.915239</td>\n",
       "      <td>0.067613</td>\n",
       "      <td>-0.887342</td>\n",
       "      <td>6.007361</td>\n",
       "      <td>-11.906904</td>\n",
       "      <td>3.621984</td>\n",
       "      <td>...</td>\n",
       "      <td>5.059609</td>\n",
       "      <td>2.296603</td>\n",
       "      <td>5.344174</td>\n",
       "      <td>-0.549843</td>\n",
       "      <td>3.272225</td>\n",
       "      <td>-0.940610</td>\n",
       "      <td>-1.031522</td>\n",
       "      <td>-2.071755</td>\n",
       "      <td>2.024442</td>\n",
       "      <td>3.0</td>\n",
       "    </tr>\n",
       "    <tr>\n",
       "      <th>3</th>\n",
       "      <td>WALKING</td>\n",
       "      <td>-1.574094</td>\n",
       "      <td>-0.793443</td>\n",
       "      <td>-2.449959</td>\n",
       "      <td>-1.842741</td>\n",
       "      <td>-0.195625</td>\n",
       "      <td>-0.950671</td>\n",
       "      <td>2.104353</td>\n",
       "      <td>-11.906121</td>\n",
       "      <td>3.355701</td>\n",
       "      <td>...</td>\n",
       "      <td>4.860758</td>\n",
       "      <td>4.177535</td>\n",
       "      <td>3.950012</td>\n",
       "      <td>-0.322642</td>\n",
       "      <td>2.366287</td>\n",
       "      <td>-0.866937</td>\n",
       "      <td>-0.696431</td>\n",
       "      <td>1.863375</td>\n",
       "      <td>0.550414</td>\n",
       "      <td>2.0</td>\n",
       "    </tr>\n",
       "    <tr>\n",
       "      <th>4</th>\n",
       "      <td>LAYING</td>\n",
       "      <td>-1.548333</td>\n",
       "      <td>-0.139628</td>\n",
       "      <td>-2.380889</td>\n",
       "      <td>NaN</td>\n",
       "      <td>0.067613</td>\n",
       "      <td>-0.887342</td>\n",
       "      <td>6.007361</td>\n",
       "      <td>-11.970485</td>\n",
       "      <td>3.621984</td>\n",
       "      <td>...</td>\n",
       "      <td>5.059609</td>\n",
       "      <td>2.296603</td>\n",
       "      <td>5.344174</td>\n",
       "      <td>-0.549843</td>\n",
       "      <td>3.272225</td>\n",
       "      <td>-0.940610</td>\n",
       "      <td>-1.031522</td>\n",
       "      <td>-2.102513</td>\n",
       "      <td>2.024442</td>\n",
       "      <td>3.0</td>\n",
       "    </tr>\n",
       "  </tbody>\n",
       "</table>\n",
       "<p>5 rows × 572 columns</p>\n",
       "</div>"
      ],
      "text/plain": [
       "           Activity  angle(X,gravityMean)  angle(Y,gravityMean)  \\\n",
       "0          STANDING             -1.574191             -0.805700   \n",
       "1  WALKING_UPSTAIRS             -1.568669             -0.612620   \n",
       "2            LAYING             -1.548333             -0.139628   \n",
       "3           WALKING             -1.574094             -0.793443   \n",
       "4            LAYING             -1.548333             -0.139628   \n",
       "\n",
       "   angle(Z,gravityMean)  angle(tBodyAccJerkMean),gravityMean)  \\\n",
       "0             -2.453831                             -1.861714   \n",
       "1             -2.488338                             -1.751117   \n",
       "2             -2.380889                             -1.915239   \n",
       "3             -2.449959                             -1.842741   \n",
       "4             -2.380889                                   NaN   \n",
       "\n",
       "   angle(tBodyAccMean,gravity)  angle(tBodyGyroJerkMean,gravityMean)  \\\n",
       "0                     0.115517                             -2.023369   \n",
       "1                     0.218134                              0.280294   \n",
       "2                     0.067613                             -0.887342   \n",
       "3                    -0.195625                             -0.950671   \n",
       "4                     0.067613                             -0.887342   \n",
       "\n",
       "   angle(tBodyGyroMean,gravityMean)  energy-mean()  \\\n",
       "0                          3.125860      -9.474436   \n",
       "1                          7.953403      -0.679894   \n",
       "2                          6.007361     -11.906904   \n",
       "3                          2.104353     -11.906121   \n",
       "4                          6.007361     -11.970485   \n",
       "\n",
       "   fBodyAcc-bandsEnergy()-1,16  ...  tGravityAccMag-energy()  \\\n",
       "0                     3.622600  ...                 5.049130   \n",
       "1                     2.512880  ...                 4.565443   \n",
       "2                     3.621984  ...                 5.059609   \n",
       "3                     3.355701  ...                 4.860758   \n",
       "4                     3.621984  ...                 5.059609   \n",
       "\n",
       "   tGravityAccMag-entropy()  tGravityAccMag-iqr()  tGravityAccMag-mad()  \\\n",
       "0                  3.272281              5.103018             -0.823302   \n",
       "1                  4.440779              3.288399             -2.689605   \n",
       "2                  2.296603              5.344174             -0.549843   \n",
       "3                  4.177535              3.950012             -0.322642   \n",
       "4                  2.296603              5.344174             -0.549843   \n",
       "\n",
       "   tGravityAccMag-max()  tGravityAccMag-mean()  tGravityAccMag-min()  \\\n",
       "0              3.063681              -0.928676             -1.007695   \n",
       "1              1.705341              -0.822617             -0.572410   \n",
       "2              3.272225              -0.940610             -1.031522   \n",
       "3              2.366287              -0.866937             -0.696431   \n",
       "4              3.272225              -0.940610             -1.031522   \n",
       "\n",
       "   tGravityAccMag-sma()  tGravityAccMag-std()  void()  \n",
       "0              3.094236              1.669987     1.0  \n",
       "1             -2.187890             -0.544652     2.0  \n",
       "2             -2.071755              2.024442     3.0  \n",
       "3              1.863375              0.550414     2.0  \n",
       "4             -2.102513              2.024442     3.0  \n",
       "\n",
       "[5 rows x 572 columns]"
      ]
     },
     "execution_count": 3,
     "metadata": {},
     "output_type": "execute_result"
    }
   ],
   "source": [
    "df = pd.read_csv(\"data/final_train.csv\", index_col=0)\n",
    "df.head()"
   ]
  },
  {
   "cell_type": "code",
   "execution_count": 4,
   "id": "great-blair",
   "metadata": {},
   "outputs": [],
   "source": [
    "df = df.drop(columns=[\"subject\", \"void()\"])\n",
    "df = df.dropna()"
   ]
  },
  {
   "cell_type": "code",
   "execution_count": 5,
   "id": "amateur-queen",
   "metadata": {},
   "outputs": [
    {
     "data": {
      "text/plain": [
       "((9624, 569), (9624,))"
      ]
     },
     "execution_count": 5,
     "metadata": {},
     "output_type": "execute_result"
    }
   ],
   "source": [
    "y = df[\"Activity\"]\n",
    "X = df.drop(columns=[\"Activity\"])\n",
    "X.shape, y.shape"
   ]
  },
  {
   "cell_type": "code",
   "execution_count": 6,
   "id": "valid-berlin",
   "metadata": {},
   "outputs": [
    {
     "name": "stderr",
     "output_type": "stream",
     "text": [
      "/home/jdworzans/.local/lib/python3.8/site-packages/pandas/core/indexing.py:1637: SettingWithCopyWarning: \n",
      "A value is trying to be set on a copy of a slice from a DataFrame\n",
      "\n",
      "See the caveats in the documentation: https://pandas.pydata.org/pandas-docs/stable/user_guide/indexing.html#returning-a-view-versus-a-copy\n",
      "  self._setitem_single_block(indexer, value, name)\n"
     ]
    }
   ],
   "source": [
    "is_walking = y.str.startswith(\"WALKING\")\n",
    "is_sit_stand = y.isin([\"STANDING\", \"SITTING\"])\n",
    "\n",
    "y.loc[is_walking] = \"WALKING_ALL\"\n",
    "y.loc[is_sit_stand] = \"SIT/STAND\""
   ]
  },
  {
   "cell_type": "code",
   "execution_count": 7,
   "id": "ancient-slovenia",
   "metadata": {},
   "outputs": [
    {
     "data": {
      "text/plain": [
       "WALKING_ALL    4261\n",
       "SIT/STAND      3542\n",
       "LAYING         1821\n",
       "Name: Activity, dtype: int64"
      ]
     },
     "execution_count": 7,
     "metadata": {},
     "output_type": "execute_result"
    }
   ],
   "source": [
    "y.value_counts()"
   ]
  },
  {
   "cell_type": "code",
   "execution_count": 8,
   "id": "acoustic-harrison",
   "metadata": {},
   "outputs": [],
   "source": [
    "X_train, X_test, y_train, y_test = model_selection.train_test_split(X, y, test_size=0.2, random_state=42)"
   ]
  },
  {
   "cell_type": "code",
   "execution_count": 9,
   "id": "occupied-melbourne",
   "metadata": {},
   "outputs": [
    {
     "data": {
      "text/plain": [
       "DecisionTreeClassifier(random_state=42)"
      ]
     },
     "execution_count": 9,
     "metadata": {},
     "output_type": "execute_result"
    }
   ],
   "source": [
    "tree_clf = tree.DecisionTreeClassifier(random_state=42)\n",
    "tree_clf.fit(X_train, y_train)"
   ]
  },
  {
   "cell_type": "code",
   "execution_count": 10,
   "id": "assigned-stationery",
   "metadata": {},
   "outputs": [],
   "source": [
    "path = tree_clf.cost_complexity_pruning_path(X_train, y_train)\n",
    "ccp_alphas, impurities = path.ccp_alphas, path.impurities"
   ]
  },
  {
   "cell_type": "code",
   "execution_count": 11,
   "id": "continuing-casting",
   "metadata": {},
   "outputs": [
    {
     "data": {
      "image/png": "[encoded data removed]",
      "text/plain": [
       "<Figure size 1080x360 with 1 Axes>"
      ]
     },
     "metadata": {
      "needs_background": "light"
     },
     "output_type": "display_data"
    }
   ],
   "source": [
    "fig, ax = plt.subplots(figsize=(15, 5))\n",
    "ax.plot(ccp_alphas, impurities, marker='o', drawstyle=\"steps-post\")\n",
    "ax.set_xlabel(\"ccp_alpha\")\n",
    "ax.set_ylabel(\"impurity\")\n",
    "\n",
    "fig.savefig(PATH / \"impurity_vs_alpha.pdf\")\n",
    "\n",
    "plt.show()"
   ]
  },
  {
   "cell_type": "code",
   "execution_count": 12,
   "id": "private-quarterly",
   "metadata": {},
   "outputs": [
    {
     "name": "stderr",
     "output_type": "stream",
     "text": [
      "100%|██████████| 3/3 [00:01<00:00,  1.50it/s]\n"
     ]
    }
   ],
   "source": [
    "clfs = [\n",
    "    tree.DecisionTreeClassifier(random_state=42, ccp_alpha=ccp_alpha).fit(X_train, y_train)\n",
    "    for ccp_alpha in tqdm(ccp_alphas)\n",
    "]"
   ]
  },
  {
   "cell_type": "code",
   "execution_count": 13,
   "id": "european-myanmar",
   "metadata": {},
   "outputs": [],
   "source": [
    "train_scores = [clf.score(X_train, y_train) for clf in clfs]\n",
    "test_scores = [clf.score(X_test, y_test) for clf in clfs]"
   ]
  },
  {
   "cell_type": "code",
   "execution_count": 14,
   "id": "norwegian-contribution",
   "metadata": {},
   "outputs": [
    {
     "data": {
      "image/png": "[encoded data removed]",
      "text/plain": [
       "<Figure size 1080x720 with 1 Axes>"
      ]
     },
     "metadata": {
      "needs_background": "light"
     },
     "output_type": "display_data"
    }
   ],
   "source": [
    "fig, ax = plt.subplots(figsize=(15, 10))\n",
    "\n",
    "ax.plot(ccp_alphas, train_scores, marker='o', drawstyle=\"steps-post\", label=\"train score\")\n",
    "ax.plot(ccp_alphas, test_scores, marker='o', drawstyle=\"steps-post\", label=\"test score\")\n",
    "ax.set_xlabel(\"ccp_alpha\")\n",
    "ax.set_ylabel(\"accuracy\")\n",
    "\n",
    "ax.legend()\n",
    "fig.savefig(PATH / \"accuracy_vs_alpha.pdf\")\n",
    "\n",
    "plt.show()"
   ]
  },
  {
   "cell_type": "code",
   "execution_count": 15,
   "id": "successful-style",
   "metadata": {},
   "outputs": [
    {
     "data": {
      "text/plain": [
       "1.0"
      ]
     },
     "execution_count": 15,
     "metadata": {},
     "output_type": "execute_result"
    }
   ],
   "source": [
    "tree_clf.score(X_test, y_test)"
   ]
  },
  {
   "cell_type": "code",
   "execution_count": 16,
   "id": "weighted-patent",
   "metadata": {
    "scrolled": false
   },
   "outputs": [
    {
     "data": {
      "text/plain": [
       "'results/3cat/3cat_result.pdf.pdf'"
      ]
     },
     "execution_count": 16,
     "metadata": {},
     "output_type": "execute_result"
    }
   ],
   "source": [
    "dot_data = tree.export_graphviz(\n",
    "    tree_clf,\n",
    "    feature_names=X.columns,\n",
    "    class_names=tree_clf.classes_,\n",
    "    label=\"none\",\n",
    "    filled=True,\n",
    "    leaves_parallel=True,\n",
    "    impurity=False,\n",
    "    rounded=True\n",
    ")\n",
    "graph = graphviz.Source(dot_data)\n",
    "graph.render(PATH / \"3cat_result.pdf\")"
   ]
  },
  {
   "cell_type": "code",
   "execution_count": 17,
   "id": "bored-intervention",
   "metadata": {},
   "outputs": [
    {
     "data": {
      "image/svg+xml": [
       "<?xml version=\"1.0\" encoding=\"UTF-8\" standalone=\"no\"?>\n",
       "<!DOCTYPE svg PUBLIC \"-//W3C//DTD SVG 1.1//EN\"\n",
       " \"http://www.w3.org/Graphics/SVG/1.1/DTD/svg11.dtd\">\n",
       "<!-- Generated by graphviz version 2.43.0 (0)\n",
       " -->\n",
       "<!-- Title: Tree Pages: 1 -->\n",
       "<svg width=\"368pt\" height=\"277pt\"\n",
       " viewBox=\"0.00 0.00 368.00 276.50\" xmlns=\"http://www.w3.org/2000/svg\" xmlns:xlink=\"http://www.w3.org/1999/xlink\">\n",
       "<g id=\"graph0\" class=\"graph\" transform=\"scale(1 1) rotate(0) translate(4 272.5)\">\n",
       "<title>Tree</title>\n",
       "<polygon fill=\"white\" stroke=\"transparent\" points=\"-4,4 -4,-272.5 364,-272.5 364,4 -4,4\"/>\n",
       "<!-- 0 -->\n",
       "<g id=\"node1\" class=\"node\">\n",
       "<title>0</title>\n",
       "<path fill=\"#f1e8fc\" stroke=\"black\" d=\"M339.5,-268.5C339.5,-268.5 115.5,-268.5 115.5,-268.5 109.5,-268.5 103.5,-262.5 103.5,-256.5 103.5,-256.5 103.5,-212.5 103.5,-212.5 103.5,-206.5 109.5,-200.5 115.5,-200.5 115.5,-200.5 339.5,-200.5 339.5,-200.5 345.5,-200.5 351.5,-206.5 351.5,-212.5 351.5,-212.5 351.5,-256.5 351.5,-256.5 351.5,-262.5 345.5,-268.5 339.5,-268.5\"/>\n",
       "<text text-anchor=\"middle\" x=\"227.5\" y=\"-253.3\" font-family=\"Helvetica,sans-Serif\" font-size=\"14.00\">tBodyAccJerk&#45;mad()&#45;X &lt;= &#45;0.593</text>\n",
       "<text text-anchor=\"middle\" x=\"227.5\" y=\"-238.3\" font-family=\"Helvetica,sans-Serif\" font-size=\"14.00\">7699</text>\n",
       "<text text-anchor=\"middle\" x=\"227.5\" y=\"-223.3\" font-family=\"Helvetica,sans-Serif\" font-size=\"14.00\">[1462, 2840, 3397]</text>\n",
       "<text text-anchor=\"middle\" x=\"227.5\" y=\"-208.3\" font-family=\"Helvetica,sans-Serif\" font-size=\"14.00\">WALKING_ALL</text>\n",
       "</g>\n",
       "<!-- 1 -->\n",
       "<g id=\"node2\" class=\"node\">\n",
       "<title>1</title>\n",
       "<path fill=\"#9ff2c2\" stroke=\"black\" d=\"M263,-164.5C263,-164.5 42,-164.5 42,-164.5 36,-164.5 30,-158.5 30,-152.5 30,-152.5 30,-108.5 30,-108.5 30,-102.5 36,-96.5 42,-96.5 42,-96.5 263,-96.5 263,-96.5 269,-96.5 275,-102.5 275,-108.5 275,-108.5 275,-152.5 275,-152.5 275,-158.5 269,-164.5 263,-164.5\"/>\n",
       "<text text-anchor=\"middle\" x=\"152.5\" y=\"-149.3\" font-family=\"Helvetica,sans-Serif\" font-size=\"14.00\">angle(X,gravityMean) &lt;= &#45;1.553</text>\n",
       "<text text-anchor=\"middle\" x=\"152.5\" y=\"-134.3\" font-family=\"Helvetica,sans-Serif\" font-size=\"14.00\">4302</text>\n",
       "<text text-anchor=\"middle\" x=\"152.5\" y=\"-119.3\" font-family=\"Helvetica,sans-Serif\" font-size=\"14.00\">[1462, 2840, 0]</text>\n",
       "<text text-anchor=\"middle\" x=\"152.5\" y=\"-104.3\" font-family=\"Helvetica,sans-Serif\" font-size=\"14.00\">SIT/STAND</text>\n",
       "</g>\n",
       "<!-- 0&#45;&gt;1 -->\n",
       "<g id=\"edge1\" class=\"edge\">\n",
       "<title>0&#45;&gt;1</title>\n",
       "<path fill=\"none\" stroke=\"black\" d=\"M203.15,-200.38C196.73,-191.65 189.72,-182.12 183.02,-173.01\"/>\n",
       "<polygon fill=\"black\" stroke=\"black\" points=\"185.73,-170.78 176.98,-164.8 180.09,-174.93 185.73,-170.78\"/>\n",
       "<text text-anchor=\"middle\" x=\"173.21\" y=\"-185.81\" font-family=\"Helvetica,sans-Serif\" font-size=\"14.00\">True</text>\n",
       "</g>\n",
       "<!-- 4 -->\n",
       "<g id=\"node5\" class=\"node\">\n",
       "<title>4</title>\n",
       "<path fill=\"#8139e5\" stroke=\"black\" d=\"M348,-53C348,-53 259,-53 259,-53 253,-53 247,-47 247,-41 247,-41 247,-12 247,-12 247,-6 253,0 259,0 259,0 348,0 348,0 354,0 360,-6 360,-12 360,-12 360,-41 360,-41 360,-47 354,-53 348,-53\"/>\n",
       "<text text-anchor=\"middle\" x=\"303.5\" y=\"-37.8\" font-family=\"Helvetica,sans-Serif\" font-size=\"14.00\">3397</text>\n",
       "<text text-anchor=\"middle\" x=\"303.5\" y=\"-22.8\" font-family=\"Helvetica,sans-Serif\" font-size=\"14.00\">[0, 0, 3397]</text>\n",
       "<text text-anchor=\"middle\" x=\"303.5\" y=\"-7.8\" font-family=\"Helvetica,sans-Serif\" font-size=\"14.00\">WALKING_ALL</text>\n",
       "</g>\n",
       "<!-- 0&#45;&gt;4 -->\n",
       "<g id=\"edge4\" class=\"edge\">\n",
       "<title>0&#45;&gt;4</title>\n",
       "<path fill=\"none\" stroke=\"black\" d=\"M255,-200.21C269.57,-182.57 284.5,-164.5 284.5,-164.5 284.5,-164.5 292.9,-103.95 298.53,-63.36\"/>\n",
       "<polygon fill=\"black\" stroke=\"black\" points=\"302.02,-63.65 299.93,-53.27 295.09,-62.69 302.02,-63.65\"/>\n",
       "<text text-anchor=\"middle\" x=\"315.01\" y=\"-69.51\" font-family=\"Helvetica,sans-Serif\" font-size=\"14.00\">False</text>\n",
       "</g>\n",
       "<!-- 2 -->\n",
       "<g id=\"node3\" class=\"node\">\n",
       "<title>2</title>\n",
       "<path fill=\"#39e581\" stroke=\"black\" d=\"M87,-53C87,-53 12,-53 12,-53 6,-53 0,-47 0,-41 0,-41 0,-12 0,-12 0,-6 6,0 12,0 12,0 87,0 87,0 93,0 99,-6 99,-12 99,-12 99,-41 99,-41 99,-47 93,-53 87,-53\"/>\n",
       "<text text-anchor=\"middle\" x=\"49.5\" y=\"-37.8\" font-family=\"Helvetica,sans-Serif\" font-size=\"14.00\">2840</text>\n",
       "<text text-anchor=\"middle\" x=\"49.5\" y=\"-22.8\" font-family=\"Helvetica,sans-Serif\" font-size=\"14.00\">[0, 2840, 0]</text>\n",
       "<text text-anchor=\"middle\" x=\"49.5\" y=\"-7.8\" font-family=\"Helvetica,sans-Serif\" font-size=\"14.00\">SIT/STAND</text>\n",
       "</g>\n",
       "<!-- 1&#45;&gt;2 -->\n",
       "<g id=\"edge2\" class=\"edge\">\n",
       "<title>1&#45;&gt;2</title>\n",
       "<path fill=\"none\" stroke=\"black\" d=\"M119.06,-96.38C107.4,-84.84 94.32,-71.89 82.68,-60.36\"/>\n",
       "<polygon fill=\"black\" stroke=\"black\" points=\"84.84,-57.57 75.27,-53.02 79.91,-62.54 84.84,-57.57\"/>\n",
       "</g>\n",
       "<!-- 3 -->\n",
       "<g id=\"node4\" class=\"node\">\n",
       "<title>3</title>\n",
       "<path fill=\"#e58139\" stroke=\"black\" d=\"M204,-53C204,-53 129,-53 129,-53 123,-53 117,-47 117,-41 117,-41 117,-12 117,-12 117,-6 123,0 129,0 129,0 204,0 204,0 210,0 216,-6 216,-12 216,-12 216,-41 216,-41 216,-47 210,-53 204,-53\"/>\n",
       "<text text-anchor=\"middle\" x=\"166.5\" y=\"-37.8\" font-family=\"Helvetica,sans-Serif\" font-size=\"14.00\">1462</text>\n",
       "<text text-anchor=\"middle\" x=\"166.5\" y=\"-22.8\" font-family=\"Helvetica,sans-Serif\" font-size=\"14.00\">[1462, 0, 0]</text>\n",
       "<text text-anchor=\"middle\" x=\"166.5\" y=\"-7.8\" font-family=\"Helvetica,sans-Serif\" font-size=\"14.00\">LAYING</text>\n",
       "</g>\n",
       "<!-- 1&#45;&gt;3 -->\n",
       "<g id=\"edge3\" class=\"edge\">\n",
       "<title>1&#45;&gt;3</title>\n",
       "<path fill=\"none\" stroke=\"black\" d=\"M157.05,-96.38C158.51,-85.72 160.14,-73.85 161.62,-63.02\"/>\n",
       "<polygon fill=\"black\" stroke=\"black\" points=\"165.1,-63.4 163,-53.02 158.17,-62.45 165.1,-63.4\"/>\n",
       "</g>\n",
       "</g>\n",
       "</svg>\n"
      ],
      "text/plain": [
       "<graphviz.files.Source at 0x7ff592ab9190>"
      ]
     },
     "execution_count": 17,
     "metadata": {},
     "output_type": "execute_result"
    }
   ],
   "source": [
    "graph"
   ]
  },
  {
   "cell_type": "code",
   "execution_count": 18,
   "id": "noted-equilibrium",
   "metadata": {},
   "outputs": [
    {
     "data": {
      "text/plain": [
       "['results/3cat/tree.joblib']"
      ]
     },
     "execution_count": 18,
     "metadata": {},
     "output_type": "execute_result"
    }
   ],
   "source": [
    "joblib.dump(tree_clf, PATH / \"tree.joblib\")"
   ]
  },
  {
   "cell_type": "code",
   "execution_count": 19,
   "id": "searching-giant",
   "metadata": {},
   "outputs": [
    {
     "name": "stdout",
     "output_type": "stream",
     "text": [
      "              precision    recall  f1-score   support\n",
      "\n",
      "      LAYING       1.00      1.00      1.00       359\n",
      "   SIT/STAND       1.00      1.00      1.00       702\n",
      " WALKING_ALL       1.00      1.00      1.00       864\n",
      "\n",
      "    accuracy                           1.00      1925\n",
      "   macro avg       1.00      1.00      1.00      1925\n",
      "weighted avg       1.00      1.00      1.00      1925\n",
      "\n"
     ]
    }
   ],
   "source": [
    "print(metrics.classification_report(y_test, tree_clf.predict(X_test)))"
   ]
  },
  {
   "cell_type": "code",
   "execution_count": 20,
   "id": "settled-register",
   "metadata": {},
   "outputs": [
    {
     "data": {
      "text/plain": [
       "array([[359,   0,   0],\n",
       "       [  0, 702,   0],\n",
       "       [  0,   0, 864]])"
      ]
     },
     "execution_count": 20,
     "metadata": {},
     "output_type": "execute_result"
    }
   ],
   "source": [
    "metrics.confusion_matrix(y_test, tree_clf.predict(X_test))"
   ]
  }
 ],
 "metadata": {
  "kernelspec": {
   "display_name": "Python 3",
   "language": "python",
   "name": "python3"
  },
  "language_info": {
   "codemirror_mode": {
    "name": "ipython",
    "version": 3
   },
   "file_extension": ".py",
   "mimetype": "text/x-python",
   "name": "python",
   "nbconvert_exporter": "python",
   "pygments_lexer": "ipython3",
   "version": "3.8.5"
  }
 },
 "nbformat": 4,
 "nbformat_minor": 5
}
