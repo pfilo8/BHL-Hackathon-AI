{
 "cells": [
  {
   "cell_type": "code",
   "execution_count": 189,
   "id": "starting-jaguar",
   "metadata": {},
   "outputs": [],
   "source": [
    "import pandas as pd\n",
    "import numpy as np\n",
    "import seaborn as sns\n",
    "import matplotlib.pyplot as plt\n",
    "\n",
    "from sklearn import compose\n",
    "from sklearn import impute\n",
    "from sklearn import model_selection\n",
    "from sklearn import feature_selection\n",
    "from sklearn import tree\n",
    "from sklearn import pipeline\n",
    "from sklearn import ensemble\n",
    "\n",
    "from scipy import stats"
   ]
  },
  {
   "cell_type": "code",
   "execution_count": 190,
   "id": "mineral-trainer",
   "metadata": {},
   "outputs": [],
   "source": [
    "import graphviz"
   ]
  },
  {
   "cell_type": "code",
   "execution_count": 191,
   "id": "sitting-feeling",
   "metadata": {},
   "outputs": [
    {
     "data": {
      "text/html": [
       "<div>\n",
       "<style scoped>\n",
       "    .dataframe tbody tr th:only-of-type {\n",
       "        vertical-align: middle;\n",
       "    }\n",
       "\n",
       "    .dataframe tbody tr th {\n",
       "        vertical-align: top;\n",
       "    }\n",
       "\n",
       "    .dataframe thead th {\n",
       "        text-align: right;\n",
       "    }\n",
       "</style>\n",
       "<table border=\"1\" class=\"dataframe\">\n",
       "  <thead>\n",
       "    <tr style=\"text-align: right;\">\n",
       "      <th></th>\n",
       "      <th>Activity</th>\n",
       "      <th>angle(X,gravityMean)</th>\n",
       "      <th>angle(Y,gravityMean)</th>\n",
       "      <th>angle(Z,gravityMean)</th>\n",
       "      <th>angle(tBodyAccJerkMean),gravityMean)</th>\n",
       "      <th>angle(tBodyAccMean,gravity)</th>\n",
       "      <th>angle(tBodyGyroJerkMean,gravityMean)</th>\n",
       "      <th>angle(tBodyGyroMean,gravityMean)</th>\n",
       "      <th>energy-mean()</th>\n",
       "      <th>fBodyAcc-bandsEnergy()-1,16</th>\n",
       "      <th>...</th>\n",
       "      <th>tGravityAccMag-energy()</th>\n",
       "      <th>tGravityAccMag-entropy()</th>\n",
       "      <th>tGravityAccMag-iqr()</th>\n",
       "      <th>tGravityAccMag-mad()</th>\n",
       "      <th>tGravityAccMag-max()</th>\n",
       "      <th>tGravityAccMag-mean()</th>\n",
       "      <th>tGravityAccMag-min()</th>\n",
       "      <th>tGravityAccMag-sma()</th>\n",
       "      <th>tGravityAccMag-std()</th>\n",
       "      <th>void()</th>\n",
       "    </tr>\n",
       "  </thead>\n",
       "  <tbody>\n",
       "    <tr>\n",
       "      <th>0</th>\n",
       "      <td>STANDING</td>\n",
       "      <td>-1.574191</td>\n",
       "      <td>-0.805700</td>\n",
       "      <td>-2.453831</td>\n",
       "      <td>-1.861714</td>\n",
       "      <td>0.115517</td>\n",
       "      <td>-2.023369</td>\n",
       "      <td>3.125860</td>\n",
       "      <td>-9.474436</td>\n",
       "      <td>3.622600</td>\n",
       "      <td>...</td>\n",
       "      <td>5.049130</td>\n",
       "      <td>3.272281</td>\n",
       "      <td>5.103018</td>\n",
       "      <td>-0.823302</td>\n",
       "      <td>3.063681</td>\n",
       "      <td>-0.928676</td>\n",
       "      <td>-1.007695</td>\n",
       "      <td>3.094236</td>\n",
       "      <td>1.669987</td>\n",
       "      <td>1.0</td>\n",
       "    </tr>\n",
       "    <tr>\n",
       "      <th>1</th>\n",
       "      <td>WALKING_UPSTAIRS</td>\n",
       "      <td>-1.568669</td>\n",
       "      <td>-0.612620</td>\n",
       "      <td>-2.488338</td>\n",
       "      <td>-1.751117</td>\n",
       "      <td>0.218134</td>\n",
       "      <td>0.280294</td>\n",
       "      <td>7.953403</td>\n",
       "      <td>-0.679894</td>\n",
       "      <td>2.512880</td>\n",
       "      <td>...</td>\n",
       "      <td>4.565443</td>\n",
       "      <td>4.440779</td>\n",
       "      <td>3.288399</td>\n",
       "      <td>-2.689605</td>\n",
       "      <td>1.705341</td>\n",
       "      <td>-0.822617</td>\n",
       "      <td>-0.572410</td>\n",
       "      <td>-2.187890</td>\n",
       "      <td>-0.544652</td>\n",
       "      <td>2.0</td>\n",
       "    </tr>\n",
       "    <tr>\n",
       "      <th>2</th>\n",
       "      <td>LAYING</td>\n",
       "      <td>-1.548333</td>\n",
       "      <td>-0.139628</td>\n",
       "      <td>-2.380889</td>\n",
       "      <td>-1.915239</td>\n",
       "      <td>0.067613</td>\n",
       "      <td>-0.887342</td>\n",
       "      <td>6.007361</td>\n",
       "      <td>-11.906904</td>\n",
       "      <td>3.621984</td>\n",
       "      <td>...</td>\n",
       "      <td>5.059609</td>\n",
       "      <td>2.296603</td>\n",
       "      <td>5.344174</td>\n",
       "      <td>-0.549843</td>\n",
       "      <td>3.272225</td>\n",
       "      <td>-0.940610</td>\n",
       "      <td>-1.031522</td>\n",
       "      <td>-2.071755</td>\n",
       "      <td>2.024442</td>\n",
       "      <td>3.0</td>\n",
       "    </tr>\n",
       "    <tr>\n",
       "      <th>3</th>\n",
       "      <td>WALKING</td>\n",
       "      <td>-1.574094</td>\n",
       "      <td>-0.793443</td>\n",
       "      <td>-2.449959</td>\n",
       "      <td>-1.842741</td>\n",
       "      <td>-0.195625</td>\n",
       "      <td>-0.950671</td>\n",
       "      <td>2.104353</td>\n",
       "      <td>-11.906121</td>\n",
       "      <td>3.355701</td>\n",
       "      <td>...</td>\n",
       "      <td>4.860758</td>\n",
       "      <td>4.177535</td>\n",
       "      <td>3.950012</td>\n",
       "      <td>-0.322642</td>\n",
       "      <td>2.366287</td>\n",
       "      <td>-0.866937</td>\n",
       "      <td>-0.696431</td>\n",
       "      <td>1.863375</td>\n",
       "      <td>0.550414</td>\n",
       "      <td>2.0</td>\n",
       "    </tr>\n",
       "    <tr>\n",
       "      <th>4</th>\n",
       "      <td>LAYING</td>\n",
       "      <td>-1.548333</td>\n",
       "      <td>-0.139628</td>\n",
       "      <td>-2.380889</td>\n",
       "      <td>NaN</td>\n",
       "      <td>0.067613</td>\n",
       "      <td>-0.887342</td>\n",
       "      <td>6.007361</td>\n",
       "      <td>-11.970485</td>\n",
       "      <td>3.621984</td>\n",
       "      <td>...</td>\n",
       "      <td>5.059609</td>\n",
       "      <td>2.296603</td>\n",
       "      <td>5.344174</td>\n",
       "      <td>-0.549843</td>\n",
       "      <td>3.272225</td>\n",
       "      <td>-0.940610</td>\n",
       "      <td>-1.031522</td>\n",
       "      <td>-2.102513</td>\n",
       "      <td>2.024442</td>\n",
       "      <td>3.0</td>\n",
       "    </tr>\n",
       "  </tbody>\n",
       "</table>\n",
       "<p>5 rows × 572 columns</p>\n",
       "</div>"
      ],
      "text/plain": [
       "           Activity  angle(X,gravityMean)  angle(Y,gravityMean)  \\\n",
       "0          STANDING             -1.574191             -0.805700   \n",
       "1  WALKING_UPSTAIRS             -1.568669             -0.612620   \n",
       "2            LAYING             -1.548333             -0.139628   \n",
       "3           WALKING             -1.574094             -0.793443   \n",
       "4            LAYING             -1.548333             -0.139628   \n",
       "\n",
       "   angle(Z,gravityMean)  angle(tBodyAccJerkMean),gravityMean)  \\\n",
       "0             -2.453831                             -1.861714   \n",
       "1             -2.488338                             -1.751117   \n",
       "2             -2.380889                             -1.915239   \n",
       "3             -2.449959                             -1.842741   \n",
       "4             -2.380889                                   NaN   \n",
       "\n",
       "   angle(tBodyAccMean,gravity)  angle(tBodyGyroJerkMean,gravityMean)  \\\n",
       "0                     0.115517                             -2.023369   \n",
       "1                     0.218134                              0.280294   \n",
       "2                     0.067613                             -0.887342   \n",
       "3                    -0.195625                             -0.950671   \n",
       "4                     0.067613                             -0.887342   \n",
       "\n",
       "   angle(tBodyGyroMean,gravityMean)  energy-mean()  \\\n",
       "0                          3.125860      -9.474436   \n",
       "1                          7.953403      -0.679894   \n",
       "2                          6.007361     -11.906904   \n",
       "3                          2.104353     -11.906121   \n",
       "4                          6.007361     -11.970485   \n",
       "\n",
       "   fBodyAcc-bandsEnergy()-1,16  ...  tGravityAccMag-energy()  \\\n",
       "0                     3.622600  ...                 5.049130   \n",
       "1                     2.512880  ...                 4.565443   \n",
       "2                     3.621984  ...                 5.059609   \n",
       "3                     3.355701  ...                 4.860758   \n",
       "4                     3.621984  ...                 5.059609   \n",
       "\n",
       "   tGravityAccMag-entropy()  tGravityAccMag-iqr()  tGravityAccMag-mad()  \\\n",
       "0                  3.272281              5.103018             -0.823302   \n",
       "1                  4.440779              3.288399             -2.689605   \n",
       "2                  2.296603              5.344174             -0.549843   \n",
       "3                  4.177535              3.950012             -0.322642   \n",
       "4                  2.296603              5.344174             -0.549843   \n",
       "\n",
       "   tGravityAccMag-max()  tGravityAccMag-mean()  tGravityAccMag-min()  \\\n",
       "0              3.063681              -0.928676             -1.007695   \n",
       "1              1.705341              -0.822617             -0.572410   \n",
       "2              3.272225              -0.940610             -1.031522   \n",
       "3              2.366287              -0.866937             -0.696431   \n",
       "4              3.272225              -0.940610             -1.031522   \n",
       "\n",
       "   tGravityAccMag-sma()  tGravityAccMag-std()  void()  \n",
       "0              3.094236              1.669987     1.0  \n",
       "1             -2.187890             -0.544652     2.0  \n",
       "2             -2.071755              2.024442     3.0  \n",
       "3              1.863375              0.550414     2.0  \n",
       "4             -2.102513              2.024442     3.0  \n",
       "\n",
       "[5 rows x 572 columns]"
      ]
     },
     "execution_count": 191,
     "metadata": {},
     "output_type": "execute_result"
    }
   ],
   "source": [
    "df = pd.read_csv(\"data/final_train.csv\", index_col=0)\n",
    "df.head()"
   ]
  },
  {
   "cell_type": "code",
   "execution_count": 192,
   "id": "czech-behavior",
   "metadata": {},
   "outputs": [],
   "source": [
    "y = df[\"Activity\"]\n",
    "X = df.drop(columns=[\"Activity\", \"subject\", \"void()\"])"
   ]
  },
  {
   "cell_type": "code",
   "execution_count": 193,
   "id": "harmful-agent",
   "metadata": {},
   "outputs": [],
   "source": [
    "X_train, X_test, y_train, y_test = model_selection.train_test_split(X, y, test_size=0.2, random_state=42)"
   ]
  },
  {
   "cell_type": "code",
   "execution_count": 140,
   "id": "environmental-trailer",
   "metadata": {},
   "outputs": [],
   "source": [
    "p = pipeline.Pipeline(\n",
    "    [\n",
    "        (\"imputer\", impute.SimpleImputer()),\n",
    "        (\"feature_selection\", feature_selection.SelectFromModel(ensemble.RandomForestClassifier(random_state=42))),\n",
    "        (\"tree\", tree.DecisionTreeClassifier(random_state=42))\n",
    "    ]\n",
    ")"
   ]
  },
  {
   "cell_type": "code",
   "execution_count": 194,
   "id": "missing-maintenance",
   "metadata": {},
   "outputs": [],
   "source": [
    "imputer = impute.SimpleImputer()\n",
    "X_train = imputer.fit_transform(X_train)\n",
    "X_test = imputer.transform(X_test)"
   ]
  },
  {
   "cell_type": "code",
   "execution_count": 144,
   "id": "liable-bonus",
   "metadata": {},
   "outputs": [],
   "source": [
    "selector = feature_selection.SelectFromModel(ensemble.RandomForestClassifier(random_state=42))\n",
    "X_train = selector.fit_transform(X_train, y_train)\n",
    "X_test = selector.transform(X_test)"
   ]
  },
  {
   "cell_type": "code",
   "execution_count": 195,
   "id": "vocational-slovenia",
   "metadata": {},
   "outputs": [
    {
     "data": {
      "text/plain": [
       "DecisionTreeClassifier(random_state=42)"
      ]
     },
     "execution_count": 195,
     "metadata": {},
     "output_type": "execute_result"
    }
   ],
   "source": [
    "tree_clf = tree.DecisionTreeClassifier(random_state=42)\n",
    "tree_clf.fit(X_train, y_train)"
   ]
  },
  {
   "cell_type": "code",
   "execution_count": 196,
   "id": "valued-devon",
   "metadata": {},
   "outputs": [],
   "source": [
    "path = tree_clf.cost_complexity_pruning_path(X_train, y_train)\n",
    "ccp_alphas, impurities = path.ccp_alphas, path.impurities"
   ]
  },
  {
   "cell_type": "code",
   "execution_count": 197,
   "id": "accompanied-purchase",
   "metadata": {},
   "outputs": [
    {
     "data": {
      "image/png": "[encoded data removed]",
      "text/plain": [
       "<Figure size 1080x360 with 1 Axes>"
      ]
     },
     "metadata": {
      "needs_background": "light"
     },
     "output_type": "display_data"
    }
   ],
   "source": [
    "fig, ax = plt.subplots(figsize=(15, 5))\n",
    "ax.plot(ccp_alphas, impurities, marker='o', drawstyle=\"steps-post\")\n",
    "ax.set_xlabel(\"ccp_alpha\")\n",
    "ax.set_ylabel(\"impurity\")\n",
    "plt.show()"
   ]
  },
  {
   "cell_type": "code",
   "execution_count": 199,
   "id": "pressed-spotlight",
   "metadata": {},
   "outputs": [],
   "source": [
    "from tqdm import tqdm"
   ]
  },
  {
   "cell_type": "code",
   "execution_count": 200,
   "id": "sized-marketing",
   "metadata": {},
   "outputs": [
    {
     "name": "stderr",
     "output_type": "stream",
     "text": [
      "100%|██████████| 149/149 [09:20<00:00,  3.76s/it]\n"
     ]
    }
   ],
   "source": [
    "clfs = [\n",
    "    tree.DecisionTreeClassifier(random_state=42, ccp_alpha=ccp_alpha, ).fit(X_train, y_train)\n",
    "    for ccp_alpha in tqdm(ccp_alphas)\n",
    "]"
   ]
  },
  {
   "cell_type": "code",
   "execution_count": 201,
   "id": "prompt-browser",
   "metadata": {},
   "outputs": [],
   "source": [
    "train_scores = [clf.score(X_train, y_train) for clf in clfs]\n",
    "test_scores = [clf.score(X_test, y_test) for clf in clfs]"
   ]
  },
  {
   "cell_type": "code",
   "execution_count": 212,
   "id": "breeding-vegetarian",
   "metadata": {},
   "outputs": [
    {
     "data": {
      "image/png": "[encoded data removed]",
      "text/plain": [
       "<Figure size 1080x720 with 1 Axes>"
      ]
     },
     "metadata": {
      "needs_background": "light"
     },
     "output_type": "display_data"
    }
   ],
   "source": [
    "fig, ax = plt.subplots(figsize=(15, 10))\n",
    "\n",
    "ax.plot(ccp_alphas, train_scores, marker='o', drawstyle=\"steps-post\", label=\"train score\")\n",
    "ax.plot(ccp_alphas, test_scores, marker='o', drawstyle=\"steps-post\", label=\"test score\")\n",
    "ax.legend()\n",
    "\n",
    "plt.show()"
   ]
  },
  {
   "cell_type": "code",
   "execution_count": 213,
   "id": "present-chicken",
   "metadata": {},
   "outputs": [
    {
     "data": {
      "image/png": "[encoded data removed]",
      "text/plain": [
       "<Figure size 1080x720 with 1 Axes>"
      ]
     },
     "metadata": {
      "needs_background": "light"
     },
     "output_type": "display_data"
    }
   ],
   "source": [
    "fig, ax = plt.subplots(figsize=(15, 10))\n",
    "\n",
    "ax.plot(range(len(train_scores)), train_scores[::-1], marker='o', drawstyle=\"steps-post\", label=\"train score\")\n",
    "ax.plot(range(len(test_scores)), test_scores[::-1], marker='o', drawstyle=\"steps-post\", label=\"test score\")\n",
    "\n",
    "ax.set_ylabel(\"accuracy\")\n",
    "ax.set_xlabel(\"n_nodes\")\n",
    "ax.legend()\n",
    "\n",
    "plt.show()"
   ]
  },
  {
   "cell_type": "code",
   "execution_count": 226,
   "id": "faced-match",
   "metadata": {},
   "outputs": [
    {
     "data": {
      "text/plain": [
       "0.005415969580145157"
      ]
     },
     "execution_count": 226,
     "metadata": {},
     "output_type": "execute_result"
    }
   ],
   "source": [
    "alpha = ccp_alphas[-10]\n",
    "alpha"
   ]
  },
  {
   "cell_type": "code",
   "execution_count": 227,
   "id": "private-premium",
   "metadata": {},
   "outputs": [
    {
     "data": {
      "text/plain": [
       "DecisionTreeClassifier(ccp_alpha=0.005415969580145157, random_state=42)"
      ]
     },
     "execution_count": 227,
     "metadata": {},
     "output_type": "execute_result"
    }
   ],
   "source": [
    "final_tree_clf = tree.DecisionTreeClassifier(random_state=42, ccp_alpha=alpha)\n",
    "final_tree_clf.fit(X_train, y_train)"
   ]
  },
  {
   "cell_type": "code",
   "execution_count": 228,
   "id": "asian-specification",
   "metadata": {},
   "outputs": [
    {
     "data": {
      "text/plain": [
       "0.9192966636609559"
      ]
     },
     "execution_count": 228,
     "metadata": {},
     "output_type": "execute_result"
    }
   ],
   "source": [
    "final_tree_clf.score(X_test, y_test)"
   ]
  },
  {
   "cell_type": "code",
   "execution_count": 229,
   "id": "express-premises",
   "metadata": {
    "scrolled": false
   },
   "outputs": [
    {
     "data": {
      "text/plain": [
       "'result.pdf'"
      ]
     },
     "execution_count": 229,
     "metadata": {},
     "output_type": "execute_result"
    }
   ],
   "source": [
    "dot_data = tree.export_graphviz(\n",
    "    final_tree_clf,\n",
    "    feature_names=X.columns,\n",
    "    class_names=final_tree_clf.classes_\n",
    ")\n",
    "graph = graphviz.Source(dot_data)\n",
    "graph.render(\"result\")"
   ]
  },
  {
   "cell_type": "code",
   "execution_count": 230,
   "id": "affected-affair",
   "metadata": {},
   "outputs": [
    {
     "data": {
      "image/svg+xml": [
       "<?xml version=\"1.0\" encoding=\"UTF-8\" standalone=\"no\"?>\n",
       "<!DOCTYPE svg PUBLIC \"-//W3C//DTD SVG 1.1//EN\"\n",
       " \"http://www.w3.org/Graphics/SVG/1.1/DTD/svg11.dtd\">\n",
       "<!-- Generated by graphviz version 2.43.0 (0)\n",
       " -->\n",
       "<!-- Title: Tree Pages: 1 -->\n",
       "<svg width=\"1734pt\" height=\"671pt\"\n",
       " viewBox=\"0.00 0.00 1733.50 671.00\" xmlns=\"http://www.w3.org/2000/svg\" xmlns:xlink=\"http://www.w3.org/1999/xlink\">\n",
       "<g id=\"graph0\" class=\"graph\" transform=\"scale(1 1) rotate(0) translate(4 667)\">\n",
       "<title>Tree</title>\n",
       "<polygon fill=\"white\" stroke=\"transparent\" points=\"-4,4 -4,-667 1729.5,-667 1729.5,4 -4,4\"/>\n",
       "<!-- 0 -->\n",
       "<g id=\"node1\" class=\"node\">\n",
       "<title>0</title>\n",
       "<polygon fill=\"none\" stroke=\"black\" points=\"880,-663 533,-663 533,-580 880,-580 880,-663\"/>\n",
       "<text text-anchor=\"middle\" x=\"706.5\" y=\"-647.8\" font-family=\"Times,serif\" font-size=\"14.00\">tGravityAcc&#45;min()&#45;X &lt;= &#45;2.411</text>\n",
       "<text text-anchor=\"middle\" x=\"706.5\" y=\"-632.8\" font-family=\"Times,serif\" font-size=\"14.00\">gini = 0.83</text>\n",
       "<text text-anchor=\"middle\" x=\"706.5\" y=\"-617.8\" font-family=\"Times,serif\" font-size=\"14.00\">samples = 8868</text>\n",
       "<text text-anchor=\"middle\" x=\"706.5\" y=\"-602.8\" font-family=\"Times,serif\" font-size=\"14.00\">value = [1764, 1588, 1576, 1514, 1123, 1303]</text>\n",
       "<text text-anchor=\"middle\" x=\"706.5\" y=\"-587.8\" font-family=\"Times,serif\" font-size=\"14.00\">class = LAYING</text>\n",
       "</g>\n",
       "<!-- 1 -->\n",
       "<g id=\"node2\" class=\"node\">\n",
       "<title>1</title>\n",
       "<polygon fill=\"none\" stroke=\"black\" points=\"670.5,-536.5 458.5,-536.5 458.5,-468.5 670.5,-468.5 670.5,-536.5\"/>\n",
       "<text text-anchor=\"middle\" x=\"564.5\" y=\"-521.3\" font-family=\"Times,serif\" font-size=\"14.00\">gini = 0.0</text>\n",
       "<text text-anchor=\"middle\" x=\"564.5\" y=\"-506.3\" font-family=\"Times,serif\" font-size=\"14.00\">samples = 1759</text>\n",
       "<text text-anchor=\"middle\" x=\"564.5\" y=\"-491.3\" font-family=\"Times,serif\" font-size=\"14.00\">value = [1759, 0, 0, 0, 0, 0]</text>\n",
       "<text text-anchor=\"middle\" x=\"564.5\" y=\"-476.3\" font-family=\"Times,serif\" font-size=\"14.00\">class = LAYING</text>\n",
       "</g>\n",
       "<!-- 0&#45;&gt;1 -->\n",
       "<g id=\"edge1\" class=\"edge\">\n",
       "<title>0&#45;&gt;1</title>\n",
       "<path fill=\"none\" stroke=\"black\" d=\"M657.23,-579.91C642.77,-567.99 626.97,-554.98 612.59,-543.12\"/>\n",
       "<polygon fill=\"black\" stroke=\"black\" points=\"614.7,-540.32 604.75,-536.67 610.25,-545.73 614.7,-540.32\"/>\n",
       "<text text-anchor=\"middle\" x=\"607.16\" y=\"-557.85\" font-family=\"Times,serif\" font-size=\"14.00\">True</text>\n",
       "</g>\n",
       "<!-- 2 -->\n",
       "<g id=\"node3\" class=\"node\">\n",
       "<title>2</title>\n",
       "<polygon fill=\"none\" stroke=\"black\" points=\"1008.5,-544 688.5,-544 688.5,-461 1008.5,-461 1008.5,-544\"/>\n",
       "<text text-anchor=\"middle\" x=\"848.5\" y=\"-528.8\" font-family=\"Times,serif\" font-size=\"14.00\">fBodyAccJerk&#45;std()&#45;X &lt;= &#45;4.449</text>\n",
       "<text text-anchor=\"middle\" x=\"848.5\" y=\"-513.8\" font-family=\"Times,serif\" font-size=\"14.00\">gini = 0.797</text>\n",
       "<text text-anchor=\"middle\" x=\"848.5\" y=\"-498.8\" font-family=\"Times,serif\" font-size=\"14.00\">samples = 7109</text>\n",
       "<text text-anchor=\"middle\" x=\"848.5\" y=\"-483.8\" font-family=\"Times,serif\" font-size=\"14.00\">value = [5, 1588, 1576, 1514, 1123, 1303]</text>\n",
       "<text text-anchor=\"middle\" x=\"848.5\" y=\"-468.8\" font-family=\"Times,serif\" font-size=\"14.00\">class = SITTING</text>\n",
       "</g>\n",
       "<!-- 0&#45;&gt;2 -->\n",
       "<g id=\"edge2\" class=\"edge\">\n",
       "<title>0&#45;&gt;2</title>\n",
       "<path fill=\"none\" stroke=\"black\" d=\"M755.77,-579.91C767.22,-570.47 779.51,-560.34 791.28,-550.65\"/>\n",
       "<polygon fill=\"black\" stroke=\"black\" points=\"793.83,-553.08 799.32,-544.02 789.38,-547.68 793.83,-553.08\"/>\n",
       "<text text-anchor=\"middle\" x=\"796.92\" y=\"-565.21\" font-family=\"Times,serif\" font-size=\"14.00\">False</text>\n",
       "</g>\n",
       "<!-- 3 -->\n",
       "<g id=\"node4\" class=\"node\">\n",
       "<title>3</title>\n",
       "<polygon fill=\"none\" stroke=\"black\" points=\"800,-425 527,-425 527,-342 800,-342 800,-425\"/>\n",
       "<text text-anchor=\"middle\" x=\"663.5\" y=\"-409.8\" font-family=\"Times,serif\" font-size=\"14.00\">tGravityAcc&#45;arCoeff()&#45;Z,2 &lt;= &#45;2.404</text>\n",
       "<text text-anchor=\"middle\" x=\"663.5\" y=\"-394.8\" font-family=\"Times,serif\" font-size=\"14.00\">gini = 0.663</text>\n",
       "<text text-anchor=\"middle\" x=\"663.5\" y=\"-379.8\" font-family=\"Times,serif\" font-size=\"14.00\">samples = 3950</text>\n",
       "<text text-anchor=\"middle\" x=\"663.5\" y=\"-364.8\" font-family=\"Times,serif\" font-size=\"14.00\">value = [1, 3, 6, 1514, 1123, 1303]</text>\n",
       "<text text-anchor=\"middle\" x=\"663.5\" y=\"-349.8\" font-family=\"Times,serif\" font-size=\"14.00\">class = WALKING</text>\n",
       "</g>\n",
       "<!-- 2&#45;&gt;3 -->\n",
       "<g id=\"edge3\" class=\"edge\">\n",
       "<title>2&#45;&gt;3</title>\n",
       "<path fill=\"none\" stroke=\"black\" d=\"M784.32,-460.91C768.82,-451.11 752.15,-440.56 736.29,-430.53\"/>\n",
       "<polygon fill=\"black\" stroke=\"black\" points=\"737.89,-427.41 727.57,-425.02 734.15,-433.32 737.89,-427.41\"/>\n",
       "</g>\n",
       "<!-- 12 -->\n",
       "<g id=\"node13\" class=\"node\">\n",
       "<title>12</title>\n",
       "<polygon fill=\"none\" stroke=\"black\" points=\"1158,-425 911,-425 911,-342 1158,-342 1158,-425\"/>\n",
       "<text text-anchor=\"middle\" x=\"1034.5\" y=\"-409.8\" font-family=\"Times,serif\" font-size=\"14.00\">angle(Y,gravityMean) &lt;= &#45;0.733</text>\n",
       "<text text-anchor=\"middle\" x=\"1034.5\" y=\"-394.8\" font-family=\"Times,serif\" font-size=\"14.00\">gini = 0.501</text>\n",
       "<text text-anchor=\"middle\" x=\"1034.5\" y=\"-379.8\" font-family=\"Times,serif\" font-size=\"14.00\">samples = 3159</text>\n",
       "<text text-anchor=\"middle\" x=\"1034.5\" y=\"-364.8\" font-family=\"Times,serif\" font-size=\"14.00\">value = [4, 1585, 1570, 0, 0, 0]</text>\n",
       "<text text-anchor=\"middle\" x=\"1034.5\" y=\"-349.8\" font-family=\"Times,serif\" font-size=\"14.00\">class = SITTING</text>\n",
       "</g>\n",
       "<!-- 2&#45;&gt;12 -->\n",
       "<g id=\"edge12\" class=\"edge\">\n",
       "<title>2&#45;&gt;12</title>\n",
       "<path fill=\"none\" stroke=\"black\" d=\"M913.03,-460.91C928.61,-451.11 945.37,-440.56 961.32,-430.53\"/>\n",
       "<polygon fill=\"black\" stroke=\"black\" points=\"963.48,-433.31 970.08,-425.02 959.75,-427.38 963.48,-433.31\"/>\n",
       "</g>\n",
       "<!-- 4 -->\n",
       "<g id=\"node5\" class=\"node\">\n",
       "<title>4</title>\n",
       "<polygon fill=\"none\" stroke=\"black\" points=\"516.5,-298.5 286.5,-298.5 286.5,-230.5 516.5,-230.5 516.5,-298.5\"/>\n",
       "<text text-anchor=\"middle\" x=\"401.5\" y=\"-283.3\" font-family=\"Times,serif\" font-size=\"14.00\">gini = 0.138</text>\n",
       "<text text-anchor=\"middle\" x=\"401.5\" y=\"-268.3\" font-family=\"Times,serif\" font-size=\"14.00\">samples = 1192</text>\n",
       "<text text-anchor=\"middle\" x=\"401.5\" y=\"-253.3\" font-family=\"Times,serif\" font-size=\"14.00\">value = [0, 0, 2, 34, 51, 1105]</text>\n",
       "<text text-anchor=\"middle\" x=\"401.5\" y=\"-238.3\" font-family=\"Times,serif\" font-size=\"14.00\">class = WALKING_UPSTAIRS</text>\n",
       "</g>\n",
       "<!-- 3&#45;&gt;4 -->\n",
       "<g id=\"edge4\" class=\"edge\">\n",
       "<title>3&#45;&gt;4</title>\n",
       "<path fill=\"none\" stroke=\"black\" d=\"M572.6,-341.91C544.18,-329.22 512.98,-315.28 485.09,-302.83\"/>\n",
       "<polygon fill=\"black\" stroke=\"black\" points=\"486.33,-299.55 475.77,-298.67 483.48,-305.94 486.33,-299.55\"/>\n",
       "</g>\n",
       "<!-- 5 -->\n",
       "<g id=\"node6\" class=\"node\">\n",
       "<title>5</title>\n",
       "<polygon fill=\"none\" stroke=\"black\" points=\"792,-306 535,-306 535,-223 792,-223 792,-306\"/>\n",
       "<text text-anchor=\"middle\" x=\"663.5\" y=\"-290.8\" font-family=\"Times,serif\" font-size=\"14.00\">fBodyAccMag&#45;std() &lt;= &#45;2.421</text>\n",
       "<text text-anchor=\"middle\" x=\"663.5\" y=\"-275.8\" font-family=\"Times,serif\" font-size=\"14.00\">gini = 0.556</text>\n",
       "<text text-anchor=\"middle\" x=\"663.5\" y=\"-260.8\" font-family=\"Times,serif\" font-size=\"14.00\">samples = 2758</text>\n",
       "<text text-anchor=\"middle\" x=\"663.5\" y=\"-245.8\" font-family=\"Times,serif\" font-size=\"14.00\">value = [1, 3, 4, 1480, 1072, 198]</text>\n",
       "<text text-anchor=\"middle\" x=\"663.5\" y=\"-230.8\" font-family=\"Times,serif\" font-size=\"14.00\">class = WALKING</text>\n",
       "</g>\n",
       "<!-- 3&#45;&gt;5 -->\n",
       "<g id=\"edge5\" class=\"edge\">\n",
       "<title>3&#45;&gt;5</title>\n",
       "<path fill=\"none\" stroke=\"black\" d=\"M663.5,-341.91C663.5,-333.65 663.5,-324.86 663.5,-316.3\"/>\n",
       "<polygon fill=\"black\" stroke=\"black\" points=\"667,-316.02 663.5,-306.02 660,-316.02 667,-316.02\"/>\n",
       "</g>\n",
       "<!-- 6 -->\n",
       "<g id=\"node7\" class=\"node\">\n",
       "<title>6</title>\n",
       "<polygon fill=\"none\" stroke=\"black\" points=\"521,-187 268,-187 268,-104 521,-104 521,-187\"/>\n",
       "<text text-anchor=\"middle\" x=\"394.5\" y=\"-171.8\" font-family=\"Times,serif\" font-size=\"14.00\">tBodyAcc&#45;entropy()&#45;X &lt;= &#45;0.195</text>\n",
       "<text text-anchor=\"middle\" x=\"394.5\" y=\"-156.8\" font-family=\"Times,serif\" font-size=\"14.00\">gini = 0.193</text>\n",
       "<text text-anchor=\"middle\" x=\"394.5\" y=\"-141.8\" font-family=\"Times,serif\" font-size=\"14.00\">samples = 1070</text>\n",
       "<text text-anchor=\"middle\" x=\"394.5\" y=\"-126.8\" font-family=\"Times,serif\" font-size=\"14.00\">value = [0, 0, 0, 53, 958, 59]</text>\n",
       "<text text-anchor=\"middle\" x=\"394.5\" y=\"-111.8\" font-family=\"Times,serif\" font-size=\"14.00\">class = WALKING_DOWNSTAIRS</text>\n",
       "</g>\n",
       "<!-- 5&#45;&gt;6 -->\n",
       "<g id=\"edge6\" class=\"edge\">\n",
       "<title>5&#45;&gt;6</title>\n",
       "<path fill=\"none\" stroke=\"black\" d=\"M570.17,-222.91C546.59,-212.65 521.15,-201.59 497.14,-191.14\"/>\n",
       "<polygon fill=\"black\" stroke=\"black\" points=\"498.23,-187.8 487.66,-187.02 495.44,-194.22 498.23,-187.8\"/>\n",
       "</g>\n",
       "<!-- 9 -->\n",
       "<g id=\"node10\" class=\"node\">\n",
       "<title>9</title>\n",
       "<polygon fill=\"none\" stroke=\"black\" points=\"787.5,-187 539.5,-187 539.5,-104 787.5,-104 787.5,-187\"/>\n",
       "<text text-anchor=\"middle\" x=\"663.5\" y=\"-171.8\" font-family=\"Times,serif\" font-size=\"14.00\">fBodyGyro&#45;maxInds&#45;X &lt;= &#45;2.09</text>\n",
       "<text text-anchor=\"middle\" x=\"663.5\" y=\"-156.8\" font-family=\"Times,serif\" font-size=\"14.00\">gini = 0.274</text>\n",
       "<text text-anchor=\"middle\" x=\"663.5\" y=\"-141.8\" font-family=\"Times,serif\" font-size=\"14.00\">samples = 1688</text>\n",
       "<text text-anchor=\"middle\" x=\"663.5\" y=\"-126.8\" font-family=\"Times,serif\" font-size=\"14.00\">value = [1, 3, 4, 1427, 114, 139]</text>\n",
       "<text text-anchor=\"middle\" x=\"663.5\" y=\"-111.8\" font-family=\"Times,serif\" font-size=\"14.00\">class = WALKING</text>\n",
       "</g>\n",
       "<!-- 5&#45;&gt;9 -->\n",
       "<g id=\"edge9\" class=\"edge\">\n",
       "<title>5&#45;&gt;9</title>\n",
       "<path fill=\"none\" stroke=\"black\" d=\"M663.5,-222.91C663.5,-214.65 663.5,-205.86 663.5,-197.3\"/>\n",
       "<polygon fill=\"black\" stroke=\"black\" points=\"667,-197.02 663.5,-187.02 660,-197.02 667,-197.02\"/>\n",
       "</g>\n",
       "<!-- 7 -->\n",
       "<g id=\"node8\" class=\"node\">\n",
       "<title>7</title>\n",
       "<polygon fill=\"none\" stroke=\"black\" points=\"253,-68 0,-68 0,0 253,0 253,-68\"/>\n",
       "<text text-anchor=\"middle\" x=\"126.5\" y=\"-52.8\" font-family=\"Times,serif\" font-size=\"14.00\">gini = 0.648</text>\n",
       "<text text-anchor=\"middle\" x=\"126.5\" y=\"-37.8\" font-family=\"Times,serif\" font-size=\"14.00\">samples = 131</text>\n",
       "<text text-anchor=\"middle\" x=\"126.5\" y=\"-22.8\" font-family=\"Times,serif\" font-size=\"14.00\">value = [0, 0, 0, 44, 56, 31]</text>\n",
       "<text text-anchor=\"middle\" x=\"126.5\" y=\"-7.8\" font-family=\"Times,serif\" font-size=\"14.00\">class = WALKING_DOWNSTAIRS</text>\n",
       "</g>\n",
       "<!-- 6&#45;&gt;7 -->\n",
       "<g id=\"edge7\" class=\"edge\">\n",
       "<title>6&#45;&gt;7</title>\n",
       "<path fill=\"none\" stroke=\"black\" d=\"M295.09,-103.88C269.46,-93.41 242.03,-82.2 216.89,-71.93\"/>\n",
       "<polygon fill=\"black\" stroke=\"black\" points=\"217.95,-68.59 207.37,-68.04 215.31,-75.07 217.95,-68.59\"/>\n",
       "</g>\n",
       "<!-- 8 -->\n",
       "<g id=\"node9\" class=\"node\">\n",
       "<title>8</title>\n",
       "<polygon fill=\"none\" stroke=\"black\" points=\"524,-68 271,-68 271,0 524,0 524,-68\"/>\n",
       "<text text-anchor=\"middle\" x=\"397.5\" y=\"-52.8\" font-family=\"Times,serif\" font-size=\"14.00\">gini = 0.076</text>\n",
       "<text text-anchor=\"middle\" x=\"397.5\" y=\"-37.8\" font-family=\"Times,serif\" font-size=\"14.00\">samples = 939</text>\n",
       "<text text-anchor=\"middle\" x=\"397.5\" y=\"-22.8\" font-family=\"Times,serif\" font-size=\"14.00\">value = [0, 0, 0, 9, 902, 28]</text>\n",
       "<text text-anchor=\"middle\" x=\"397.5\" y=\"-7.8\" font-family=\"Times,serif\" font-size=\"14.00\">class = WALKING_DOWNSTAIRS</text>\n",
       "</g>\n",
       "<!-- 6&#45;&gt;8 -->\n",
       "<g id=\"edge8\" class=\"edge\">\n",
       "<title>6&#45;&gt;8</title>\n",
       "<path fill=\"none\" stroke=\"black\" d=\"M395.62,-103.73C395.84,-95.52 396.08,-86.86 396.31,-78.56\"/>\n",
       "<polygon fill=\"black\" stroke=\"black\" points=\"399.81,-78.39 396.59,-68.3 392.82,-78.2 399.81,-78.39\"/>\n",
       "</g>\n",
       "<!-- 10 -->\n",
       "<g id=\"node11\" class=\"node\">\n",
       "<title>10</title>\n",
       "<polygon fill=\"none\" stroke=\"black\" points=\"776.5,-68 546.5,-68 546.5,0 776.5,0 776.5,-68\"/>\n",
       "<text text-anchor=\"middle\" x=\"661.5\" y=\"-52.8\" font-family=\"Times,serif\" font-size=\"14.00\">gini = 0.127</text>\n",
       "<text text-anchor=\"middle\" x=\"661.5\" y=\"-37.8\" font-family=\"Times,serif\" font-size=\"14.00\">samples = 1496</text>\n",
       "<text text-anchor=\"middle\" x=\"661.5\" y=\"-22.8\" font-family=\"Times,serif\" font-size=\"14.00\">value = [1, 2, 4, 1396, 44, 49]</text>\n",
       "<text text-anchor=\"middle\" x=\"661.5\" y=\"-7.8\" font-family=\"Times,serif\" font-size=\"14.00\">class = WALKING</text>\n",
       "</g>\n",
       "<!-- 9&#45;&gt;10 -->\n",
       "<g id=\"edge10\" class=\"edge\">\n",
       "<title>9&#45;&gt;10</title>\n",
       "<path fill=\"none\" stroke=\"black\" d=\"M662.76,-103.73C662.61,-95.52 662.45,-86.86 662.3,-78.56\"/>\n",
       "<polygon fill=\"black\" stroke=\"black\" points=\"665.79,-78.23 662.11,-68.3 658.79,-78.36 665.79,-78.23\"/>\n",
       "</g>\n",
       "<!-- 11 -->\n",
       "<g id=\"node12\" class=\"node\">\n",
       "<title>11</title>\n",
       "<polygon fill=\"none\" stroke=\"black\" points=\"1020.5,-68 794.5,-68 794.5,0 1020.5,0 1020.5,-68\"/>\n",
       "<text text-anchor=\"middle\" x=\"907.5\" y=\"-52.8\" font-family=\"Times,serif\" font-size=\"14.00\">gini = 0.621</text>\n",
       "<text text-anchor=\"middle\" x=\"907.5\" y=\"-37.8\" font-family=\"Times,serif\" font-size=\"14.00\">samples = 192</text>\n",
       "<text text-anchor=\"middle\" x=\"907.5\" y=\"-22.8\" font-family=\"Times,serif\" font-size=\"14.00\">value = [0, 1, 0, 31, 70, 90]</text>\n",
       "<text text-anchor=\"middle\" x=\"907.5\" y=\"-7.8\" font-family=\"Times,serif\" font-size=\"14.00\">class = WALKING_UPSTAIRS</text>\n",
       "</g>\n",
       "<!-- 9&#45;&gt;11 -->\n",
       "<g id=\"edge11\" class=\"edge\">\n",
       "<title>9&#45;&gt;11</title>\n",
       "<path fill=\"none\" stroke=\"black\" d=\"M754.01,-103.88C777.13,-93.5 801.88,-82.4 824.6,-72.2\"/>\n",
       "<polygon fill=\"black\" stroke=\"black\" points=\"826.18,-75.33 833.87,-68.04 823.31,-68.94 826.18,-75.33\"/>\n",
       "</g>\n",
       "<!-- 13 -->\n",
       "<g id=\"node14\" class=\"node\">\n",
       "<title>13</title>\n",
       "<polygon fill=\"none\" stroke=\"black\" points=\"1149.5,-306 919.5,-306 919.5,-223 1149.5,-223 1149.5,-306\"/>\n",
       "<text text-anchor=\"middle\" x=\"1034.5\" y=\"-290.8\" font-family=\"Times,serif\" font-size=\"14.00\">tBodyGyro&#45;iqr()&#45;X &lt;= 1.63</text>\n",
       "<text text-anchor=\"middle\" x=\"1034.5\" y=\"-275.8\" font-family=\"Times,serif\" font-size=\"14.00\">gini = 0.186</text>\n",
       "<text text-anchor=\"middle\" x=\"1034.5\" y=\"-260.8\" font-family=\"Times,serif\" font-size=\"14.00\">samples = 1493</text>\n",
       "<text text-anchor=\"middle\" x=\"1034.5\" y=\"-245.8\" font-family=\"Times,serif\" font-size=\"14.00\">value = [0, 155, 1338, 0, 0, 0]</text>\n",
       "<text text-anchor=\"middle\" x=\"1034.5\" y=\"-230.8\" font-family=\"Times,serif\" font-size=\"14.00\">class = STANDING</text>\n",
       "</g>\n",
       "<!-- 12&#45;&gt;13 -->\n",
       "<g id=\"edge13\" class=\"edge\">\n",
       "<title>12&#45;&gt;13</title>\n",
       "<path fill=\"none\" stroke=\"black\" d=\"M1034.5,-341.91C1034.5,-333.65 1034.5,-324.86 1034.5,-316.3\"/>\n",
       "<polygon fill=\"black\" stroke=\"black\" points=\"1038,-316.02 1034.5,-306.02 1031,-316.02 1038,-316.02\"/>\n",
       "</g>\n",
       "<!-- 16 -->\n",
       "<g id=\"node17\" class=\"node\">\n",
       "<title>16</title>\n",
       "<polygon fill=\"none\" stroke=\"black\" points=\"1491.5,-306 1261.5,-306 1261.5,-223 1491.5,-223 1491.5,-306\"/>\n",
       "<text text-anchor=\"middle\" x=\"1376.5\" y=\"-290.8\" font-family=\"Times,serif\" font-size=\"14.00\">fBodyGyro&#45;mad()&#45;X &lt;= 5.194</text>\n",
       "<text text-anchor=\"middle\" x=\"1376.5\" y=\"-275.8\" font-family=\"Times,serif\" font-size=\"14.00\">gini = 0.244</text>\n",
       "<text text-anchor=\"middle\" x=\"1376.5\" y=\"-260.8\" font-family=\"Times,serif\" font-size=\"14.00\">samples = 1666</text>\n",
       "<text text-anchor=\"middle\" x=\"1376.5\" y=\"-245.8\" font-family=\"Times,serif\" font-size=\"14.00\">value = [4, 1430, 232, 0, 0, 0]</text>\n",
       "<text text-anchor=\"middle\" x=\"1376.5\" y=\"-230.8\" font-family=\"Times,serif\" font-size=\"14.00\">class = SITTING</text>\n",
       "</g>\n",
       "<!-- 12&#45;&gt;16 -->\n",
       "<g id=\"edge16\" class=\"edge\">\n",
       "<title>12&#45;&gt;16</title>\n",
       "<path fill=\"none\" stroke=\"black\" d=\"M1153.16,-341.91C1184.89,-331.05 1219.28,-319.28 1251.35,-308.31\"/>\n",
       "<polygon fill=\"black\" stroke=\"black\" points=\"1252.9,-311.48 1261.23,-304.94 1250.63,-304.86 1252.9,-311.48\"/>\n",
       "</g>\n",
       "<!-- 14 -->\n",
       "<g id=\"node15\" class=\"node\">\n",
       "<title>14</title>\n",
       "<polygon fill=\"none\" stroke=\"black\" points=\"1035.5,-179.5 805.5,-179.5 805.5,-111.5 1035.5,-111.5 1035.5,-179.5\"/>\n",
       "<text text-anchor=\"middle\" x=\"920.5\" y=\"-164.3\" font-family=\"Times,serif\" font-size=\"14.00\">gini = 0.138</text>\n",
       "<text text-anchor=\"middle\" x=\"920.5\" y=\"-149.3\" font-family=\"Times,serif\" font-size=\"14.00\">samples = 1433</text>\n",
       "<text text-anchor=\"middle\" x=\"920.5\" y=\"-134.3\" font-family=\"Times,serif\" font-size=\"14.00\">value = [0, 107, 1326, 0, 0, 0]</text>\n",
       "<text text-anchor=\"middle\" x=\"920.5\" y=\"-119.3\" font-family=\"Times,serif\" font-size=\"14.00\">class = STANDING</text>\n",
       "</g>\n",
       "<!-- 13&#45;&gt;14 -->\n",
       "<g id=\"edge14\" class=\"edge\">\n",
       "<title>13&#45;&gt;14</title>\n",
       "<path fill=\"none\" stroke=\"black\" d=\"M994.95,-222.91C983.66,-211.32 971.36,-198.7 960.07,-187.11\"/>\n",
       "<polygon fill=\"black\" stroke=\"black\" points=\"962.3,-184.39 952.82,-179.67 957.29,-189.27 962.3,-184.39\"/>\n",
       "</g>\n",
       "<!-- 15 -->\n",
       "<g id=\"node16\" class=\"node\">\n",
       "<title>15</title>\n",
       "<polygon fill=\"none\" stroke=\"black\" points=\"1257,-179.5 1054,-179.5 1054,-111.5 1257,-111.5 1257,-179.5\"/>\n",
       "<text text-anchor=\"middle\" x=\"1155.5\" y=\"-164.3\" font-family=\"Times,serif\" font-size=\"14.00\">gini = 0.32</text>\n",
       "<text text-anchor=\"middle\" x=\"1155.5\" y=\"-149.3\" font-family=\"Times,serif\" font-size=\"14.00\">samples = 60</text>\n",
       "<text text-anchor=\"middle\" x=\"1155.5\" y=\"-134.3\" font-family=\"Times,serif\" font-size=\"14.00\">value = [0, 48, 12, 0, 0, 0]</text>\n",
       "<text text-anchor=\"middle\" x=\"1155.5\" y=\"-119.3\" font-family=\"Times,serif\" font-size=\"14.00\">class = SITTING</text>\n",
       "</g>\n",
       "<!-- 13&#45;&gt;15 -->\n",
       "<g id=\"edge15\" class=\"edge\">\n",
       "<title>13&#45;&gt;15</title>\n",
       "<path fill=\"none\" stroke=\"black\" d=\"M1076.48,-222.91C1088.58,-211.21 1101.77,-198.46 1113.84,-186.78\"/>\n",
       "<polygon fill=\"black\" stroke=\"black\" points=\"1116.44,-189.13 1121.2,-179.67 1111.58,-184.1 1116.44,-189.13\"/>\n",
       "</g>\n",
       "<!-- 17 -->\n",
       "<g id=\"node18\" class=\"node\">\n",
       "<title>17</title>\n",
       "<polygon fill=\"none\" stroke=\"black\" points=\"1478,-179.5 1275,-179.5 1275,-111.5 1478,-111.5 1478,-179.5\"/>\n",
       "<text text-anchor=\"middle\" x=\"1376.5\" y=\"-164.3\" font-family=\"Times,serif\" font-size=\"14.00\">gini = 0.403</text>\n",
       "<text text-anchor=\"middle\" x=\"1376.5\" y=\"-149.3\" font-family=\"Times,serif\" font-size=\"14.00\">samples = 136</text>\n",
       "<text text-anchor=\"middle\" x=\"1376.5\" y=\"-134.3\" font-family=\"Times,serif\" font-size=\"14.00\">value = [0, 38, 98, 0, 0, 0]</text>\n",
       "<text text-anchor=\"middle\" x=\"1376.5\" y=\"-119.3\" font-family=\"Times,serif\" font-size=\"14.00\">class = STANDING</text>\n",
       "</g>\n",
       "<!-- 16&#45;&gt;17 -->\n",
       "<g id=\"edge17\" class=\"edge\">\n",
       "<title>16&#45;&gt;17</title>\n",
       "<path fill=\"none\" stroke=\"black\" d=\"M1376.5,-222.91C1376.5,-212.2 1376.5,-200.62 1376.5,-189.78\"/>\n",
       "<polygon fill=\"black\" stroke=\"black\" points=\"1380,-189.67 1376.5,-179.67 1373,-189.67 1380,-189.67\"/>\n",
       "</g>\n",
       "<!-- 18 -->\n",
       "<g id=\"node19\" class=\"node\">\n",
       "<title>18</title>\n",
       "<polygon fill=\"none\" stroke=\"black\" points=\"1725.5,-179.5 1495.5,-179.5 1495.5,-111.5 1725.5,-111.5 1725.5,-179.5\"/>\n",
       "<text text-anchor=\"middle\" x=\"1610.5\" y=\"-164.3\" font-family=\"Times,serif\" font-size=\"14.00\">gini = 0.165</text>\n",
       "<text text-anchor=\"middle\" x=\"1610.5\" y=\"-149.3\" font-family=\"Times,serif\" font-size=\"14.00\">samples = 1530</text>\n",
       "<text text-anchor=\"middle\" x=\"1610.5\" y=\"-134.3\" font-family=\"Times,serif\" font-size=\"14.00\">value = [4, 1392, 134, 0, 0, 0]</text>\n",
       "<text text-anchor=\"middle\" x=\"1610.5\" y=\"-119.3\" font-family=\"Times,serif\" font-size=\"14.00\">class = SITTING</text>\n",
       "</g>\n",
       "<!-- 16&#45;&gt;18 -->\n",
       "<g id=\"edge18\" class=\"edge\">\n",
       "<title>16&#45;&gt;18</title>\n",
       "<path fill=\"none\" stroke=\"black\" d=\"M1457.69,-222.91C1482.84,-210.33 1510.45,-196.53 1535.19,-184.16\"/>\n",
       "<polygon fill=\"black\" stroke=\"black\" points=\"1536.79,-187.27 1544.17,-179.67 1533.66,-181.01 1536.79,-187.27\"/>\n",
       "</g>\n",
       "</g>\n",
       "</svg>\n"
      ],
      "text/plain": [
       "<graphviz.files.Source at 0x7fe30782f100>"
      ]
     },
     "execution_count": 230,
     "metadata": {},
     "output_type": "execute_result"
    }
   ],
   "source": [
    "graph"
   ]
  },
  {
   "cell_type": "code",
   "execution_count": 232,
   "id": "tested-midnight",
   "metadata": {},
   "outputs": [],
   "source": [
    "p = pipeline.Pipeline(\n",
    "    [\n",
    "        (\"imputer\", imputer),\n",
    "        (\"tree\", final_tree_clf)\n",
    "    ]\n",
    ")"
   ]
  },
  {
   "cell_type": "code",
   "execution_count": 233,
   "id": "recognized-devices",
   "metadata": {},
   "outputs": [],
   "source": [
    "import joblib"
   ]
  },
  {
   "cell_type": "code",
   "execution_count": 235,
   "id": "royal-analyst",
   "metadata": {},
   "outputs": [
    {
     "data": {
      "text/plain": [
       "['pipeline.joblib']"
      ]
     },
     "execution_count": 235,
     "metadata": {},
     "output_type": "execute_result"
    }
   ],
   "source": [
    "joblib.dump(p, \"pipeline.joblib\")"
   ]
  },
  {
   "cell_type": "code",
   "execution_count": 241,
   "id": "cubic-tolerance",
   "metadata": {},
   "outputs": [
    {
     "data": {
      "text/plain": [
       "<AxesSubplot:title={'center':'tGravityAcc-min()-X'}, xlabel='Activity'>"
      ]
     },
     "execution_count": 241,
     "metadata": {},
     "output_type": "execute_result"
    },
    {
     "data": {
      "image/png": "[encoded data removed]",
      "text/plain": [
       "<Figure size 432x288 with 1 Axes>"
      ]
     },
     "metadata": {
      "needs_background": "light"
     },
     "output_type": "display_data"
    }
   ],
   "source": [
    "plt.boxplot(df[]\"tGravityAcc-min()-X\", \"Activity\")"
   ]
  },
  {
   "cell_type": "code",
   "execution_count": null,
   "id": "alert-speech",
   "metadata": {},
   "outputs": [],
   "source": []
  }
 ],
 "metadata": {
  "kernelspec": {
   "display_name": "Python 3",
   "language": "python",
   "name": "python3"
  },
  "language_info": {
   "codemirror_mode": {
    "name": "ipython",
    "version": 3
   },
   "file_extension": ".py",
   "mimetype": "text/x-python",
   "name": "python",
   "nbconvert_exporter": "python",
   "pygments_lexer": "ipython3",
   "version": "3.8.5"
  }
 },
 "nbformat": 4,
 "nbformat_minor": 5
}
