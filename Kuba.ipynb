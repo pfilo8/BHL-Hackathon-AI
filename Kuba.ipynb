{
 "cells": [
  {
   "cell_type": "code",
   "execution_count": 153,
   "id": "twenty-student",
   "metadata": {},
   "outputs": [],
   "source": [
    "import pandas as pd\n",
    "import numpy as np\n",
    "import seaborn as sns\n",
    "import matplotlib.pyplot as plt\n",
    "\n",
    "from sklearn import compose\n",
    "from sklearn import impute\n",
    "from sklearn import model_selection\n",
    "from sklearn import feature_selection\n",
    "from sklearn import tree\n",
    "from sklearn import pipeline\n",
    "from sklearn import ensemble\n",
    "\n",
    "from scipy import stats"
   ]
  },
  {
   "cell_type": "code",
   "execution_count": 136,
   "id": "authentic-richards",
   "metadata": {},
   "outputs": [],
   "source": [
    "import graphviz"
   ]
  },
  {
   "cell_type": "code",
   "execution_count": 137,
   "id": "lonely-miller",
   "metadata": {},
   "outputs": [
    {
     "data": {
      "text/html": [
       "<div>\n",
       "<style scoped>\n",
       "    .dataframe tbody tr th:only-of-type {\n",
       "        vertical-align: middle;\n",
       "    }\n",
       "\n",
       "    .dataframe tbody tr th {\n",
       "        vertical-align: top;\n",
       "    }\n",
       "\n",
       "    .dataframe thead th {\n",
       "        text-align: right;\n",
       "    }\n",
       "</style>\n",
       "<table border=\"1\" class=\"dataframe\">\n",
       "  <thead>\n",
       "    <tr style=\"text-align: right;\">\n",
       "      <th></th>\n",
       "      <th>Activity</th>\n",
       "      <th>angle(X,gravityMean)</th>\n",
       "      <th>angle(Y,gravityMean)</th>\n",
       "      <th>angle(Z,gravityMean)</th>\n",
       "      <th>angle(tBodyAccJerkMean),gravityMean)</th>\n",
       "      <th>angle(tBodyAccMean,gravity)</th>\n",
       "      <th>angle(tBodyGyroJerkMean,gravityMean)</th>\n",
       "      <th>angle(tBodyGyroMean,gravityMean)</th>\n",
       "      <th>energy-mean()</th>\n",
       "      <th>fBodyAcc-bandsEnergy()-1,16</th>\n",
       "      <th>...</th>\n",
       "      <th>tGravityAccMag-energy()</th>\n",
       "      <th>tGravityAccMag-entropy()</th>\n",
       "      <th>tGravityAccMag-iqr()</th>\n",
       "      <th>tGravityAccMag-mad()</th>\n",
       "      <th>tGravityAccMag-max()</th>\n",
       "      <th>tGravityAccMag-mean()</th>\n",
       "      <th>tGravityAccMag-min()</th>\n",
       "      <th>tGravityAccMag-sma()</th>\n",
       "      <th>tGravityAccMag-std()</th>\n",
       "      <th>void()</th>\n",
       "    </tr>\n",
       "  </thead>\n",
       "  <tbody>\n",
       "    <tr>\n",
       "      <th>0</th>\n",
       "      <td>STANDING</td>\n",
       "      <td>-1.574191</td>\n",
       "      <td>-0.805700</td>\n",
       "      <td>-2.453831</td>\n",
       "      <td>-1.861714</td>\n",
       "      <td>0.115517</td>\n",
       "      <td>-2.023369</td>\n",
       "      <td>3.125860</td>\n",
       "      <td>-9.474436</td>\n",
       "      <td>3.622600</td>\n",
       "      <td>...</td>\n",
       "      <td>5.049130</td>\n",
       "      <td>3.272281</td>\n",
       "      <td>5.103018</td>\n",
       "      <td>-0.823302</td>\n",
       "      <td>3.063681</td>\n",
       "      <td>-0.928676</td>\n",
       "      <td>-1.007695</td>\n",
       "      <td>3.094236</td>\n",
       "      <td>1.669987</td>\n",
       "      <td>1.0</td>\n",
       "    </tr>\n",
       "    <tr>\n",
       "      <th>1</th>\n",
       "      <td>WALKING_UPSTAIRS</td>\n",
       "      <td>-1.568669</td>\n",
       "      <td>-0.612620</td>\n",
       "      <td>-2.488338</td>\n",
       "      <td>-1.751117</td>\n",
       "      <td>0.218134</td>\n",
       "      <td>0.280294</td>\n",
       "      <td>7.953403</td>\n",
       "      <td>-0.679894</td>\n",
       "      <td>2.512880</td>\n",
       "      <td>...</td>\n",
       "      <td>4.565443</td>\n",
       "      <td>4.440779</td>\n",
       "      <td>3.288399</td>\n",
       "      <td>-2.689605</td>\n",
       "      <td>1.705341</td>\n",
       "      <td>-0.822617</td>\n",
       "      <td>-0.572410</td>\n",
       "      <td>-2.187890</td>\n",
       "      <td>-0.544652</td>\n",
       "      <td>2.0</td>\n",
       "    </tr>\n",
       "    <tr>\n",
       "      <th>2</th>\n",
       "      <td>LAYING</td>\n",
       "      <td>-1.548333</td>\n",
       "      <td>-0.139628</td>\n",
       "      <td>-2.380889</td>\n",
       "      <td>-1.915239</td>\n",
       "      <td>0.067613</td>\n",
       "      <td>-0.887342</td>\n",
       "      <td>6.007361</td>\n",
       "      <td>-11.906904</td>\n",
       "      <td>3.621984</td>\n",
       "      <td>...</td>\n",
       "      <td>5.059609</td>\n",
       "      <td>2.296603</td>\n",
       "      <td>5.344174</td>\n",
       "      <td>-0.549843</td>\n",
       "      <td>3.272225</td>\n",
       "      <td>-0.940610</td>\n",
       "      <td>-1.031522</td>\n",
       "      <td>-2.071755</td>\n",
       "      <td>2.024442</td>\n",
       "      <td>3.0</td>\n",
       "    </tr>\n",
       "    <tr>\n",
       "      <th>3</th>\n",
       "      <td>WALKING</td>\n",
       "      <td>-1.574094</td>\n",
       "      <td>-0.793443</td>\n",
       "      <td>-2.449959</td>\n",
       "      <td>-1.842741</td>\n",
       "      <td>-0.195625</td>\n",
       "      <td>-0.950671</td>\n",
       "      <td>2.104353</td>\n",
       "      <td>-11.906121</td>\n",
       "      <td>3.355701</td>\n",
       "      <td>...</td>\n",
       "      <td>4.860758</td>\n",
       "      <td>4.177535</td>\n",
       "      <td>3.950012</td>\n",
       "      <td>-0.322642</td>\n",
       "      <td>2.366287</td>\n",
       "      <td>-0.866937</td>\n",
       "      <td>-0.696431</td>\n",
       "      <td>1.863375</td>\n",
       "      <td>0.550414</td>\n",
       "      <td>2.0</td>\n",
       "    </tr>\n",
       "    <tr>\n",
       "      <th>4</th>\n",
       "      <td>LAYING</td>\n",
       "      <td>-1.548333</td>\n",
       "      <td>-0.139628</td>\n",
       "      <td>-2.380889</td>\n",
       "      <td>NaN</td>\n",
       "      <td>0.067613</td>\n",
       "      <td>-0.887342</td>\n",
       "      <td>6.007361</td>\n",
       "      <td>-11.970485</td>\n",
       "      <td>3.621984</td>\n",
       "      <td>...</td>\n",
       "      <td>5.059609</td>\n",
       "      <td>2.296603</td>\n",
       "      <td>5.344174</td>\n",
       "      <td>-0.549843</td>\n",
       "      <td>3.272225</td>\n",
       "      <td>-0.940610</td>\n",
       "      <td>-1.031522</td>\n",
       "      <td>-2.102513</td>\n",
       "      <td>2.024442</td>\n",
       "      <td>3.0</td>\n",
       "    </tr>\n",
       "  </tbody>\n",
       "</table>\n",
       "<p>5 rows × 572 columns</p>\n",
       "</div>"
      ],
      "text/plain": [
       "           Activity  angle(X,gravityMean)  angle(Y,gravityMean)  \\\n",
       "0          STANDING             -1.574191             -0.805700   \n",
       "1  WALKING_UPSTAIRS             -1.568669             -0.612620   \n",
       "2            LAYING             -1.548333             -0.139628   \n",
       "3           WALKING             -1.574094             -0.793443   \n",
       "4            LAYING             -1.548333             -0.139628   \n",
       "\n",
       "   angle(Z,gravityMean)  angle(tBodyAccJerkMean),gravityMean)  \\\n",
       "0             -2.453831                             -1.861714   \n",
       "1             -2.488338                             -1.751117   \n",
       "2             -2.380889                             -1.915239   \n",
       "3             -2.449959                             -1.842741   \n",
       "4             -2.380889                                   NaN   \n",
       "\n",
       "   angle(tBodyAccMean,gravity)  angle(tBodyGyroJerkMean,gravityMean)  \\\n",
       "0                     0.115517                             -2.023369   \n",
       "1                     0.218134                              0.280294   \n",
       "2                     0.067613                             -0.887342   \n",
       "3                    -0.195625                             -0.950671   \n",
       "4                     0.067613                             -0.887342   \n",
       "\n",
       "   angle(tBodyGyroMean,gravityMean)  energy-mean()  \\\n",
       "0                          3.125860      -9.474436   \n",
       "1                          7.953403      -0.679894   \n",
       "2                          6.007361     -11.906904   \n",
       "3                          2.104353     -11.906121   \n",
       "4                          6.007361     -11.970485   \n",
       "\n",
       "   fBodyAcc-bandsEnergy()-1,16  ...  tGravityAccMag-energy()  \\\n",
       "0                     3.622600  ...                 5.049130   \n",
       "1                     2.512880  ...                 4.565443   \n",
       "2                     3.621984  ...                 5.059609   \n",
       "3                     3.355701  ...                 4.860758   \n",
       "4                     3.621984  ...                 5.059609   \n",
       "\n",
       "   tGravityAccMag-entropy()  tGravityAccMag-iqr()  tGravityAccMag-mad()  \\\n",
       "0                  3.272281              5.103018             -0.823302   \n",
       "1                  4.440779              3.288399             -2.689605   \n",
       "2                  2.296603              5.344174             -0.549843   \n",
       "3                  4.177535              3.950012             -0.322642   \n",
       "4                  2.296603              5.344174             -0.549843   \n",
       "\n",
       "   tGravityAccMag-max()  tGravityAccMag-mean()  tGravityAccMag-min()  \\\n",
       "0              3.063681              -0.928676             -1.007695   \n",
       "1              1.705341              -0.822617             -0.572410   \n",
       "2              3.272225              -0.940610             -1.031522   \n",
       "3              2.366287              -0.866937             -0.696431   \n",
       "4              3.272225              -0.940610             -1.031522   \n",
       "\n",
       "   tGravityAccMag-sma()  tGravityAccMag-std()  void()  \n",
       "0              3.094236              1.669987     1.0  \n",
       "1             -2.187890             -0.544652     2.0  \n",
       "2             -2.071755              2.024442     3.0  \n",
       "3              1.863375              0.550414     2.0  \n",
       "4             -2.102513              2.024442     3.0  \n",
       "\n",
       "[5 rows x 572 columns]"
      ]
     },
     "execution_count": 137,
     "metadata": {},
     "output_type": "execute_result"
    }
   ],
   "source": [
    "df = pd.read_csv(\"data/final_train.csv\", index_col=0)\n",
    "df.head()"
   ]
  },
  {
   "cell_type": "code",
   "execution_count": 138,
   "id": "exposed-basket",
   "metadata": {},
   "outputs": [],
   "source": [
    "y = df[\"Activity\"]\n",
    "X = df.drop(columns=[\"Activity\", \"subject\", \"void()\"])"
   ]
  },
  {
   "cell_type": "code",
   "execution_count": 139,
   "id": "periodic-nepal",
   "metadata": {},
   "outputs": [],
   "source": [
    "X_train, X_test, y_train, y_test = model_selection.train_test_split(X, y, test_size=0.2, random_state=42)"
   ]
  },
  {
   "cell_type": "code",
   "execution_count": 140,
   "id": "humanitarian-charge",
   "metadata": {},
   "outputs": [],
   "source": [
    "p = pipeline.Pipeline(\n",
    "    [\n",
    "        (\"imputer\", impute.SimpleImputer()),\n",
    "        (\"feature_selection\", feature_selection.SelectFromModel(ensemble.RandomForestClassifier(random_state=42))),\n",
    "        (\"tree\", tree.DecisionTreeClassifier(random_state=42))\n",
    "    ]\n",
    ")"
   ]
  },
  {
   "cell_type": "code",
   "execution_count": 142,
   "id": "found-tracker",
   "metadata": {},
   "outputs": [],
   "source": [
    "imputer = impute.SimpleImputer()\n",
    "X_train = imputer.fit_transform(X_train)\n",
    "X_test = imputer.transform(X_test)"
   ]
  },
  {
   "cell_type": "code",
   "execution_count": 144,
   "id": "european-array",
   "metadata": {},
   "outputs": [],
   "source": [
    "selector = feature_selection.SelectFromModel(ensemble.RandomForestClassifier(random_state=42))\n",
    "X_train = selector.fit_transform(X_train, y_train)\n",
    "X_test = selector.transform(X_test)"
   ]
  },
  {
   "cell_type": "code",
   "execution_count": 145,
   "id": "limited-adolescent",
   "metadata": {},
   "outputs": [],
   "source": [
    "tree_clf = tree.DecisionTreeClassifier(random_state=42)\n",
    "tree_clf.fit(X_train, y_train)"
   ]
  },
  {
   "cell_type": "code",
   "execution_count": 150,
   "id": "planned-premium",
   "metadata": {},
   "outputs": [],
   "source": [
    "path = tree_clf.cost_complexity_pruning_path(X_train, y_train)\n",
    "ccp_alphas, impurities = path.ccp_alphas, path.impurities"
   ]
  },
  {
   "cell_type": "code",
   "execution_count": 165,
   "id": "hybrid-driving",
   "metadata": {},
   "outputs": [
    {
     "data": {
      "image/png": "[encoded data removed]",
      "text/plain": [
       "<Figure size 1080x360 with 1 Axes>"
      ]
     },
     "metadata": {
      "needs_background": "light"
     },
     "output_type": "display_data"
    }
   ],
   "source": [
    "fig, ax = plt.subplots(figsize=(15, 5))\n",
    "ax.plot(ccp_alphas, impurities, marker='o', drawstyle=\"steps-post\")\n",
    "ax.set_xlabel(\"ccp_alpha\")\n",
    "ax.set_ylabel(\"impurity\")\n",
    "plt.show()"
   ]
  },
  {
   "cell_type": "code",
   "execution_count": 167,
   "id": "furnished-television",
   "metadata": {},
   "outputs": [],
   "source": [
    "clfs = [\n",
    "    tree.DecisionTreeClassifier(random_state=42, ccp_alpha=ccp_alpha).fit(X_train, y_train)\n",
    "    for ccp_alpha in ccp_alphas\n",
    "]"
   ]
  },
  {
   "cell_type": "code",
   "execution_count": 168,
   "id": "seasonal-sight",
   "metadata": {},
   "outputs": [],
   "source": [
    "train_scores = [clf.score(X_train, y_train) for clf in clfs]\n",
    "test_scores = [clf.score(X_test, y_test) for clf in clfs]"
   ]
  },
  {
   "cell_type": "code",
   "execution_count": 171,
   "id": "mental-finish",
   "metadata": {},
   "outputs": [
    {
     "data": {
      "image/png": "[encoded data removed]",
      "text/plain": [
       "<Figure size 1080x720 with 1 Axes>"
      ]
     },
     "metadata": {
      "needs_background": "light"
     },
     "output_type": "display_data"
    }
   ],
   "source": [
    "fig, ax = plt.subplots(figsize=(15, 10))\n",
    "\n",
    "ax.plot(ccp_alphas, train_scores, marker='o', drawstyle=\"steps-post\", label=\"train score\")\n",
    "ax.plot(ccp_alphas, test_scores, marker='o', drawstyle=\"steps-post\", label=\"test score\")\n",
    "\n",
    "plt.show()"
   ]
  },
  {
   "cell_type": "code",
   "execution_count": 175,
   "id": "handmade-microwave",
   "metadata": {},
   "outputs": [
    {
     "data": {
      "text/plain": [
       "DecisionTreeClassifier(ccp_alpha=0.09743152, random_state=42)"
      ]
     },
     "execution_count": 175,
     "metadata": {},
     "output_type": "execute_result"
    }
   ],
   "source": [
    "final_tree_clf = tree.DecisionTreeClassifier(random_state=42, ccp_alpha=0.09743152)\n",
    "final_tree_clf.fit(X_train, y_train)"
   ]
  },
  {
   "cell_type": "code",
   "execution_count": 177,
   "id": "liquid-guinea",
   "metadata": {},
   "outputs": [
    {
     "data": {
      "text/plain": [
       "0.9035166816952209"
      ]
     },
     "execution_count": 177,
     "metadata": {},
     "output_type": "execute_result"
    }
   ],
   "source": [
    "final_tree_clf.score(X_test, y_test)"
   ]
  },
  {
   "cell_type": "code",
   "execution_count": 178,
   "id": "appropriate-steam",
   "metadata": {
    "scrolled": false
   },
   "outputs": [
    {
     "data": {
      "text/plain": [
       "'result.pdf'"
      ]
     },
     "execution_count": 178,
     "metadata": {},
     "output_type": "execute_result"
    }
   ],
   "source": [
    "dot_data = tree.export_graphviz(\n",
    "    final_tree_clf,\n",
    "    feature_names=X.columns[selector.get_support()],\n",
    "    class_names=final_tree_clf.classes_\n",
    ")\n",
    "graph = graphviz.Source(dot_data)\n",
    "graph.render(\"result\")"
   ]
  },
  {
   "cell_type": "code",
   "execution_count": 180,
   "id": "juvenile-laugh",
   "metadata": {},
   "outputs": [
    {
     "data": {
      "image/svg+xml": [
       "<?xml version=\"1.0\" encoding=\"UTF-8\" standalone=\"no\"?>\n",
       "<!DOCTYPE svg PUBLIC \"-//W3C//DTD SVG 1.1//EN\"\n",
       " \"http://www.w3.org/Graphics/SVG/1.1/DTD/svg11.dtd\">\n",
       "<!-- Generated by graphviz version 2.43.0 (0)\n",
       " -->\n",
       "<!-- Title: Tree Pages: 1 -->\n",
       "<svg width=\"1018pt\" height=\"552pt\"\n",
       " viewBox=\"0.00 0.00 1018.00 552.00\" xmlns=\"http://www.w3.org/2000/svg\" xmlns:xlink=\"http://www.w3.org/1999/xlink\">\n",
       "<g id=\"graph0\" class=\"graph\" transform=\"scale(1 1) rotate(0) translate(4 548)\">\n",
       "<title>Tree</title>\n",
       "<polygon fill=\"white\" stroke=\"transparent\" points=\"-4,4 -4,-548 1014,-548 1014,4 -4,4\"/>\n",
       "<!-- 0 -->\n",
       "<g id=\"node1\" class=\"node\">\n",
       "<title>0</title>\n",
       "<polygon fill=\"none\" stroke=\"black\" points=\"543.5,-544 196.5,-544 196.5,-461 543.5,-461 543.5,-544\"/>\n",
       "<text text-anchor=\"middle\" x=\"370\" y=\"-528.8\" font-family=\"Times,serif\" font-size=\"14.00\">tGravityAcc&#45;min()&#45;X &lt;= &#45;2.411</text>\n",
       "<text text-anchor=\"middle\" x=\"370\" y=\"-513.8\" font-family=\"Times,serif\" font-size=\"14.00\">gini = 0.83</text>\n",
       "<text text-anchor=\"middle\" x=\"370\" y=\"-498.8\" font-family=\"Times,serif\" font-size=\"14.00\">samples = 8868</text>\n",
       "<text text-anchor=\"middle\" x=\"370\" y=\"-483.8\" font-family=\"Times,serif\" font-size=\"14.00\">value = [1764, 1588, 1576, 1514, 1123, 1303]</text>\n",
       "<text text-anchor=\"middle\" x=\"370\" y=\"-468.8\" font-family=\"Times,serif\" font-size=\"14.00\">class = LAYING</text>\n",
       "</g>\n",
       "<!-- 1 -->\n",
       "<g id=\"node2\" class=\"node\">\n",
       "<title>1</title>\n",
       "<polygon fill=\"none\" stroke=\"black\" points=\"334,-417.5 122,-417.5 122,-349.5 334,-349.5 334,-417.5\"/>\n",
       "<text text-anchor=\"middle\" x=\"228\" y=\"-402.3\" font-family=\"Times,serif\" font-size=\"14.00\">gini = 0.0</text>\n",
       "<text text-anchor=\"middle\" x=\"228\" y=\"-387.3\" font-family=\"Times,serif\" font-size=\"14.00\">samples = 1759</text>\n",
       "<text text-anchor=\"middle\" x=\"228\" y=\"-372.3\" font-family=\"Times,serif\" font-size=\"14.00\">value = [1759, 0, 0, 0, 0, 0]</text>\n",
       "<text text-anchor=\"middle\" x=\"228\" y=\"-357.3\" font-family=\"Times,serif\" font-size=\"14.00\">class = LAYING</text>\n",
       "</g>\n",
       "<!-- 0&#45;&gt;1 -->\n",
       "<g id=\"edge1\" class=\"edge\">\n",
       "<title>0&#45;&gt;1</title>\n",
       "<path fill=\"none\" stroke=\"black\" d=\"M320.73,-460.91C306.27,-448.99 290.47,-435.98 276.09,-424.12\"/>\n",
       "<polygon fill=\"black\" stroke=\"black\" points=\"278.2,-421.32 268.25,-417.67 273.75,-426.73 278.2,-421.32\"/>\n",
       "<text text-anchor=\"middle\" x=\"270.66\" y=\"-438.85\" font-family=\"Times,serif\" font-size=\"14.00\">True</text>\n",
       "</g>\n",
       "<!-- 2 -->\n",
       "<g id=\"node3\" class=\"node\">\n",
       "<title>2</title>\n",
       "<polygon fill=\"none\" stroke=\"black\" points=\"672,-425 352,-425 352,-342 672,-342 672,-425\"/>\n",
       "<text text-anchor=\"middle\" x=\"512\" y=\"-409.8\" font-family=\"Times,serif\" font-size=\"14.00\">fBodyAccJerk&#45;std()&#45;X &lt;= &#45;4.449</text>\n",
       "<text text-anchor=\"middle\" x=\"512\" y=\"-394.8\" font-family=\"Times,serif\" font-size=\"14.00\">gini = 0.797</text>\n",
       "<text text-anchor=\"middle\" x=\"512\" y=\"-379.8\" font-family=\"Times,serif\" font-size=\"14.00\">samples = 7109</text>\n",
       "<text text-anchor=\"middle\" x=\"512\" y=\"-364.8\" font-family=\"Times,serif\" font-size=\"14.00\">value = [5, 1588, 1576, 1514, 1123, 1303]</text>\n",
       "<text text-anchor=\"middle\" x=\"512\" y=\"-349.8\" font-family=\"Times,serif\" font-size=\"14.00\">class = SITTING</text>\n",
       "</g>\n",
       "<!-- 0&#45;&gt;2 -->\n",
       "<g id=\"edge2\" class=\"edge\">\n",
       "<title>0&#45;&gt;2</title>\n",
       "<path fill=\"none\" stroke=\"black\" d=\"M419.27,-460.91C430.72,-451.47 443.01,-441.34 454.78,-431.65\"/>\n",
       "<polygon fill=\"black\" stroke=\"black\" points=\"457.33,-434.08 462.82,-425.02 452.88,-428.68 457.33,-434.08\"/>\n",
       "<text text-anchor=\"middle\" x=\"460.42\" y=\"-446.21\" font-family=\"Times,serif\" font-size=\"14.00\">False</text>\n",
       "</g>\n",
       "<!-- 3 -->\n",
       "<g id=\"node4\" class=\"node\">\n",
       "<title>3</title>\n",
       "<polygon fill=\"none\" stroke=\"black\" points=\"509.5,-306 236.5,-306 236.5,-223 509.5,-223 509.5,-306\"/>\n",
       "<text text-anchor=\"middle\" x=\"373\" y=\"-290.8\" font-family=\"Times,serif\" font-size=\"14.00\">tGravityAcc&#45;arCoeff()&#45;Z,2 &lt;= &#45;2.404</text>\n",
       "<text text-anchor=\"middle\" x=\"373\" y=\"-275.8\" font-family=\"Times,serif\" font-size=\"14.00\">gini = 0.663</text>\n",
       "<text text-anchor=\"middle\" x=\"373\" y=\"-260.8\" font-family=\"Times,serif\" font-size=\"14.00\">samples = 3950</text>\n",
       "<text text-anchor=\"middle\" x=\"373\" y=\"-245.8\" font-family=\"Times,serif\" font-size=\"14.00\">value = [1, 3, 6, 1514, 1123, 1303]</text>\n",
       "<text text-anchor=\"middle\" x=\"373\" y=\"-230.8\" font-family=\"Times,serif\" font-size=\"14.00\">class = WALKING</text>\n",
       "</g>\n",
       "<!-- 2&#45;&gt;3 -->\n",
       "<g id=\"edge3\" class=\"edge\">\n",
       "<title>2&#45;&gt;3</title>\n",
       "<path fill=\"none\" stroke=\"black\" d=\"M463.77,-341.91C452.56,-332.47 440.53,-322.34 429.01,-312.65\"/>\n",
       "<polygon fill=\"black\" stroke=\"black\" points=\"431.04,-309.78 421.14,-306.02 426.54,-315.14 431.04,-309.78\"/>\n",
       "</g>\n",
       "<!-- 8 -->\n",
       "<g id=\"node9\" class=\"node\">\n",
       "<title>8</title>\n",
       "<polygon fill=\"none\" stroke=\"black\" points=\"774.5,-306 527.5,-306 527.5,-223 774.5,-223 774.5,-306\"/>\n",
       "<text text-anchor=\"middle\" x=\"651\" y=\"-290.8\" font-family=\"Times,serif\" font-size=\"14.00\">angle(Y,gravityMean) &lt;= &#45;0.733</text>\n",
       "<text text-anchor=\"middle\" x=\"651\" y=\"-275.8\" font-family=\"Times,serif\" font-size=\"14.00\">gini = 0.501</text>\n",
       "<text text-anchor=\"middle\" x=\"651\" y=\"-260.8\" font-family=\"Times,serif\" font-size=\"14.00\">samples = 3159</text>\n",
       "<text text-anchor=\"middle\" x=\"651\" y=\"-245.8\" font-family=\"Times,serif\" font-size=\"14.00\">value = [4, 1585, 1570, 0, 0, 0]</text>\n",
       "<text text-anchor=\"middle\" x=\"651\" y=\"-230.8\" font-family=\"Times,serif\" font-size=\"14.00\">class = SITTING</text>\n",
       "</g>\n",
       "<!-- 2&#45;&gt;8 -->\n",
       "<g id=\"edge8\" class=\"edge\">\n",
       "<title>2&#45;&gt;8</title>\n",
       "<path fill=\"none\" stroke=\"black\" d=\"M560.23,-341.91C571.44,-332.47 583.47,-322.34 594.99,-312.65\"/>\n",
       "<polygon fill=\"black\" stroke=\"black\" points=\"597.46,-315.14 602.86,-306.02 592.96,-309.78 597.46,-315.14\"/>\n",
       "</g>\n",
       "<!-- 4 -->\n",
       "<g id=\"node5\" class=\"node\">\n",
       "<title>4</title>\n",
       "<polygon fill=\"none\" stroke=\"black\" points=\"230,-179.5 0,-179.5 0,-111.5 230,-111.5 230,-179.5\"/>\n",
       "<text text-anchor=\"middle\" x=\"115\" y=\"-164.3\" font-family=\"Times,serif\" font-size=\"14.00\">gini = 0.138</text>\n",
       "<text text-anchor=\"middle\" x=\"115\" y=\"-149.3\" font-family=\"Times,serif\" font-size=\"14.00\">samples = 1192</text>\n",
       "<text text-anchor=\"middle\" x=\"115\" y=\"-134.3\" font-family=\"Times,serif\" font-size=\"14.00\">value = [0, 0, 2, 34, 51, 1105]</text>\n",
       "<text text-anchor=\"middle\" x=\"115\" y=\"-119.3\" font-family=\"Times,serif\" font-size=\"14.00\">class = WALKING_UPSTAIRS</text>\n",
       "</g>\n",
       "<!-- 3&#45;&gt;4 -->\n",
       "<g id=\"edge4\" class=\"edge\">\n",
       "<title>3&#45;&gt;4</title>\n",
       "<path fill=\"none\" stroke=\"black\" d=\"M283.49,-222.91C255.51,-210.22 224.78,-196.28 197.32,-183.83\"/>\n",
       "<polygon fill=\"black\" stroke=\"black\" points=\"198.69,-180.61 188.14,-179.67 195.8,-186.98 198.69,-180.61\"/>\n",
       "</g>\n",
       "<!-- 5 -->\n",
       "<g id=\"node6\" class=\"node\">\n",
       "<title>5</title>\n",
       "<polygon fill=\"none\" stroke=\"black\" points=\"505.5,-187 248.5,-187 248.5,-104 505.5,-104 505.5,-187\"/>\n",
       "<text text-anchor=\"middle\" x=\"377\" y=\"-171.8\" font-family=\"Times,serif\" font-size=\"14.00\">fBodyAccMag&#45;std() &lt;= &#45;2.421</text>\n",
       "<text text-anchor=\"middle\" x=\"377\" y=\"-156.8\" font-family=\"Times,serif\" font-size=\"14.00\">gini = 0.556</text>\n",
       "<text text-anchor=\"middle\" x=\"377\" y=\"-141.8\" font-family=\"Times,serif\" font-size=\"14.00\">samples = 2758</text>\n",
       "<text text-anchor=\"middle\" x=\"377\" y=\"-126.8\" font-family=\"Times,serif\" font-size=\"14.00\">value = [1, 3, 4, 1480, 1072, 198]</text>\n",
       "<text text-anchor=\"middle\" x=\"377\" y=\"-111.8\" font-family=\"Times,serif\" font-size=\"14.00\">class = WALKING</text>\n",
       "</g>\n",
       "<!-- 3&#45;&gt;5 -->\n",
       "<g id=\"edge5\" class=\"edge\">\n",
       "<title>3&#45;&gt;5</title>\n",
       "<path fill=\"none\" stroke=\"black\" d=\"M374.39,-222.91C374.67,-214.56 374.98,-205.67 375.27,-197.02\"/>\n",
       "<polygon fill=\"black\" stroke=\"black\" points=\"378.77,-197.13 375.61,-187.02 371.77,-196.9 378.77,-197.13\"/>\n",
       "</g>\n",
       "<!-- 6 -->\n",
       "<g id=\"node7\" class=\"node\">\n",
       "<title>6</title>\n",
       "<polygon fill=\"none\" stroke=\"black\" points=\"369.5,-68 116.5,-68 116.5,0 369.5,0 369.5,-68\"/>\n",
       "<text text-anchor=\"middle\" x=\"243\" y=\"-52.8\" font-family=\"Times,serif\" font-size=\"14.00\">gini = 0.193</text>\n",
       "<text text-anchor=\"middle\" x=\"243\" y=\"-37.8\" font-family=\"Times,serif\" font-size=\"14.00\">samples = 1070</text>\n",
       "<text text-anchor=\"middle\" x=\"243\" y=\"-22.8\" font-family=\"Times,serif\" font-size=\"14.00\">value = [0, 0, 0, 53, 958, 59]</text>\n",
       "<text text-anchor=\"middle\" x=\"243\" y=\"-7.8\" font-family=\"Times,serif\" font-size=\"14.00\">class = WALKING_DOWNSTAIRS</text>\n",
       "</g>\n",
       "<!-- 5&#45;&gt;6 -->\n",
       "<g id=\"edge6\" class=\"edge\">\n",
       "<title>5&#45;&gt;6</title>\n",
       "<path fill=\"none\" stroke=\"black\" d=\"M327.1,-103.73C315.5,-94.24 303.15,-84.16 291.6,-74.72\"/>\n",
       "<polygon fill=\"black\" stroke=\"black\" points=\"293.71,-71.92 283.75,-68.3 289.28,-77.34 293.71,-71.92\"/>\n",
       "</g>\n",
       "<!-- 7 -->\n",
       "<g id=\"node8\" class=\"node\">\n",
       "<title>7</title>\n",
       "<polygon fill=\"none\" stroke=\"black\" points=\"636,-68 388,-68 388,0 636,0 636,-68\"/>\n",
       "<text text-anchor=\"middle\" x=\"512\" y=\"-52.8\" font-family=\"Times,serif\" font-size=\"14.00\">gini = 0.274</text>\n",
       "<text text-anchor=\"middle\" x=\"512\" y=\"-37.8\" font-family=\"Times,serif\" font-size=\"14.00\">samples = 1688</text>\n",
       "<text text-anchor=\"middle\" x=\"512\" y=\"-22.8\" font-family=\"Times,serif\" font-size=\"14.00\">value = [1, 3, 4, 1427, 114, 139]</text>\n",
       "<text text-anchor=\"middle\" x=\"512\" y=\"-7.8\" font-family=\"Times,serif\" font-size=\"14.00\">class = WALKING</text>\n",
       "</g>\n",
       "<!-- 5&#45;&gt;7 -->\n",
       "<g id=\"edge7\" class=\"edge\">\n",
       "<title>5&#45;&gt;7</title>\n",
       "<path fill=\"none\" stroke=\"black\" d=\"M427.27,-103.73C438.96,-94.24 451.4,-84.16 463.04,-74.72\"/>\n",
       "<polygon fill=\"black\" stroke=\"black\" points=\"465.38,-77.32 470.95,-68.3 460.97,-71.88 465.38,-77.32\"/>\n",
       "</g>\n",
       "<!-- 9 -->\n",
       "<g id=\"node10\" class=\"node\">\n",
       "<title>9</title>\n",
       "<polygon fill=\"none\" stroke=\"black\" points=\"762,-179.5 532,-179.5 532,-111.5 762,-111.5 762,-179.5\"/>\n",
       "<text text-anchor=\"middle\" x=\"647\" y=\"-164.3\" font-family=\"Times,serif\" font-size=\"14.00\">gini = 0.186</text>\n",
       "<text text-anchor=\"middle\" x=\"647\" y=\"-149.3\" font-family=\"Times,serif\" font-size=\"14.00\">samples = 1493</text>\n",
       "<text text-anchor=\"middle\" x=\"647\" y=\"-134.3\" font-family=\"Times,serif\" font-size=\"14.00\">value = [0, 155, 1338, 0, 0, 0]</text>\n",
       "<text text-anchor=\"middle\" x=\"647\" y=\"-119.3\" font-family=\"Times,serif\" font-size=\"14.00\">class = STANDING</text>\n",
       "</g>\n",
       "<!-- 8&#45;&gt;9 -->\n",
       "<g id=\"edge9\" class=\"edge\">\n",
       "<title>8&#45;&gt;9</title>\n",
       "<path fill=\"none\" stroke=\"black\" d=\"M649.61,-222.91C649.25,-212.2 648.85,-200.62 648.48,-189.78\"/>\n",
       "<polygon fill=\"black\" stroke=\"black\" points=\"651.97,-189.54 648.13,-179.67 644.98,-189.78 651.97,-189.54\"/>\n",
       "</g>\n",
       "<!-- 10 -->\n",
       "<g id=\"node11\" class=\"node\">\n",
       "<title>10</title>\n",
       "<polygon fill=\"none\" stroke=\"black\" points=\"1010,-179.5 780,-179.5 780,-111.5 1010,-111.5 1010,-179.5\"/>\n",
       "<text text-anchor=\"middle\" x=\"895\" y=\"-164.3\" font-family=\"Times,serif\" font-size=\"14.00\">gini = 0.244</text>\n",
       "<text text-anchor=\"middle\" x=\"895\" y=\"-149.3\" font-family=\"Times,serif\" font-size=\"14.00\">samples = 1666</text>\n",
       "<text text-anchor=\"middle\" x=\"895\" y=\"-134.3\" font-family=\"Times,serif\" font-size=\"14.00\">value = [4, 1430, 232, 0, 0, 0]</text>\n",
       "<text text-anchor=\"middle\" x=\"895\" y=\"-119.3\" font-family=\"Times,serif\" font-size=\"14.00\">class = SITTING</text>\n",
       "</g>\n",
       "<!-- 8&#45;&gt;10 -->\n",
       "<g id=\"edge10\" class=\"edge\">\n",
       "<title>8&#45;&gt;10</title>\n",
       "<path fill=\"none\" stroke=\"black\" d=\"M735.65,-222.91C762,-210.27 790.92,-196.41 816.81,-183.99\"/>\n",
       "<polygon fill=\"black\" stroke=\"black\" points=\"818.33,-187.15 825.83,-179.67 815.3,-180.83 818.33,-187.15\"/>\n",
       "</g>\n",
       "</g>\n",
       "</svg>\n"
      ],
      "text/plain": [
       "<graphviz.files.Source at 0x7fe2d89b7c40>"
      ]
     },
     "execution_count": 180,
     "metadata": {},
     "output_type": "execute_result"
    }
   ],
   "source": [
    "graph"
   ]
  }
 ],
 "metadata": {
  "kernelspec": {
   "display_name": "Python 3",
   "language": "python",
   "name": "python3"
  },
  "language_info": {
   "codemirror_mode": {
    "name": "ipython",
    "version": 3
   },
   "file_extension": ".py",
   "mimetype": "text/x-python",
   "name": "python",
   "nbconvert_exporter": "python",
   "pygments_lexer": "ipython3",
   "version": "3.8.5"
  }
 },
 "nbformat": 4,
 "nbformat_minor": 5
}
