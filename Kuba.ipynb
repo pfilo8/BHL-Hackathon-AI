{
 "cells": [
  {
   "cell_type": "code",
   "execution_count": 22,
   "id": "specified-smile",
   "metadata": {},
   "outputs": [],
   "source": [
    "import pandas as pd\n",
    "import numpy as np\n",
    "import seaborn as sns\n",
    "import matplotlib.pyplot as plt\n",
    "\n",
    "from sklearn import compose\n",
    "from sklearn import impute\n",
    "from sklearn import model_selection\n",
    "from sklearn import feature_selection\n",
    "from sklearn import tree\n",
    "from sklearn import pipeline\n",
    "from sklearn import ensemble\n",
    "from sklearn import metrics\n",
    "\n",
    "from scipy import stats\n",
    "\n",
    "import graphviz\n",
    "from tqdm import tqdm\n",
    "import joblib"
   ]
  },
  {
   "cell_type": "code",
   "execution_count": 3,
   "id": "remarkable-christopher",
   "metadata": {},
   "outputs": [
    {
     "data": {
      "text/html": [
       "<div>\n",
       "<style scoped>\n",
       "    .dataframe tbody tr th:only-of-type {\n",
       "        vertical-align: middle;\n",
       "    }\n",
       "\n",
       "    .dataframe tbody tr th {\n",
       "        vertical-align: top;\n",
       "    }\n",
       "\n",
       "    .dataframe thead th {\n",
       "        text-align: right;\n",
       "    }\n",
       "</style>\n",
       "<table border=\"1\" class=\"dataframe\">\n",
       "  <thead>\n",
       "    <tr style=\"text-align: right;\">\n",
       "      <th></th>\n",
       "      <th>Activity</th>\n",
       "      <th>angle(X,gravityMean)</th>\n",
       "      <th>angle(Y,gravityMean)</th>\n",
       "      <th>angle(Z,gravityMean)</th>\n",
       "      <th>angle(tBodyAccJerkMean),gravityMean)</th>\n",
       "      <th>angle(tBodyAccMean,gravity)</th>\n",
       "      <th>angle(tBodyGyroJerkMean,gravityMean)</th>\n",
       "      <th>angle(tBodyGyroMean,gravityMean)</th>\n",
       "      <th>energy-mean()</th>\n",
       "      <th>fBodyAcc-bandsEnergy()-1,16</th>\n",
       "      <th>...</th>\n",
       "      <th>tGravityAccMag-energy()</th>\n",
       "      <th>tGravityAccMag-entropy()</th>\n",
       "      <th>tGravityAccMag-iqr()</th>\n",
       "      <th>tGravityAccMag-mad()</th>\n",
       "      <th>tGravityAccMag-max()</th>\n",
       "      <th>tGravityAccMag-mean()</th>\n",
       "      <th>tGravityAccMag-min()</th>\n",
       "      <th>tGravityAccMag-sma()</th>\n",
       "      <th>tGravityAccMag-std()</th>\n",
       "      <th>void()</th>\n",
       "    </tr>\n",
       "  </thead>\n",
       "  <tbody>\n",
       "    <tr>\n",
       "      <th>0</th>\n",
       "      <td>STANDING</td>\n",
       "      <td>-1.574191</td>\n",
       "      <td>-0.805700</td>\n",
       "      <td>-2.453831</td>\n",
       "      <td>-1.861714</td>\n",
       "      <td>0.115517</td>\n",
       "      <td>-2.023369</td>\n",
       "      <td>3.125860</td>\n",
       "      <td>-9.474436</td>\n",
       "      <td>3.622600</td>\n",
       "      <td>...</td>\n",
       "      <td>5.049130</td>\n",
       "      <td>3.272281</td>\n",
       "      <td>5.103018</td>\n",
       "      <td>-0.823302</td>\n",
       "      <td>3.063681</td>\n",
       "      <td>-0.928676</td>\n",
       "      <td>-1.007695</td>\n",
       "      <td>3.094236</td>\n",
       "      <td>1.669987</td>\n",
       "      <td>1.0</td>\n",
       "    </tr>\n",
       "    <tr>\n",
       "      <th>1</th>\n",
       "      <td>WALKING_UPSTAIRS</td>\n",
       "      <td>-1.568669</td>\n",
       "      <td>-0.612620</td>\n",
       "      <td>-2.488338</td>\n",
       "      <td>-1.751117</td>\n",
       "      <td>0.218134</td>\n",
       "      <td>0.280294</td>\n",
       "      <td>7.953403</td>\n",
       "      <td>-0.679894</td>\n",
       "      <td>2.512880</td>\n",
       "      <td>...</td>\n",
       "      <td>4.565443</td>\n",
       "      <td>4.440779</td>\n",
       "      <td>3.288399</td>\n",
       "      <td>-2.689605</td>\n",
       "      <td>1.705341</td>\n",
       "      <td>-0.822617</td>\n",
       "      <td>-0.572410</td>\n",
       "      <td>-2.187890</td>\n",
       "      <td>-0.544652</td>\n",
       "      <td>2.0</td>\n",
       "    </tr>\n",
       "    <tr>\n",
       "      <th>2</th>\n",
       "      <td>LAYING</td>\n",
       "      <td>-1.548333</td>\n",
       "      <td>-0.139628</td>\n",
       "      <td>-2.380889</td>\n",
       "      <td>-1.915239</td>\n",
       "      <td>0.067613</td>\n",
       "      <td>-0.887342</td>\n",
       "      <td>6.007361</td>\n",
       "      <td>-11.906904</td>\n",
       "      <td>3.621984</td>\n",
       "      <td>...</td>\n",
       "      <td>5.059609</td>\n",
       "      <td>2.296603</td>\n",
       "      <td>5.344174</td>\n",
       "      <td>-0.549843</td>\n",
       "      <td>3.272225</td>\n",
       "      <td>-0.940610</td>\n",
       "      <td>-1.031522</td>\n",
       "      <td>-2.071755</td>\n",
       "      <td>2.024442</td>\n",
       "      <td>3.0</td>\n",
       "    </tr>\n",
       "    <tr>\n",
       "      <th>3</th>\n",
       "      <td>WALKING</td>\n",
       "      <td>-1.574094</td>\n",
       "      <td>-0.793443</td>\n",
       "      <td>-2.449959</td>\n",
       "      <td>-1.842741</td>\n",
       "      <td>-0.195625</td>\n",
       "      <td>-0.950671</td>\n",
       "      <td>2.104353</td>\n",
       "      <td>-11.906121</td>\n",
       "      <td>3.355701</td>\n",
       "      <td>...</td>\n",
       "      <td>4.860758</td>\n",
       "      <td>4.177535</td>\n",
       "      <td>3.950012</td>\n",
       "      <td>-0.322642</td>\n",
       "      <td>2.366287</td>\n",
       "      <td>-0.866937</td>\n",
       "      <td>-0.696431</td>\n",
       "      <td>1.863375</td>\n",
       "      <td>0.550414</td>\n",
       "      <td>2.0</td>\n",
       "    </tr>\n",
       "    <tr>\n",
       "      <th>4</th>\n",
       "      <td>LAYING</td>\n",
       "      <td>-1.548333</td>\n",
       "      <td>-0.139628</td>\n",
       "      <td>-2.380889</td>\n",
       "      <td>NaN</td>\n",
       "      <td>0.067613</td>\n",
       "      <td>-0.887342</td>\n",
       "      <td>6.007361</td>\n",
       "      <td>-11.970485</td>\n",
       "      <td>3.621984</td>\n",
       "      <td>...</td>\n",
       "      <td>5.059609</td>\n",
       "      <td>2.296603</td>\n",
       "      <td>5.344174</td>\n",
       "      <td>-0.549843</td>\n",
       "      <td>3.272225</td>\n",
       "      <td>-0.940610</td>\n",
       "      <td>-1.031522</td>\n",
       "      <td>-2.102513</td>\n",
       "      <td>2.024442</td>\n",
       "      <td>3.0</td>\n",
       "    </tr>\n",
       "  </tbody>\n",
       "</table>\n",
       "<p>5 rows × 572 columns</p>\n",
       "</div>"
      ],
      "text/plain": [
       "           Activity  angle(X,gravityMean)  angle(Y,gravityMean)  \\\n",
       "0          STANDING             -1.574191             -0.805700   \n",
       "1  WALKING_UPSTAIRS             -1.568669             -0.612620   \n",
       "2            LAYING             -1.548333             -0.139628   \n",
       "3           WALKING             -1.574094             -0.793443   \n",
       "4            LAYING             -1.548333             -0.139628   \n",
       "\n",
       "   angle(Z,gravityMean)  angle(tBodyAccJerkMean),gravityMean)  \\\n",
       "0             -2.453831                             -1.861714   \n",
       "1             -2.488338                             -1.751117   \n",
       "2             -2.380889                             -1.915239   \n",
       "3             -2.449959                             -1.842741   \n",
       "4             -2.380889                                   NaN   \n",
       "\n",
       "   angle(tBodyAccMean,gravity)  angle(tBodyGyroJerkMean,gravityMean)  \\\n",
       "0                     0.115517                             -2.023369   \n",
       "1                     0.218134                              0.280294   \n",
       "2                     0.067613                             -0.887342   \n",
       "3                    -0.195625                             -0.950671   \n",
       "4                     0.067613                             -0.887342   \n",
       "\n",
       "   angle(tBodyGyroMean,gravityMean)  energy-mean()  \\\n",
       "0                          3.125860      -9.474436   \n",
       "1                          7.953403      -0.679894   \n",
       "2                          6.007361     -11.906904   \n",
       "3                          2.104353     -11.906121   \n",
       "4                          6.007361     -11.970485   \n",
       "\n",
       "   fBodyAcc-bandsEnergy()-1,16  ...  tGravityAccMag-energy()  \\\n",
       "0                     3.622600  ...                 5.049130   \n",
       "1                     2.512880  ...                 4.565443   \n",
       "2                     3.621984  ...                 5.059609   \n",
       "3                     3.355701  ...                 4.860758   \n",
       "4                     3.621984  ...                 5.059609   \n",
       "\n",
       "   tGravityAccMag-entropy()  tGravityAccMag-iqr()  tGravityAccMag-mad()  \\\n",
       "0                  3.272281              5.103018             -0.823302   \n",
       "1                  4.440779              3.288399             -2.689605   \n",
       "2                  2.296603              5.344174             -0.549843   \n",
       "3                  4.177535              3.950012             -0.322642   \n",
       "4                  2.296603              5.344174             -0.549843   \n",
       "\n",
       "   tGravityAccMag-max()  tGravityAccMag-mean()  tGravityAccMag-min()  \\\n",
       "0              3.063681              -0.928676             -1.007695   \n",
       "1              1.705341              -0.822617             -0.572410   \n",
       "2              3.272225              -0.940610             -1.031522   \n",
       "3              2.366287              -0.866937             -0.696431   \n",
       "4              3.272225              -0.940610             -1.031522   \n",
       "\n",
       "   tGravityAccMag-sma()  tGravityAccMag-std()  void()  \n",
       "0              3.094236              1.669987     1.0  \n",
       "1             -2.187890             -0.544652     2.0  \n",
       "2             -2.071755              2.024442     3.0  \n",
       "3              1.863375              0.550414     2.0  \n",
       "4             -2.102513              2.024442     3.0  \n",
       "\n",
       "[5 rows x 572 columns]"
      ]
     },
     "execution_count": 3,
     "metadata": {},
     "output_type": "execute_result"
    }
   ],
   "source": [
    "df = pd.read_csv(\"data/final_train.csv\", index_col=0)\n",
    "df.head()"
   ]
  },
  {
   "cell_type": "code",
   "execution_count": 4,
   "id": "cooperative-stephen",
   "metadata": {},
   "outputs": [],
   "source": [
    "df = df.drop(columns=[\"subject\", \"void()\"])\n",
    "df = df.dropna()"
   ]
  },
  {
   "cell_type": "code",
   "execution_count": 5,
   "id": "hawaiian-munich",
   "metadata": {},
   "outputs": [
    {
     "data": {
      "text/plain": [
       "((9624, 569), (9624,))"
      ]
     },
     "execution_count": 5,
     "metadata": {},
     "output_type": "execute_result"
    }
   ],
   "source": [
    "y = df[\"Activity\"]\n",
    "X = df.drop(columns=[\"Activity\"])\n",
    "X.shape, y.shape"
   ]
  },
  {
   "cell_type": "code",
   "execution_count": 6,
   "id": "interpreted-rebel",
   "metadata": {},
   "outputs": [],
   "source": [
    "X_train, X_test, y_train, y_test = model_selection.train_test_split(X, y, test_size=0.2, random_state=42)"
   ]
  },
  {
   "cell_type": "code",
   "execution_count": 7,
   "id": "interim-stereo",
   "metadata": {},
   "outputs": [
    {
     "data": {
      "text/plain": [
       "DecisionTreeClassifier(random_state=42)"
      ]
     },
     "execution_count": 7,
     "metadata": {},
     "output_type": "execute_result"
    }
   ],
   "source": [
    "tree_clf = tree.DecisionTreeClassifier(random_state=42)\n",
    "tree_clf.fit(X_train, y_train)"
   ]
  },
  {
   "cell_type": "code",
   "execution_count": 8,
   "id": "located-thunder",
   "metadata": {},
   "outputs": [],
   "source": [
    "path = tree_clf.cost_complexity_pruning_path(X_train, y_train)\n",
    "ccp_alphas, impurities = path.ccp_alphas, path.impurities"
   ]
  },
  {
   "cell_type": "code",
   "execution_count": 9,
   "id": "czech-remove",
   "metadata": {},
   "outputs": [
    {
     "data": {
      "image/png": "[encoded data removed]",
      "text/plain": [
       "<Figure size 1080x360 with 1 Axes>"
      ]
     },
     "metadata": {
      "needs_background": "light"
     },
     "output_type": "display_data"
    }
   ],
   "source": [
    "fig, ax = plt.subplots(figsize=(15, 5))\n",
    "ax.plot(ccp_alphas, impurities, marker='o', drawstyle=\"steps-post\")\n",
    "ax.set_xlabel(\"ccp_alpha\")\n",
    "ax.set_ylabel(\"impurity\")\n",
    "plt.show()"
   ]
  },
  {
   "cell_type": "code",
   "execution_count": 11,
   "id": "portuguese-estimate",
   "metadata": {},
   "outputs": [
    {
     "name": "stderr",
     "output_type": "stream",
     "text": [
      "100%|██████████| 123/123 [06:25<00:00,  3.13s/it]\n"
     ]
    }
   ],
   "source": [
    "clfs = [\n",
    "    tree.DecisionTreeClassifier(random_state=42, ccp_alpha=ccp_alpha).fit(X_train, y_train)\n",
    "    for ccp_alpha in tqdm(ccp_alphas)\n",
    "]"
   ]
  },
  {
   "cell_type": "code",
   "execution_count": 12,
   "id": "knowing-british",
   "metadata": {},
   "outputs": [],
   "source": [
    "train_scores = [clf.score(X_train, y_train) for clf in clfs]\n",
    "test_scores = [clf.score(X_test, y_test) for clf in clfs]"
   ]
  },
  {
   "cell_type": "code",
   "execution_count": 13,
   "id": "monetary-ghost",
   "metadata": {},
   "outputs": [
    {
     "data": {
      "image/png": "[encoded data removed]",
      "text/plain": [
       "<Figure size 1080x720 with 1 Axes>"
      ]
     },
     "metadata": {
      "needs_background": "light"
     },
     "output_type": "display_data"
    }
   ],
   "source": [
    "fig, ax = plt.subplots(figsize=(15, 10))\n",
    "\n",
    "ax.plot(ccp_alphas, train_scores, marker='o', drawstyle=\"steps-post\", label=\"train score\")\n",
    "ax.plot(ccp_alphas, test_scores, marker='o', drawstyle=\"steps-post\", label=\"test score\")\n",
    "ax.legend()\n",
    "\n",
    "plt.show()"
   ]
  },
  {
   "cell_type": "code",
   "execution_count": 14,
   "id": "universal-practice",
   "metadata": {},
   "outputs": [
    {
     "data": {
      "image/png": "[encoded data removed]",
      "text/plain": [
       "<Figure size 1080x720 with 1 Axes>"
      ]
     },
     "metadata": {
      "needs_background": "light"
     },
     "output_type": "display_data"
    }
   ],
   "source": [
    "fig, ax = plt.subplots(figsize=(15, 10))\n",
    "\n",
    "ax.plot(range(len(train_scores)), train_scores[::-1], marker='o', drawstyle=\"steps-post\", label=\"train score\")\n",
    "ax.plot(range(len(test_scores)), test_scores[::-1], marker='o', drawstyle=\"steps-post\", label=\"test score\")\n",
    "\n",
    "ax.set_ylabel(\"accuracy\")\n",
    "ax.set_xlabel(\"n_nodes\")\n",
    "ax.legend()\n",
    "\n",
    "plt.show()"
   ]
  },
  {
   "cell_type": "code",
   "execution_count": 17,
   "id": "nervous-graduate",
   "metadata": {},
   "outputs": [
    {
     "data": {
      "text/plain": [
       "0.016560535464247086"
      ]
     },
     "execution_count": 17,
     "metadata": {},
     "output_type": "execute_result"
    }
   ],
   "source": [
    "alpha = ccp_alphas[-6]\n",
    "alpha"
   ]
  },
  {
   "cell_type": "code",
   "execution_count": 18,
   "id": "identical-discount",
   "metadata": {},
   "outputs": [
    {
     "data": {
      "text/plain": [
       "DecisionTreeClassifier(ccp_alpha=0.016560535464247086, random_state=42)"
      ]
     },
     "execution_count": 18,
     "metadata": {},
     "output_type": "execute_result"
    }
   ],
   "source": [
    "final_tree_clf = tree.DecisionTreeClassifier(random_state=42, ccp_alpha=alpha)\n",
    "final_tree_clf.fit(X_train, y_train)"
   ]
  },
  {
   "cell_type": "code",
   "execution_count": 19,
   "id": "genuine-affiliate",
   "metadata": {},
   "outputs": [
    {
     "data": {
      "text/plain": [
       "0.9158441558441558"
      ]
     },
     "execution_count": 19,
     "metadata": {},
     "output_type": "execute_result"
    }
   ],
   "source": [
    "final_tree_clf.score(X_test, y_test)"
   ]
  },
  {
   "cell_type": "code",
   "execution_count": 20,
   "id": "criminal-spirit",
   "metadata": {
    "scrolled": false
   },
   "outputs": [
    {
     "data": {
      "text/plain": [
       "'result.pdf'"
      ]
     },
     "execution_count": 20,
     "metadata": {},
     "output_type": "execute_result"
    }
   ],
   "source": [
    "dot_data = tree.export_graphviz(\n",
    "    final_tree_clf,\n",
    "    feature_names=X.columns,\n",
    "    class_names=final_tree_clf.classes_\n",
    ")\n",
    "graph = graphviz.Source(dot_data)\n",
    "graph.render(\"result\")"
   ]
  },
  {
   "cell_type": "code",
   "execution_count": 32,
   "id": "alpine-battle",
   "metadata": {},
   "outputs": [
    {
     "data": {
      "image/svg+xml": [
       "<?xml version=\"1.0\" encoding=\"UTF-8\" standalone=\"no\"?>\n",
       "<!DOCTYPE svg PUBLIC \"-//W3C//DTD SVG 1.1//EN\"\n",
       " \"http://www.w3.org/Graphics/SVG/1.1/DTD/svg11.dtd\">\n",
       "<!-- Generated by graphviz version 2.43.0 (0)\n",
       " -->\n",
       "<!-- Title: Tree Pages: 1 -->\n",
       "<svg width=\"1006pt\" height=\"552pt\"\n",
       " viewBox=\"0.00 0.00 1006.00 552.00\" xmlns=\"http://www.w3.org/2000/svg\" xmlns:xlink=\"http://www.w3.org/1999/xlink\">\n",
       "<g id=\"graph0\" class=\"graph\" transform=\"scale(1 1) rotate(0) translate(4 548)\">\n",
       "<title>Tree</title>\n",
       "<polygon fill=\"white\" stroke=\"transparent\" points=\"-4,4 -4,-548 1002,-548 1002,4 -4,4\"/>\n",
       "<!-- 0 -->\n",
       "<g id=\"node1\" class=\"node\">\n",
       "<title>0</title>\n",
       "<polygon fill=\"none\" stroke=\"black\" points=\"816,-544 478,-544 478,-461 816,-461 816,-544\"/>\n",
       "<text text-anchor=\"middle\" x=\"647\" y=\"-528.8\" font-family=\"Times,serif\" font-size=\"14.00\">angle(X,gravityMean) &lt;= &#45;1.553</text>\n",
       "<text text-anchor=\"middle\" x=\"647\" y=\"-513.8\" font-family=\"Times,serif\" font-size=\"14.00\">gini = 0.83</text>\n",
       "<text text-anchor=\"middle\" x=\"647\" y=\"-498.8\" font-family=\"Times,serif\" font-size=\"14.00\">samples = 7699</text>\n",
       "<text text-anchor=\"middle\" x=\"647\" y=\"-483.8\" font-family=\"Times,serif\" font-size=\"14.00\">value = [1462, 1419, 1421, 1315, 997, 1085]</text>\n",
       "<text text-anchor=\"middle\" x=\"647\" y=\"-468.8\" font-family=\"Times,serif\" font-size=\"14.00\">class = LAYING</text>\n",
       "</g>\n",
       "<!-- 1 -->\n",
       "<g id=\"node2\" class=\"node\">\n",
       "<title>1</title>\n",
       "<polygon fill=\"none\" stroke=\"black\" points=\"668.5,-425 333.5,-425 333.5,-342 668.5,-342 668.5,-425\"/>\n",
       "<text text-anchor=\"middle\" x=\"501\" y=\"-409.8\" font-family=\"Times,serif\" font-size=\"14.00\">fBodyAccJerk&#45;bandsEnergy()&#45;1,16 &lt;= &#45;0.258</text>\n",
       "<text text-anchor=\"middle\" x=\"501\" y=\"-394.8\" font-family=\"Times,serif\" font-size=\"14.00\">gini = 0.796</text>\n",
       "<text text-anchor=\"middle\" x=\"501\" y=\"-379.8\" font-family=\"Times,serif\" font-size=\"14.00\">samples = 6237</text>\n",
       "<text text-anchor=\"middle\" x=\"501\" y=\"-364.8\" font-family=\"Times,serif\" font-size=\"14.00\">value = [0, 1419, 1421, 1315, 997, 1085]</text>\n",
       "<text text-anchor=\"middle\" x=\"501\" y=\"-349.8\" font-family=\"Times,serif\" font-size=\"14.00\">class = STANDING</text>\n",
       "</g>\n",
       "<!-- 0&#45;&gt;1 -->\n",
       "<g id=\"edge1\" class=\"edge\">\n",
       "<title>0&#45;&gt;1</title>\n",
       "<path fill=\"none\" stroke=\"black\" d=\"M596.35,-460.91C584.46,-451.38 571.69,-441.15 559.49,-431.37\"/>\n",
       "<polygon fill=\"black\" stroke=\"black\" points=\"561.56,-428.54 551.56,-425.02 557.18,-434.01 561.56,-428.54\"/>\n",
       "<text text-anchor=\"middle\" x=\"554.3\" y=\"-446.17\" font-family=\"Times,serif\" font-size=\"14.00\">True</text>\n",
       "</g>\n",
       "<!-- 10 -->\n",
       "<g id=\"node11\" class=\"node\">\n",
       "<title>10</title>\n",
       "<polygon fill=\"none\" stroke=\"black\" points=\"899,-417.5 687,-417.5 687,-349.5 899,-349.5 899,-417.5\"/>\n",
       "<text text-anchor=\"middle\" x=\"793\" y=\"-402.3\" font-family=\"Times,serif\" font-size=\"14.00\">gini = 0.0</text>\n",
       "<text text-anchor=\"middle\" x=\"793\" y=\"-387.3\" font-family=\"Times,serif\" font-size=\"14.00\">samples = 1462</text>\n",
       "<text text-anchor=\"middle\" x=\"793\" y=\"-372.3\" font-family=\"Times,serif\" font-size=\"14.00\">value = [1462, 0, 0, 0, 0, 0]</text>\n",
       "<text text-anchor=\"middle\" x=\"793\" y=\"-357.3\" font-family=\"Times,serif\" font-size=\"14.00\">class = LAYING</text>\n",
       "</g>\n",
       "<!-- 0&#45;&gt;10 -->\n",
       "<g id=\"edge10\" class=\"edge\">\n",
       "<title>0&#45;&gt;10</title>\n",
       "<path fill=\"none\" stroke=\"black\" d=\"M697.65,-460.91C712.53,-448.99 728.77,-435.98 743.56,-424.12\"/>\n",
       "<polygon fill=\"black\" stroke=\"black\" points=\"746,-426.65 751.61,-417.67 741.62,-421.19 746,-426.65\"/>\n",
       "<text text-anchor=\"middle\" x=\"748.87\" y=\"-438.82\" font-family=\"Times,serif\" font-size=\"14.00\">False</text>\n",
       "</g>\n",
       "<!-- 2 -->\n",
       "<g id=\"node3\" class=\"node\">\n",
       "<title>2</title>\n",
       "<polygon fill=\"none\" stroke=\"black\" points=\"498.5,-306 225.5,-306 225.5,-223 498.5,-223 498.5,-306\"/>\n",
       "<text text-anchor=\"middle\" x=\"362\" y=\"-290.8\" font-family=\"Times,serif\" font-size=\"14.00\">tGravityAcc&#45;arCoeff()&#45;Z,2 &lt;= &#45;2.404</text>\n",
       "<text text-anchor=\"middle\" x=\"362\" y=\"-275.8\" font-family=\"Times,serif\" font-size=\"14.00\">gini = 0.662</text>\n",
       "<text text-anchor=\"middle\" x=\"362\" y=\"-260.8\" font-family=\"Times,serif\" font-size=\"14.00\">samples = 3397</text>\n",
       "<text text-anchor=\"middle\" x=\"362\" y=\"-245.8\" font-family=\"Times,serif\" font-size=\"14.00\">value = [0, 0, 0, 1315, 997, 1085]</text>\n",
       "<text text-anchor=\"middle\" x=\"362\" y=\"-230.8\" font-family=\"Times,serif\" font-size=\"14.00\">class = WALKING</text>\n",
       "</g>\n",
       "<!-- 1&#45;&gt;2 -->\n",
       "<g id=\"edge2\" class=\"edge\">\n",
       "<title>1&#45;&gt;2</title>\n",
       "<path fill=\"none\" stroke=\"black\" d=\"M452.77,-341.91C441.56,-332.47 429.53,-322.34 418.01,-312.65\"/>\n",
       "<polygon fill=\"black\" stroke=\"black\" points=\"420.04,-309.78 410.14,-306.02 415.54,-315.14 420.04,-309.78\"/>\n",
       "</g>\n",
       "<!-- 7 -->\n",
       "<g id=\"node8\" class=\"node\">\n",
       "<title>7</title>\n",
       "<polygon fill=\"none\" stroke=\"black\" points=\"763.5,-306 516.5,-306 516.5,-223 763.5,-223 763.5,-306\"/>\n",
       "<text text-anchor=\"middle\" x=\"640\" y=\"-290.8\" font-family=\"Times,serif\" font-size=\"14.00\">angle(Y,gravityMean) &lt;= &#45;0.733</text>\n",
       "<text text-anchor=\"middle\" x=\"640\" y=\"-275.8\" font-family=\"Times,serif\" font-size=\"14.00\">gini = 0.5</text>\n",
       "<text text-anchor=\"middle\" x=\"640\" y=\"-260.8\" font-family=\"Times,serif\" font-size=\"14.00\">samples = 2840</text>\n",
       "<text text-anchor=\"middle\" x=\"640\" y=\"-245.8\" font-family=\"Times,serif\" font-size=\"14.00\">value = [0, 1419, 1421, 0, 0, 0]</text>\n",
       "<text text-anchor=\"middle\" x=\"640\" y=\"-230.8\" font-family=\"Times,serif\" font-size=\"14.00\">class = STANDING</text>\n",
       "</g>\n",
       "<!-- 1&#45;&gt;7 -->\n",
       "<g id=\"edge7\" class=\"edge\">\n",
       "<title>1&#45;&gt;7</title>\n",
       "<path fill=\"none\" stroke=\"black\" d=\"M549.23,-341.91C560.44,-332.47 572.47,-322.34 583.99,-312.65\"/>\n",
       "<polygon fill=\"black\" stroke=\"black\" points=\"586.46,-315.14 591.86,-306.02 581.96,-309.78 586.46,-315.14\"/>\n",
       "</g>\n",
       "<!-- 3 -->\n",
       "<g id=\"node4\" class=\"node\">\n",
       "<title>3</title>\n",
       "<polygon fill=\"none\" stroke=\"black\" points=\"226,-179.5 0,-179.5 0,-111.5 226,-111.5 226,-179.5\"/>\n",
       "<text text-anchor=\"middle\" x=\"113\" y=\"-164.3\" font-family=\"Times,serif\" font-size=\"14.00\">gini = 0.146</text>\n",
       "<text text-anchor=\"middle\" x=\"113\" y=\"-149.3\" font-family=\"Times,serif\" font-size=\"14.00\">samples = 1005</text>\n",
       "<text text-anchor=\"middle\" x=\"113\" y=\"-134.3\" font-family=\"Times,serif\" font-size=\"14.00\">value = [0, 0, 0, 28, 50, 927]</text>\n",
       "<text text-anchor=\"middle\" x=\"113\" y=\"-119.3\" font-family=\"Times,serif\" font-size=\"14.00\">class = WALKING_UPSTAIRS</text>\n",
       "</g>\n",
       "<!-- 2&#45;&gt;3 -->\n",
       "<g id=\"edge3\" class=\"edge\">\n",
       "<title>2&#45;&gt;3</title>\n",
       "<path fill=\"none\" stroke=\"black\" d=\"M275.61,-222.91C248.72,-210.27 219.21,-196.41 192.79,-183.99\"/>\n",
       "<polygon fill=\"black\" stroke=\"black\" points=\"194.13,-180.75 183.59,-179.67 191.15,-187.09 194.13,-180.75\"/>\n",
       "</g>\n",
       "<!-- 4 -->\n",
       "<g id=\"node5\" class=\"node\">\n",
       "<title>4</title>\n",
       "<polygon fill=\"none\" stroke=\"black\" points=\"492,-187 244,-187 244,-104 492,-104 492,-187\"/>\n",
       "<text text-anchor=\"middle\" x=\"368\" y=\"-171.8\" font-family=\"Times,serif\" font-size=\"14.00\">fBodyAccMag&#45;std() &lt;= &#45;2.421</text>\n",
       "<text text-anchor=\"middle\" x=\"368\" y=\"-156.8\" font-family=\"Times,serif\" font-size=\"14.00\">gini = 0.549</text>\n",
       "<text text-anchor=\"middle\" x=\"368\" y=\"-141.8\" font-family=\"Times,serif\" font-size=\"14.00\">samples = 2392</text>\n",
       "<text text-anchor=\"middle\" x=\"368\" y=\"-126.8\" font-family=\"Times,serif\" font-size=\"14.00\">value = [0, 0, 0, 1287, 947, 158]</text>\n",
       "<text text-anchor=\"middle\" x=\"368\" y=\"-111.8\" font-family=\"Times,serif\" font-size=\"14.00\">class = WALKING</text>\n",
       "</g>\n",
       "<!-- 2&#45;&gt;4 -->\n",
       "<g id=\"edge4\" class=\"edge\">\n",
       "<title>2&#45;&gt;4</title>\n",
       "<path fill=\"none\" stroke=\"black\" d=\"M364.08,-222.91C364.51,-214.56 364.97,-205.67 365.41,-197.02\"/>\n",
       "<polygon fill=\"black\" stroke=\"black\" points=\"368.91,-197.19 365.92,-187.02 361.91,-196.83 368.91,-197.19\"/>\n",
       "</g>\n",
       "<!-- 5 -->\n",
       "<g id=\"node6\" class=\"node\">\n",
       "<title>5</title>\n",
       "<polygon fill=\"none\" stroke=\"black\" points=\"360.5,-68 107.5,-68 107.5,0 360.5,0 360.5,-68\"/>\n",
       "<text text-anchor=\"middle\" x=\"234\" y=\"-52.8\" font-family=\"Times,serif\" font-size=\"14.00\">gini = 0.191</text>\n",
       "<text text-anchor=\"middle\" x=\"234\" y=\"-37.8\" font-family=\"Times,serif\" font-size=\"14.00\">samples = 945</text>\n",
       "<text text-anchor=\"middle\" x=\"234\" y=\"-22.8\" font-family=\"Times,serif\" font-size=\"14.00\">value = [0, 0, 0, 52, 847, 46]</text>\n",
       "<text text-anchor=\"middle\" x=\"234\" y=\"-7.8\" font-family=\"Times,serif\" font-size=\"14.00\">class = WALKING_DOWNSTAIRS</text>\n",
       "</g>\n",
       "<!-- 4&#45;&gt;5 -->\n",
       "<g id=\"edge5\" class=\"edge\">\n",
       "<title>4&#45;&gt;5</title>\n",
       "<path fill=\"none\" stroke=\"black\" d=\"M318.1,-103.73C306.5,-94.24 294.15,-84.16 282.6,-74.72\"/>\n",
       "<polygon fill=\"black\" stroke=\"black\" points=\"284.71,-71.92 274.75,-68.3 280.28,-77.34 284.71,-71.92\"/>\n",
       "</g>\n",
       "<!-- 6 -->\n",
       "<g id=\"node7\" class=\"node\">\n",
       "<title>6</title>\n",
       "<polygon fill=\"none\" stroke=\"black\" points=\"627,-68 379,-68 379,0 627,0 627,-68\"/>\n",
       "<text text-anchor=\"middle\" x=\"503\" y=\"-52.8\" font-family=\"Times,serif\" font-size=\"14.00\">gini = 0.261</text>\n",
       "<text text-anchor=\"middle\" x=\"503\" y=\"-37.8\" font-family=\"Times,serif\" font-size=\"14.00\">samples = 1447</text>\n",
       "<text text-anchor=\"middle\" x=\"503\" y=\"-22.8\" font-family=\"Times,serif\" font-size=\"14.00\">value = [0, 0, 0, 1235, 100, 112]</text>\n",
       "<text text-anchor=\"middle\" x=\"503\" y=\"-7.8\" font-family=\"Times,serif\" font-size=\"14.00\">class = WALKING</text>\n",
       "</g>\n",
       "<!-- 4&#45;&gt;6 -->\n",
       "<g id=\"edge6\" class=\"edge\">\n",
       "<title>4&#45;&gt;6</title>\n",
       "<path fill=\"none\" stroke=\"black\" d=\"M418.27,-103.73C429.96,-94.24 442.4,-84.16 454.04,-74.72\"/>\n",
       "<polygon fill=\"black\" stroke=\"black\" points=\"456.38,-77.32 461.95,-68.3 451.97,-71.88 456.38,-77.32\"/>\n",
       "</g>\n",
       "<!-- 8 -->\n",
       "<g id=\"node9\" class=\"node\">\n",
       "<title>8</title>\n",
       "<polygon fill=\"none\" stroke=\"black\" points=\"750,-179.5 520,-179.5 520,-111.5 750,-111.5 750,-179.5\"/>\n",
       "<text text-anchor=\"middle\" x=\"635\" y=\"-164.3\" font-family=\"Times,serif\" font-size=\"14.00\">gini = 0.199</text>\n",
       "<text text-anchor=\"middle\" x=\"635\" y=\"-149.3\" font-family=\"Times,serif\" font-size=\"14.00\">samples = 1367</text>\n",
       "<text text-anchor=\"middle\" x=\"635\" y=\"-134.3\" font-family=\"Times,serif\" font-size=\"14.00\">value = [0, 153, 1214, 0, 0, 0]</text>\n",
       "<text text-anchor=\"middle\" x=\"635\" y=\"-119.3\" font-family=\"Times,serif\" font-size=\"14.00\">class = STANDING</text>\n",
       "</g>\n",
       "<!-- 7&#45;&gt;8 -->\n",
       "<g id=\"edge8\" class=\"edge\">\n",
       "<title>7&#45;&gt;8</title>\n",
       "<path fill=\"none\" stroke=\"black\" d=\"M638.27,-222.91C637.81,-212.2 637.31,-200.62 636.85,-189.78\"/>\n",
       "<polygon fill=\"black\" stroke=\"black\" points=\"640.34,-189.51 636.42,-179.67 633.35,-189.81 640.34,-189.51\"/>\n",
       "</g>\n",
       "<!-- 9 -->\n",
       "<g id=\"node10\" class=\"node\">\n",
       "<title>9</title>\n",
       "<polygon fill=\"none\" stroke=\"black\" points=\"998,-179.5 768,-179.5 768,-111.5 998,-111.5 998,-179.5\"/>\n",
       "<text text-anchor=\"middle\" x=\"883\" y=\"-164.3\" font-family=\"Times,serif\" font-size=\"14.00\">gini = 0.242</text>\n",
       "<text text-anchor=\"middle\" x=\"883\" y=\"-149.3\" font-family=\"Times,serif\" font-size=\"14.00\">samples = 1473</text>\n",
       "<text text-anchor=\"middle\" x=\"883\" y=\"-134.3\" font-family=\"Times,serif\" font-size=\"14.00\">value = [0, 1266, 207, 0, 0, 0]</text>\n",
       "<text text-anchor=\"middle\" x=\"883\" y=\"-119.3\" font-family=\"Times,serif\" font-size=\"14.00\">class = SITTING</text>\n",
       "</g>\n",
       "<!-- 7&#45;&gt;9 -->\n",
       "<g id=\"edge9\" class=\"edge\">\n",
       "<title>7&#45;&gt;9</title>\n",
       "<path fill=\"none\" stroke=\"black\" d=\"M724.31,-222.91C750.43,-210.33 779.1,-196.53 804.79,-184.16\"/>\n",
       "<polygon fill=\"black\" stroke=\"black\" points=\"806.62,-187.16 814.11,-179.67 803.59,-180.85 806.62,-187.16\"/>\n",
       "</g>\n",
       "</g>\n",
       "</svg>\n"
      ],
      "text/plain": [
       "<graphviz.files.Source at 0x7f7c1a498250>"
      ]
     },
     "execution_count": 32,
     "metadata": {},
     "output_type": "execute_result"
    }
   ],
   "source": [
    "graph"
   ]
  },
  {
   "cell_type": "code",
   "execution_count": 29,
   "id": "urban-simulation",
   "metadata": {},
   "outputs": [
    {
     "data": {
      "text/plain": [
       "['tree.joblib']"
      ]
     },
     "execution_count": 29,
     "metadata": {},
     "output_type": "execute_result"
    }
   ],
   "source": [
    "joblib.dump(final_tree_clf, \"tree.joblib\")"
   ]
  },
  {
   "cell_type": "code",
   "execution_count": 30,
   "id": "endangered-bachelor",
   "metadata": {},
   "outputs": [
    {
     "name": "stdout",
     "output_type": "stream",
     "text": [
      "                    precision    recall  f1-score   support\n",
      "\n",
      "            LAYING       1.00      1.00      1.00       359\n",
      "           SITTING       0.88      0.92      0.90       370\n",
      "          STANDING       0.90      0.86      0.88       332\n",
      "           WALKING       0.88      0.96      0.92       337\n",
      "WALKING_DOWNSTAIRS       0.91      0.87      0.89       243\n",
      "  WALKING_UPSTAIRS       0.92      0.87      0.89       284\n",
      "\n",
      "          accuracy                           0.92      1925\n",
      "         macro avg       0.92      0.91      0.91      1925\n",
      "      weighted avg       0.92      0.92      0.92      1925\n",
      "\n"
     ]
    }
   ],
   "source": [
    "print(metrics.classification_report(y_test, final_tree_clf.predict(X_test)))"
   ]
  },
  {
   "cell_type": "code",
   "execution_count": 31,
   "id": "responsible-explanation",
   "metadata": {},
   "outputs": [
    {
     "data": {
      "text/plain": [
       "array([[359,   0,   0,   0,   0,   0],\n",
       "       [  0, 340,  30,   0,   0,   0],\n",
       "       [  0,  47, 285,   0,   0,   0],\n",
       "       [  0,   0,   0, 322,   7,   8],\n",
       "       [  0,   0,   0,  19, 211,  13],\n",
       "       [  0,   0,   0,  25,  13, 246]])"
      ]
     },
     "execution_count": 31,
     "metadata": {},
     "output_type": "execute_result"
    }
   ],
   "source": [
    "metrics.confusion_matrix(y_test, final_tree_clf.predict(X_test))"
   ]
  }
 ],
 "metadata": {
  "kernelspec": {
   "display_name": "Python 3",
   "language": "python",
   "name": "python3"
  },
  "language_info": {
   "codemirror_mode": {
    "name": "ipython",
    "version": 3
   },
   "file_extension": ".py",
   "mimetype": "text/x-python",
   "name": "python",
   "nbconvert_exporter": "python",
   "pygments_lexer": "ipython3",
   "version": "3.8.5"
  }
 },
 "nbformat": 4,
 "nbformat_minor": 5
}
