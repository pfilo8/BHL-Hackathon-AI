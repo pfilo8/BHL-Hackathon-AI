{
 "cells": [
  {
   "cell_type": "code",
   "execution_count": 1,
   "metadata": {},
   "outputs": [
    {
     "name": "stdout",
     "output_type": "stream",
     "text": [
      "Requirement already satisfied: pip in ./env/lib/python3.7/site-packages (21.0.1)\n",
      "  % Total    % Received % Xferd  Average Speed   Time    Time     Time  Current\n",
      "                                 Dload  Upload   Total   Spent    Left  Speed\n",
      "100   209  100   209    0     0    768      0 --:--:-- --:--:-- --:--:--   768\n",
      "Requirement already satisfied: setuptools in ./env/lib/python3.7/site-packages (40.8.0)\n",
      "Requirement already satisfied: numpy>=1.9.0 in ./env/lib/python3.7/site-packages (1.20.2)\n",
      "Requirement already satisfied: scipy>=0.14.1 in ./env/lib/python3.7/site-packages (1.6.2)\n",
      "Requirement already satisfied: numpy<1.23.0,>=1.16.5 in ./env/lib/python3.7/site-packages (from scipy>=0.14.1) (1.20.2)\n",
      "Requirement already satisfied: joblib in ./env/lib/python3.7/site-packages (0.16.0)\n",
      "Requirement already satisfied: scikit-learn<0.25.0,>=0.24.0 in ./env/lib/python3.7/site-packages (0.24.1)\n",
      "Requirement already satisfied: joblib>=0.11 in ./env/lib/python3.7/site-packages (from scikit-learn<0.25.0,>=0.24.0) (0.16.0)\n",
      "Requirement already satisfied: scipy>=0.19.1 in ./env/lib/python3.7/site-packages (from scikit-learn<0.25.0,>=0.24.0) (1.6.2)\n",
      "Requirement already satisfied: threadpoolctl>=2.0.0 in ./env/lib/python3.7/site-packages (from scikit-learn<0.25.0,>=0.24.0) (2.1.0)\n",
      "Requirement already satisfied: numpy>=1.13.3 in ./env/lib/python3.7/site-packages (from scikit-learn<0.25.0,>=0.24.0) (1.20.2)\n",
      "Requirement already satisfied: dask in ./env/lib/python3.7/site-packages (2021.4.0)\n",
      "Requirement already satisfied: pyyaml in ./env/lib/python3.7/site-packages (from dask) (5.4.1)\n",
      "Requirement already satisfied: cloudpickle>=1.1.1 in ./env/lib/python3.7/site-packages (from dask) (1.6.0)\n",
      "Requirement already satisfied: toolz>=0.8.2 in ./env/lib/python3.7/site-packages (from dask) (0.11.1)\n",
      "Requirement already satisfied: partd>=0.3.10 in ./env/lib/python3.7/site-packages (from dask) (1.2.0)\n",
      "Requirement already satisfied: fsspec>=0.6.0 in ./env/lib/python3.7/site-packages (from dask) (0.9.0)\n",
      "Requirement already satisfied: importlib-metadata in ./env/lib/python3.7/site-packages (from fsspec>=0.6.0->dask) (3.10.0)\n",
      "Requirement already satisfied: locket in ./env/lib/python3.7/site-packages (from partd>=0.3.10->dask) (0.2.1)\n",
      "Requirement already satisfied: zipp>=0.5 in ./env/lib/python3.7/site-packages (from importlib-metadata->fsspec>=0.6.0->dask) (3.4.1)\n",
      "Requirement already satisfied: typing-extensions>=3.6.4 in ./env/lib/python3.7/site-packages (from importlib-metadata->fsspec>=0.6.0->dask) (3.7.4.3)\n",
      "Requirement already satisfied: distributed>=2.2.0 in ./env/lib/python3.7/site-packages (2021.4.0)\n",
      "Requirement already satisfied: sortedcontainers!=2.0.0,!=2.0.1 in ./env/lib/python3.7/site-packages (from distributed>=2.2.0) (2.3.0)\n",
      "Requirement already satisfied: zict>=0.1.3 in ./env/lib/python3.7/site-packages (from distributed>=2.2.0) (2.0.0)\n",
      "Requirement already satisfied: setuptools in ./env/lib/python3.7/site-packages (from distributed>=2.2.0) (40.8.0)\n",
      "Requirement already satisfied: dask>=2021.03.0 in ./env/lib/python3.7/site-packages (from distributed>=2.2.0) (2021.4.0)\n",
      "Requirement already satisfied: cloudpickle>=1.5.0 in ./env/lib/python3.7/site-packages (from distributed>=2.2.0) (1.6.0)\n",
      "Requirement already satisfied: psutil>=5.0 in ./env/lib/python3.7/site-packages (from distributed>=2.2.0) (5.8.0)\n",
      "Requirement already satisfied: click>=6.6 in ./env/lib/python3.7/site-packages (from distributed>=2.2.0) (7.1.2)\n",
      "Requirement already satisfied: msgpack>=0.6.0 in ./env/lib/python3.7/site-packages (from distributed>=2.2.0) (1.0.2)\n",
      "Requirement already satisfied: tblib>=1.6.0 in ./env/lib/python3.7/site-packages (from distributed>=2.2.0) (1.7.0)\n",
      "Requirement already satisfied: pyyaml in ./env/lib/python3.7/site-packages (from distributed>=2.2.0) (5.4.1)\n",
      "Requirement already satisfied: tornado>=5 in ./env/lib/python3.7/site-packages (from distributed>=2.2.0) (6.1)\n",
      "Requirement already satisfied: toolz>=0.8.2 in ./env/lib/python3.7/site-packages (from distributed>=2.2.0) (0.11.1)\n",
      "Requirement already satisfied: partd>=0.3.10 in ./env/lib/python3.7/site-packages (from dask>=2021.03.0->distributed>=2.2.0) (1.2.0)\n",
      "Requirement already satisfied: fsspec>=0.6.0 in ./env/lib/python3.7/site-packages (from dask>=2021.03.0->distributed>=2.2.0) (0.9.0)\n",
      "Requirement already satisfied: importlib-metadata in ./env/lib/python3.7/site-packages (from fsspec>=0.6.0->dask>=2021.03.0->distributed>=2.2.0) (3.10.0)\n",
      "Requirement already satisfied: locket in ./env/lib/python3.7/site-packages (from partd>=0.3.10->dask>=2021.03.0->distributed>=2.2.0) (0.2.1)\n",
      "Requirement already satisfied: heapdict in ./env/lib/python3.7/site-packages (from zict>=0.1.3->distributed>=2.2.0) (1.0.1)\n",
      "Requirement already satisfied: typing-extensions>=3.6.4 in ./env/lib/python3.7/site-packages (from importlib-metadata->fsspec>=0.6.0->dask>=2021.03.0->distributed>=2.2.0) (3.7.4.3)\n",
      "Requirement already satisfied: zipp>=0.5 in ./env/lib/python3.7/site-packages (from importlib-metadata->fsspec>=0.6.0->dask>=2021.03.0->distributed>=2.2.0) (3.4.1)\n",
      "Requirement already satisfied: pyyaml in ./env/lib/python3.7/site-packages (5.4.1)\n",
      "Requirement already satisfied: pandas>=1.0 in ./env/lib/python3.7/site-packages (1.1.2)\n",
      "Requirement already satisfied: pytz>=2017.2 in ./env/lib/python3.7/site-packages (from pandas>=1.0) (2021.1)\n",
      "Requirement already satisfied: numpy>=1.15.4 in ./env/lib/python3.7/site-packages (from pandas>=1.0) (1.20.2)\n",
      "Requirement already satisfied: python-dateutil>=2.7.3 in ./env/lib/python3.7/site-packages (from pandas>=1.0) (2.8.1)\n",
      "Requirement already satisfied: six>=1.5 in ./env/lib/python3.7/site-packages (from python-dateutil>=2.7.3->pandas>=1.0) (1.15.0)\n",
      "Requirement already satisfied: liac-arff in ./env/lib/python3.7/site-packages (2.5.0)\n",
      "Requirement already satisfied: ConfigSpace<0.5,>=0.4.14 in ./env/lib/python3.7/site-packages (0.4.18)\n",
      "Requirement already satisfied: numpy in ./env/lib/python3.7/site-packages (from ConfigSpace<0.5,>=0.4.14) (1.20.2)\n",
      "Requirement already satisfied: pyparsing in ./env/lib/python3.7/site-packages (from ConfigSpace<0.5,>=0.4.14) (2.4.7)\n",
      "Requirement already satisfied: cython in ./env/lib/python3.7/site-packages (from ConfigSpace<0.5,>=0.4.14) (0.29.22)\n",
      "Requirement already satisfied: pynisher>=0.6.3 in ./env/lib/python3.7/site-packages (0.6.4)\n",
      "Requirement already satisfied: psutil in ./env/lib/python3.7/site-packages (from pynisher>=0.6.3) (5.8.0)\n",
      "Requirement already satisfied: setuptools in ./env/lib/python3.7/site-packages (from pynisher>=0.6.3) (40.8.0)\n",
      "Requirement already satisfied: pyrfr<0.9,>=0.8.1 in ./env/lib/python3.7/site-packages (0.8.1)\n",
      "Requirement already satisfied: smac<0.14,>=0.13.1 in ./env/lib/python3.7/site-packages (0.13.1)\n",
      "Requirement already satisfied: scikit-learn>=0.22.0 in ./env/lib/python3.7/site-packages (from smac<0.14,>=0.13.1) (0.24.1)\n",
      "Requirement already satisfied: distributed in ./env/lib/python3.7/site-packages (from smac<0.14,>=0.13.1) (2021.4.0)\n",
      "Requirement already satisfied: pynisher>=0.4.1 in ./env/lib/python3.7/site-packages (from smac<0.14,>=0.13.1) (0.6.4)\n",
      "Requirement already satisfied: lazy-import in ./env/lib/python3.7/site-packages (from smac<0.14,>=0.13.1) (0.2.2)\n",
      "Requirement already satisfied: psutil in ./env/lib/python3.7/site-packages (from smac<0.14,>=0.13.1) (5.8.0)\n",
      "Requirement already satisfied: joblib in ./env/lib/python3.7/site-packages (from smac<0.14,>=0.13.1) (0.16.0)\n",
      "Requirement already satisfied: scipy>=0.18.1 in ./env/lib/python3.7/site-packages (from smac<0.14,>=0.13.1) (1.6.2)\n",
      "Requirement already satisfied: pyrfr>=0.8.0 in ./env/lib/python3.7/site-packages (from smac<0.14,>=0.13.1) (0.8.1)\n",
      "Requirement already satisfied: dask in ./env/lib/python3.7/site-packages (from smac<0.14,>=0.13.1) (2021.4.0)\n",
      "Requirement already satisfied: ConfigSpace<0.5,>=0.4.14 in ./env/lib/python3.7/site-packages (from smac<0.14,>=0.13.1) (0.4.18)\n",
      "Requirement already satisfied: numpy>=1.7.1 in ./env/lib/python3.7/site-packages (from smac<0.14,>=0.13.1) (1.20.2)\n",
      "Requirement already satisfied: cython in ./env/lib/python3.7/site-packages (from ConfigSpace<0.5,>=0.4.14->smac<0.14,>=0.13.1) (0.29.22)\n",
      "Requirement already satisfied: pyparsing in ./env/lib/python3.7/site-packages (from ConfigSpace<0.5,>=0.4.14->smac<0.14,>=0.13.1) (2.4.7)\n",
      "Requirement already satisfied: setuptools in ./env/lib/python3.7/site-packages (from pynisher>=0.4.1->smac<0.14,>=0.13.1) (40.8.0)\n"
     ]
    },
    {
     "name": "stdout",
     "output_type": "stream",
     "text": [
      "Requirement already satisfied: threadpoolctl>=2.0.0 in ./env/lib/python3.7/site-packages (from scikit-learn>=0.22.0->smac<0.14,>=0.13.1) (2.1.0)\n",
      "Requirement already satisfied: cloudpickle>=1.1.1 in ./env/lib/python3.7/site-packages (from dask->smac<0.14,>=0.13.1) (1.6.0)\n",
      "Requirement already satisfied: pyyaml in ./env/lib/python3.7/site-packages (from dask->smac<0.14,>=0.13.1) (5.4.1)\n",
      "Requirement already satisfied: fsspec>=0.6.0 in ./env/lib/python3.7/site-packages (from dask->smac<0.14,>=0.13.1) (0.9.0)\n",
      "Requirement already satisfied: toolz>=0.8.2 in ./env/lib/python3.7/site-packages (from dask->smac<0.14,>=0.13.1) (0.11.1)\n",
      "Requirement already satisfied: partd>=0.3.10 in ./env/lib/python3.7/site-packages (from dask->smac<0.14,>=0.13.1) (1.2.0)\n",
      "Requirement already satisfied: importlib-metadata in ./env/lib/python3.7/site-packages (from fsspec>=0.6.0->dask->smac<0.14,>=0.13.1) (3.10.0)\n",
      "Requirement already satisfied: locket in ./env/lib/python3.7/site-packages (from partd>=0.3.10->dask->smac<0.14,>=0.13.1) (0.2.1)\n",
      "Requirement already satisfied: tornado>=5 in ./env/lib/python3.7/site-packages (from distributed->smac<0.14,>=0.13.1) (6.1)\n",
      "Requirement already satisfied: click>=6.6 in ./env/lib/python3.7/site-packages (from distributed->smac<0.14,>=0.13.1) (7.1.2)\n",
      "Requirement already satisfied: msgpack>=0.6.0 in ./env/lib/python3.7/site-packages (from distributed->smac<0.14,>=0.13.1) (1.0.2)\n",
      "Requirement already satisfied: sortedcontainers!=2.0.0,!=2.0.1 in ./env/lib/python3.7/site-packages (from distributed->smac<0.14,>=0.13.1) (2.3.0)\n",
      "Requirement already satisfied: zict>=0.1.3 in ./env/lib/python3.7/site-packages (from distributed->smac<0.14,>=0.13.1) (2.0.0)\n",
      "Requirement already satisfied: tblib>=1.6.0 in ./env/lib/python3.7/site-packages (from distributed->smac<0.14,>=0.13.1) (1.7.0)\n",
      "Requirement already satisfied: heapdict in ./env/lib/python3.7/site-packages (from zict>=0.1.3->distributed->smac<0.14,>=0.13.1) (1.0.1)\n",
      "Requirement already satisfied: zipp>=0.5 in ./env/lib/python3.7/site-packages (from importlib-metadata->fsspec>=0.6.0->dask->smac<0.14,>=0.13.1) (3.4.1)\n",
      "Requirement already satisfied: typing-extensions>=3.6.4 in ./env/lib/python3.7/site-packages (from importlib-metadata->fsspec>=0.6.0->dask->smac<0.14,>=0.13.1) (3.7.4.3)\n",
      "Requirement already satisfied: six in ./env/lib/python3.7/site-packages (from lazy-import->smac<0.14,>=0.13.1) (1.15.0)\n",
      "Requirement already satisfied: pandas==1.1.2 in ./env/lib/python3.7/site-packages (from -r requirements.txt (line 1)) (1.1.2)\n",
      "Requirement already satisfied: numpy==1.20.2 in ./env/lib/python3.7/site-packages (from -r requirements.txt (line 2)) (1.20.2)\n",
      "Requirement already satisfied: joblib==0.16.0 in ./env/lib/python3.7/site-packages (from -r requirements.txt (line 3)) (0.16.0)\n",
      "Requirement already satisfied: scikit-learn==0.24.1 in ./env/lib/python3.7/site-packages (from -r requirements.txt (line 4)) (0.24.1)\n",
      "Requirement already satisfied: auto-sklearn==0.12.5 in ./env/lib/python3.7/site-packages (from -r requirements.txt (line 5)) (0.12.5)\n",
      "Requirement already satisfied: matplotlib==3.3.3 in ./env/lib/python3.7/site-packages (from -r requirements.txt (line 6)) (3.3.3)\n",
      "Requirement already satisfied: seaborn==0.9.0 in ./env/lib/python3.7/site-packages (from -r requirements.txt (line 7)) (0.9.0)\n",
      "Requirement already satisfied: shap==0.39.0 in ./env/lib/python3.7/site-packages (from -r requirements.txt (line 8)) (0.39.0)\n",
      "Requirement already satisfied: pynisher>=0.6.3 in ./env/lib/python3.7/site-packages (from auto-sklearn==0.12.5->-r requirements.txt (line 5)) (0.6.4)\n",
      "Requirement already satisfied: setuptools in ./env/lib/python3.7/site-packages (from auto-sklearn==0.12.5->-r requirements.txt (line 5)) (40.8.0)\n",
      "Requirement already satisfied: ConfigSpace<0.5,>=0.4.14 in ./env/lib/python3.7/site-packages (from auto-sklearn==0.12.5->-r requirements.txt (line 5)) (0.4.18)\n",
      "Requirement already satisfied: scipy>=0.14.1 in ./env/lib/python3.7/site-packages (from auto-sklearn==0.12.5->-r requirements.txt (line 5)) (1.6.2)\n",
      "Requirement already satisfied: dask in ./env/lib/python3.7/site-packages (from auto-sklearn==0.12.5->-r requirements.txt (line 5)) (2021.4.0)\n",
      "Requirement already satisfied: pyyaml in ./env/lib/python3.7/site-packages (from auto-sklearn==0.12.5->-r requirements.txt (line 5)) (5.4.1)\n",
      "Requirement already satisfied: pyrfr<0.9,>=0.8.1 in ./env/lib/python3.7/site-packages (from auto-sklearn==0.12.5->-r requirements.txt (line 5)) (0.8.1)\n",
      "Requirement already satisfied: smac<0.14,>=0.13.1 in ./env/lib/python3.7/site-packages (from auto-sklearn==0.12.5->-r requirements.txt (line 5)) (0.13.1)\n",
      "Requirement already satisfied: liac-arff in ./env/lib/python3.7/site-packages (from auto-sklearn==0.12.5->-r requirements.txt (line 5)) (2.5.0)\n",
      "Requirement already satisfied: distributed>=2.2.0 in ./env/lib/python3.7/site-packages (from auto-sklearn==0.12.5->-r requirements.txt (line 5)) (2021.4.0)\n",
      "Requirement already satisfied: pyparsing!=2.0.4,!=2.1.2,!=2.1.6,>=2.0.3 in ./env/lib/python3.7/site-packages (from matplotlib==3.3.3->-r requirements.txt (line 6)) (2.4.7)\n",
      "Requirement already satisfied: cycler>=0.10 in ./env/lib/python3.7/site-packages (from matplotlib==3.3.3->-r requirements.txt (line 6)) (0.10.0)\n",
      "Requirement already satisfied: pillow>=6.2.0 in ./env/lib/python3.7/site-packages (from matplotlib==3.3.3->-r requirements.txt (line 6)) (8.2.0)\n",
      "Requirement already satisfied: python-dateutil>=2.1 in ./env/lib/python3.7/site-packages (from matplotlib==3.3.3->-r requirements.txt (line 6)) (2.8.1)\n",
      "Requirement already satisfied: kiwisolver>=1.0.1 in ./env/lib/python3.7/site-packages (from matplotlib==3.3.3->-r requirements.txt (line 6)) (1.3.1)\n",
      "Requirement already satisfied: pytz>=2017.2 in ./env/lib/python3.7/site-packages (from pandas==1.1.2->-r requirements.txt (line 1)) (2021.1)\n",
      "Requirement already satisfied: threadpoolctl>=2.0.0 in ./env/lib/python3.7/site-packages (from scikit-learn==0.24.1->-r requirements.txt (line 4)) (2.1.0)\n",
      "Requirement already satisfied: tqdm>4.25.0 in ./env/lib/python3.7/site-packages (from shap==0.39.0->-r requirements.txt (line 8)) (4.60.0)\n",
      "Requirement already satisfied: cloudpickle in ./env/lib/python3.7/site-packages (from shap==0.39.0->-r requirements.txt (line 8)) (1.6.0)\n",
      "Requirement already satisfied: numba in ./env/lib/python3.7/site-packages (from shap==0.39.0->-r requirements.txt (line 8)) (0.53.1)\n",
      "Requirement already satisfied: slicer==0.0.7 in ./env/lib/python3.7/site-packages (from shap==0.39.0->-r requirements.txt (line 8)) (0.0.7)\n",
      "Requirement already satisfied: cython in ./env/lib/python3.7/site-packages (from ConfigSpace<0.5,>=0.4.14->auto-sklearn==0.12.5->-r requirements.txt (line 5)) (0.29.22)\n",
      "Requirement already satisfied: six in ./env/lib/python3.7/site-packages (from cycler>=0.10->matplotlib==3.3.3->-r requirements.txt (line 6)) (1.15.0)\n",
      "Requirement already satisfied: tblib>=1.6.0 in ./env/lib/python3.7/site-packages (from distributed>=2.2.0->auto-sklearn==0.12.5->-r requirements.txt (line 5)) (1.7.0)\n",
      "Requirement already satisfied: msgpack>=0.6.0 in ./env/lib/python3.7/site-packages (from distributed>=2.2.0->auto-sklearn==0.12.5->-r requirements.txt (line 5)) (1.0.2)\n",
      "Requirement already satisfied: sortedcontainers!=2.0.0,!=2.0.1 in ./env/lib/python3.7/site-packages (from distributed>=2.2.0->auto-sklearn==0.12.5->-r requirements.txt (line 5)) (2.3.0)\n",
      "Requirement already satisfied: tornado>=5 in ./env/lib/python3.7/site-packages (from distributed>=2.2.0->auto-sklearn==0.12.5->-r requirements.txt (line 5)) (6.1)\n",
      "Requirement already satisfied: click>=6.6 in ./env/lib/python3.7/site-packages (from distributed>=2.2.0->auto-sklearn==0.12.5->-r requirements.txt (line 5)) (7.1.2)\n",
      "Requirement already satisfied: psutil>=5.0 in ./env/lib/python3.7/site-packages (from distributed>=2.2.0->auto-sklearn==0.12.5->-r requirements.txt (line 5)) (5.8.0)\n",
      "Requirement already satisfied: toolz>=0.8.2 in ./env/lib/python3.7/site-packages (from distributed>=2.2.0->auto-sklearn==0.12.5->-r requirements.txt (line 5)) (0.11.1)\n",
      "Requirement already satisfied: zict>=0.1.3 in ./env/lib/python3.7/site-packages (from distributed>=2.2.0->auto-sklearn==0.12.5->-r requirements.txt (line 5)) (2.0.0)\n",
      "Requirement already satisfied: partd>=0.3.10 in ./env/lib/python3.7/site-packages (from dask->auto-sklearn==0.12.5->-r requirements.txt (line 5)) (1.2.0)\n",
      "Requirement already satisfied: fsspec>=0.6.0 in ./env/lib/python3.7/site-packages (from dask->auto-sklearn==0.12.5->-r requirements.txt (line 5)) (0.9.0)\n"
     ]
    },
    {
     "name": "stdout",
     "output_type": "stream",
     "text": [
      "Requirement already satisfied: importlib-metadata in ./env/lib/python3.7/site-packages (from fsspec>=0.6.0->dask->auto-sklearn==0.12.5->-r requirements.txt (line 5)) (3.10.0)\n",
      "Requirement already satisfied: locket in ./env/lib/python3.7/site-packages (from partd>=0.3.10->dask->auto-sklearn==0.12.5->-r requirements.txt (line 5)) (0.2.1)\n",
      "Requirement already satisfied: lazy-import in ./env/lib/python3.7/site-packages (from smac<0.14,>=0.13.1->auto-sklearn==0.12.5->-r requirements.txt (line 5)) (0.2.2)\n",
      "Requirement already satisfied: heapdict in ./env/lib/python3.7/site-packages (from zict>=0.1.3->distributed>=2.2.0->auto-sklearn==0.12.5->-r requirements.txt (line 5)) (1.0.1)\n",
      "Requirement already satisfied: zipp>=0.5 in ./env/lib/python3.7/site-packages (from importlib-metadata->fsspec>=0.6.0->dask->auto-sklearn==0.12.5->-r requirements.txt (line 5)) (3.4.1)\n",
      "Requirement already satisfied: typing-extensions>=3.6.4 in ./env/lib/python3.7/site-packages (from importlib-metadata->fsspec>=0.6.0->dask->auto-sklearn==0.12.5->-r requirements.txt (line 5)) (3.7.4.3)\n",
      "Requirement already satisfied: llvmlite<0.37,>=0.36.0rc1 in ./env/lib/python3.7/site-packages (from numba->shap==0.39.0->-r requirements.txt (line 8)) (0.36.0)\n"
     ]
    }
   ],
   "source": [
    "!pip3 install -U pip\n",
    "!curl https://raw.githubusercontent.com/automl/auto-sklearn/master/requirements.txt | xargs -n 1 -L 1 pip3 install\n",
    "!pip3 install -r requirements.txt"
   ]
  },
  {
   "cell_type": "markdown",
   "metadata": {},
   "source": [
    "# Sprawdzanie dokładności modelu\n",
    "Plik test_data.csv jest dostępny tylko dla jury. Zawiera dane testowe - jednakowe dla wszystkich drużyn. Jest w takim samym formacie co zbiór, który otrzymaliście wraz z zadaniem, tylko już z czystymi danymi."
   ]
  },
  {
   "cell_type": "code",
   "execution_count": 2,
   "metadata": {},
   "outputs": [],
   "source": [
    "import pandas as pd\n",
    "import numpy as np"
   ]
  },
  {
   "cell_type": "code",
   "execution_count": 3,
   "metadata": {},
   "outputs": [],
   "source": [
    "test_data = pd.read_csv(\"test_data.csv\", index_col=0)"
   ]
  },
  {
   "cell_type": "markdown",
   "metadata": {},
   "source": [
    "### Miejsce na twój kod:"
   ]
  },
  {
   "cell_type": "code",
   "execution_count": 4,
   "metadata": {
    "scrolled": false
   },
   "outputs": [
    {
     "name": "stderr",
     "output_type": "stream",
     "text": [
      "/home/pwielopolski/Projects/BHL-Hackathon-AI/env/lib/python3.7/site-packages/pyparsing.py:3190: FutureWarning: Possible set intersection at position 3\n",
      "  self.re = re.compile(self.reString)\n"
     ]
    }
   ],
   "source": [
    "import joblib\n",
    "\n",
    "x = test_data.drop(columns = ['Activity'])\n",
    "model = joblib.load('results/automl-single-model-2021-28-09-21-28-03/model.joblib')\n",
    "predicted = model.predict(x)"
   ]
  },
  {
   "cell_type": "markdown",
   "metadata": {},
   "source": [
    "### Sprawdzanie dokładności:\n",
    "Predicted - zmienna przechowująca przewidzianą aktywność. Poniższa linijka powinna zwrócić wartość 0-1."
   ]
  },
  {
   "cell_type": "code",
   "execution_count": 5,
   "metadata": {},
   "outputs": [
    {
     "data": {
      "text/plain": [
       "0.9945877683564857"
      ]
     },
     "execution_count": 5,
     "metadata": {},
     "output_type": "execute_result"
    }
   ],
   "source": [
    "np.mean(predicted == test_data.Activity)"
   ]
  }
 ],
 "metadata": {
  "kernelspec": {
   "display_name": "Python 3",
   "language": "python",
   "name": "python3"
  },
  "language_info": {
   "codemirror_mode": {
    "name": "ipython",
    "version": 3
   },
   "file_extension": ".py",
   "mimetype": "text/x-python",
   "name": "python",
   "nbconvert_exporter": "python",
   "pygments_lexer": "ipython3",
   "version": "3.7.4"
  }
 },
 "nbformat": 4,
 "nbformat_minor": 4
}
