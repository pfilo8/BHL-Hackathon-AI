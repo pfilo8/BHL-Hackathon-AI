{
 "cells": [
  {
   "cell_type": "code",
   "execution_count": 1,
   "id": "private-upgrade",
   "metadata": {},
   "outputs": [],
   "source": [
    "from pathlib import Path\n",
    "\n",
    "import graphviz\n",
    "import joblib\n",
    "import matplotlib.pyplot as plt\n",
    "import pandas as pd\n",
    "import seaborn as sns\n",
    "from sklearn import metrics, model_selection, tree"
   ]
  },
  {
   "cell_type": "code",
   "execution_count": 2,
   "id": "derived-concert",
   "metadata": {},
   "outputs": [],
   "source": [
    "PATH = Path(\"results/3categories\")\n",
    "PATH.mkdir(exist_ok=True)"
   ]
  },
  {
   "cell_type": "code",
   "execution_count": 3,
   "id": "musical-duncan",
   "metadata": {},
   "outputs": [],
   "source": [
    "def summary(model, x, y):\n",
    "    y_hat = model.predict(x)\n",
    "    print('-'*40)\n",
    "    print('Raport klasyfikacyjny')\n",
    "    print()\n",
    "    print(metrics.classification_report(y, y_hat))\n",
    "    print('-'*40)\n",
    "    print('Macierz pomyłek')\n",
    "    print()\n",
    "    print(metrics.confusion_matrix(y, y_hat))\n",
    "    print('-'*40)"
   ]
  },
  {
   "cell_type": "code",
   "execution_count": 4,
   "id": "artificial-palestine",
   "metadata": {},
   "outputs": [
    {
     "data": {
      "text/html": [
       "<div>\n",
       "<style scoped>\n",
       "    .dataframe tbody tr th:only-of-type {\n",
       "        vertical-align: middle;\n",
       "    }\n",
       "\n",
       "    .dataframe tbody tr th {\n",
       "        vertical-align: top;\n",
       "    }\n",
       "\n",
       "    .dataframe thead th {\n",
       "        text-align: right;\n",
       "    }\n",
       "</style>\n",
       "<table border=\"1\" class=\"dataframe\">\n",
       "  <thead>\n",
       "    <tr style=\"text-align: right;\">\n",
       "      <th></th>\n",
       "      <th>Activity</th>\n",
       "      <th>angle(X,gravityMean)</th>\n",
       "      <th>angle(Y,gravityMean)</th>\n",
       "      <th>angle(Z,gravityMean)</th>\n",
       "      <th>angle(tBodyAccJerkMean),gravityMean)</th>\n",
       "      <th>angle(tBodyAccMean,gravity)</th>\n",
       "      <th>angle(tBodyGyroJerkMean,gravityMean)</th>\n",
       "      <th>angle(tBodyGyroMean,gravityMean)</th>\n",
       "      <th>energy-mean()</th>\n",
       "      <th>fBodyAcc-bandsEnergy()-1,16</th>\n",
       "      <th>...</th>\n",
       "      <th>tGravityAccMag-energy()</th>\n",
       "      <th>tGravityAccMag-entropy()</th>\n",
       "      <th>tGravityAccMag-iqr()</th>\n",
       "      <th>tGravityAccMag-mad()</th>\n",
       "      <th>tGravityAccMag-max()</th>\n",
       "      <th>tGravityAccMag-mean()</th>\n",
       "      <th>tGravityAccMag-min()</th>\n",
       "      <th>tGravityAccMag-sma()</th>\n",
       "      <th>tGravityAccMag-std()</th>\n",
       "      <th>void()</th>\n",
       "    </tr>\n",
       "  </thead>\n",
       "  <tbody>\n",
       "    <tr>\n",
       "      <th>0</th>\n",
       "      <td>STANDING</td>\n",
       "      <td>-1.574191</td>\n",
       "      <td>-0.805700</td>\n",
       "      <td>-2.453831</td>\n",
       "      <td>-1.861714</td>\n",
       "      <td>0.115517</td>\n",
       "      <td>-2.023369</td>\n",
       "      <td>3.125860</td>\n",
       "      <td>-9.474436</td>\n",
       "      <td>3.622600</td>\n",
       "      <td>...</td>\n",
       "      <td>5.049130</td>\n",
       "      <td>3.272281</td>\n",
       "      <td>5.103018</td>\n",
       "      <td>-0.823302</td>\n",
       "      <td>3.063681</td>\n",
       "      <td>-0.928676</td>\n",
       "      <td>-1.007695</td>\n",
       "      <td>3.094236</td>\n",
       "      <td>1.669987</td>\n",
       "      <td>1.0</td>\n",
       "    </tr>\n",
       "    <tr>\n",
       "      <th>1</th>\n",
       "      <td>WALKING_UPSTAIRS</td>\n",
       "      <td>-1.568669</td>\n",
       "      <td>-0.612620</td>\n",
       "      <td>-2.488338</td>\n",
       "      <td>-1.751117</td>\n",
       "      <td>0.218134</td>\n",
       "      <td>0.280294</td>\n",
       "      <td>7.953403</td>\n",
       "      <td>-0.679894</td>\n",
       "      <td>2.512880</td>\n",
       "      <td>...</td>\n",
       "      <td>4.565443</td>\n",
       "      <td>4.440779</td>\n",
       "      <td>3.288399</td>\n",
       "      <td>-2.689605</td>\n",
       "      <td>1.705341</td>\n",
       "      <td>-0.822617</td>\n",
       "      <td>-0.572410</td>\n",
       "      <td>-2.187890</td>\n",
       "      <td>-0.544652</td>\n",
       "      <td>2.0</td>\n",
       "    </tr>\n",
       "    <tr>\n",
       "      <th>2</th>\n",
       "      <td>LAYING</td>\n",
       "      <td>-1.548333</td>\n",
       "      <td>-0.139628</td>\n",
       "      <td>-2.380889</td>\n",
       "      <td>-1.915239</td>\n",
       "      <td>0.067613</td>\n",
       "      <td>-0.887342</td>\n",
       "      <td>6.007361</td>\n",
       "      <td>-11.906904</td>\n",
       "      <td>3.621984</td>\n",
       "      <td>...</td>\n",
       "      <td>5.059609</td>\n",
       "      <td>2.296603</td>\n",
       "      <td>5.344174</td>\n",
       "      <td>-0.549843</td>\n",
       "      <td>3.272225</td>\n",
       "      <td>-0.940610</td>\n",
       "      <td>-1.031522</td>\n",
       "      <td>-2.071755</td>\n",
       "      <td>2.024442</td>\n",
       "      <td>3.0</td>\n",
       "    </tr>\n",
       "    <tr>\n",
       "      <th>3</th>\n",
       "      <td>WALKING</td>\n",
       "      <td>-1.574094</td>\n",
       "      <td>-0.793443</td>\n",
       "      <td>-2.449959</td>\n",
       "      <td>-1.842741</td>\n",
       "      <td>-0.195625</td>\n",
       "      <td>-0.950671</td>\n",
       "      <td>2.104353</td>\n",
       "      <td>-11.906121</td>\n",
       "      <td>3.355701</td>\n",
       "      <td>...</td>\n",
       "      <td>4.860758</td>\n",
       "      <td>4.177535</td>\n",
       "      <td>3.950012</td>\n",
       "      <td>-0.322642</td>\n",
       "      <td>2.366287</td>\n",
       "      <td>-0.866937</td>\n",
       "      <td>-0.696431</td>\n",
       "      <td>1.863375</td>\n",
       "      <td>0.550414</td>\n",
       "      <td>2.0</td>\n",
       "    </tr>\n",
       "    <tr>\n",
       "      <th>4</th>\n",
       "      <td>LAYING</td>\n",
       "      <td>-1.548333</td>\n",
       "      <td>-0.139628</td>\n",
       "      <td>-2.380889</td>\n",
       "      <td>NaN</td>\n",
       "      <td>0.067613</td>\n",
       "      <td>-0.887342</td>\n",
       "      <td>6.007361</td>\n",
       "      <td>-11.970485</td>\n",
       "      <td>3.621984</td>\n",
       "      <td>...</td>\n",
       "      <td>5.059609</td>\n",
       "      <td>2.296603</td>\n",
       "      <td>5.344174</td>\n",
       "      <td>-0.549843</td>\n",
       "      <td>3.272225</td>\n",
       "      <td>-0.940610</td>\n",
       "      <td>-1.031522</td>\n",
       "      <td>-2.102513</td>\n",
       "      <td>2.024442</td>\n",
       "      <td>3.0</td>\n",
       "    </tr>\n",
       "  </tbody>\n",
       "</table>\n",
       "<p>5 rows × 572 columns</p>\n",
       "</div>"
      ],
      "text/plain": [
       "           Activity  angle(X,gravityMean)  angle(Y,gravityMean)  \\\n",
       "0          STANDING             -1.574191             -0.805700   \n",
       "1  WALKING_UPSTAIRS             -1.568669             -0.612620   \n",
       "2            LAYING             -1.548333             -0.139628   \n",
       "3           WALKING             -1.574094             -0.793443   \n",
       "4            LAYING             -1.548333             -0.139628   \n",
       "\n",
       "   angle(Z,gravityMean)  angle(tBodyAccJerkMean),gravityMean)  \\\n",
       "0             -2.453831                             -1.861714   \n",
       "1             -2.488338                             -1.751117   \n",
       "2             -2.380889                             -1.915239   \n",
       "3             -2.449959                             -1.842741   \n",
       "4             -2.380889                                   NaN   \n",
       "\n",
       "   angle(tBodyAccMean,gravity)  angle(tBodyGyroJerkMean,gravityMean)  \\\n",
       "0                     0.115517                             -2.023369   \n",
       "1                     0.218134                              0.280294   \n",
       "2                     0.067613                             -0.887342   \n",
       "3                    -0.195625                             -0.950671   \n",
       "4                     0.067613                             -0.887342   \n",
       "\n",
       "   angle(tBodyGyroMean,gravityMean)  energy-mean()  \\\n",
       "0                          3.125860      -9.474436   \n",
       "1                          7.953403      -0.679894   \n",
       "2                          6.007361     -11.906904   \n",
       "3                          2.104353     -11.906121   \n",
       "4                          6.007361     -11.970485   \n",
       "\n",
       "   fBodyAcc-bandsEnergy()-1,16  ...  tGravityAccMag-energy()  \\\n",
       "0                     3.622600  ...                 5.049130   \n",
       "1                     2.512880  ...                 4.565443   \n",
       "2                     3.621984  ...                 5.059609   \n",
       "3                     3.355701  ...                 4.860758   \n",
       "4                     3.621984  ...                 5.059609   \n",
       "\n",
       "   tGravityAccMag-entropy()  tGravityAccMag-iqr()  tGravityAccMag-mad()  \\\n",
       "0                  3.272281              5.103018             -0.823302   \n",
       "1                  4.440779              3.288399             -2.689605   \n",
       "2                  2.296603              5.344174             -0.549843   \n",
       "3                  4.177535              3.950012             -0.322642   \n",
       "4                  2.296603              5.344174             -0.549843   \n",
       "\n",
       "   tGravityAccMag-max()  tGravityAccMag-mean()  tGravityAccMag-min()  \\\n",
       "0              3.063681              -0.928676             -1.007695   \n",
       "1              1.705341              -0.822617             -0.572410   \n",
       "2              3.272225              -0.940610             -1.031522   \n",
       "3              2.366287              -0.866937             -0.696431   \n",
       "4              3.272225              -0.940610             -1.031522   \n",
       "\n",
       "   tGravityAccMag-sma()  tGravityAccMag-std()  void()  \n",
       "0              3.094236              1.669987     1.0  \n",
       "1             -2.187890             -0.544652     2.0  \n",
       "2             -2.071755              2.024442     3.0  \n",
       "3              1.863375              0.550414     2.0  \n",
       "4             -2.102513              2.024442     3.0  \n",
       "\n",
       "[5 rows x 572 columns]"
      ]
     },
     "execution_count": 4,
     "metadata": {},
     "output_type": "execute_result"
    }
   ],
   "source": [
    "df = pd.read_csv(\"data/final_train.csv\", index_col=0)\n",
    "df.head()"
   ]
  },
  {
   "cell_type": "markdown",
   "id": "disturbed-brighton",
   "metadata": {},
   "source": [
    "# Wstępne przetworzenie danych"
   ]
  },
  {
   "cell_type": "code",
   "execution_count": 5,
   "id": "strange-provider",
   "metadata": {},
   "outputs": [],
   "source": [
    "df = df.drop(columns=[\"subject\", \"void()\"])\n",
    "df = df.dropna()"
   ]
  },
  {
   "cell_type": "code",
   "execution_count": 6,
   "id": "improving-plane",
   "metadata": {},
   "outputs": [],
   "source": [
    "df[\"Activity\"] = df[\"Activity\"].replace(\n",
    "    {\n",
    "        \"STANDING\": \"STANDING_SITTING\",\n",
    "        \"SITTING\": \"STANDING_SITTING\",\n",
    "        \"WALKING\": \"WALKING_ALL\",\n",
    "        \"WALKING_DOWNSTAIRS\": \"WALKING_ALL\",\n",
    "        \"WALKING_UPSTAIRS\": \"WALKING_ALL\",\n",
    "    }\n",
    ")"
   ]
  },
  {
   "cell_type": "code",
   "execution_count": 7,
   "id": "appropriate-twins",
   "metadata": {},
   "outputs": [],
   "source": [
    "y = df[\"Activity\"]\n",
    "X = df.drop(columns=[\"Activity\"])"
   ]
  },
  {
   "cell_type": "code",
   "execution_count": 8,
   "id": "going-deployment",
   "metadata": {},
   "outputs": [
    {
     "data": {
      "text/plain": [
       "WALKING_ALL         4261\n",
       "STANDING_SITTING    3542\n",
       "LAYING              1821\n",
       "Name: Activity, dtype: int64"
      ]
     },
     "execution_count": 8,
     "metadata": {},
     "output_type": "execute_result"
    }
   ],
   "source": [
    "y.value_counts()"
   ]
  },
  {
   "cell_type": "code",
   "execution_count": 9,
   "id": "fuzzy-provider",
   "metadata": {},
   "outputs": [],
   "source": [
    "X_train, X_test, y_train, y_test = model_selection.train_test_split(X, y, random_state=42)"
   ]
  },
  {
   "cell_type": "markdown",
   "id": "dietary-wealth",
   "metadata": {},
   "source": [
    "# Dopasowanie drzewa decyzyjnego"
   ]
  },
  {
   "cell_type": "code",
   "execution_count": 10,
   "id": "constant-generic",
   "metadata": {},
   "outputs": [
    {
     "data": {
      "text/plain": [
       "DecisionTreeClassifier(random_state=42)"
      ]
     },
     "execution_count": 10,
     "metadata": {},
     "output_type": "execute_result"
    }
   ],
   "source": [
    "tree_clf = tree.DecisionTreeClassifier(random_state=42)\n",
    "tree_clf.fit(X_train, y_train)"
   ]
  },
  {
   "cell_type": "markdown",
   "id": "distant-essence",
   "metadata": {},
   "source": [
    "# Wyniki klasyfikacji 3-klasowej z wykorzystaniem drzewa decyzyjnego"
   ]
  },
  {
   "cell_type": "code",
   "execution_count": 11,
   "id": "saved-proceeding",
   "metadata": {},
   "outputs": [
    {
     "name": "stdout",
     "output_type": "stream",
     "text": [
      "Zbiór treningowy:\n",
      "----------------------------------------\n",
      "Raport klasyfikacyjny\n",
      "\n",
      "                  precision    recall  f1-score   support\n",
      "\n",
      "          LAYING       1.00      1.00      1.00      1371\n",
      "STANDING_SITTING       1.00      1.00      1.00      2656\n",
      "     WALKING_ALL       1.00      1.00      1.00      3191\n",
      "\n",
      "        accuracy                           1.00      7218\n",
      "       macro avg       1.00      1.00      1.00      7218\n",
      "    weighted avg       1.00      1.00      1.00      7218\n",
      "\n",
      "----------------------------------------\n",
      "Macierz pomyłek\n",
      "\n",
      "[[1371    0    0]\n",
      " [   0 2656    0]\n",
      " [   0    0 3191]]\n",
      "----------------------------------------\n"
     ]
    }
   ],
   "source": [
    "print(\"Zbiór treningowy:\")\n",
    "summary(tree_clf, X_train, y_train)"
   ]
  },
  {
   "cell_type": "code",
   "execution_count": 12,
   "id": "hired-nickname",
   "metadata": {},
   "outputs": [
    {
     "name": "stdout",
     "output_type": "stream",
     "text": [
      "Zbiór testowy:\n",
      "----------------------------------------\n",
      "Raport klasyfikacyjny\n",
      "\n",
      "                  precision    recall  f1-score   support\n",
      "\n",
      "          LAYING       1.00      1.00      1.00       450\n",
      "STANDING_SITTING       1.00      1.00      1.00       886\n",
      "     WALKING_ALL       1.00      1.00      1.00      1070\n",
      "\n",
      "        accuracy                           1.00      2406\n",
      "       macro avg       1.00      1.00      1.00      2406\n",
      "    weighted avg       1.00      1.00      1.00      2406\n",
      "\n",
      "----------------------------------------\n",
      "Macierz pomyłek\n",
      "\n",
      "[[ 450    0    0]\n",
      " [   0  886    0]\n",
      " [   0    0 1070]]\n",
      "----------------------------------------\n"
     ]
    }
   ],
   "source": [
    "print(\"Zbiór testowy:\")\n",
    "summary(tree_clf, X_test, y_test)"
   ]
  },
  {
   "cell_type": "markdown",
   "id": "determined-completion",
   "metadata": {},
   "source": [
    "# Wizualizacja drzewa decyzyjnego"
   ]
  },
  {
   "cell_type": "code",
   "execution_count": 13,
   "id": "juvenile-deficit",
   "metadata": {
    "scrolled": false
   },
   "outputs": [
    {
     "data": {
      "image/svg+xml": [
       "<?xml version=\"1.0\" encoding=\"UTF-8\" standalone=\"no\"?>\n",
       "<!DOCTYPE svg PUBLIC \"-//W3C//DTD SVG 1.1//EN\"\n",
       " \"http://www.w3.org/Graphics/SVG/1.1/DTD/svg11.dtd\">\n",
       "<!-- Generated by graphviz version 2.43.0 (0)\n",
       " -->\n",
       "<!-- Title: Tree Pages: 1 -->\n",
       "<svg width=\"422pt\" height=\"277pt\"\n",
       " viewBox=\"0.00 0.00 421.50 276.50\" xmlns=\"http://www.w3.org/2000/svg\" xmlns:xlink=\"http://www.w3.org/1999/xlink\">\n",
       "<g id=\"graph0\" class=\"graph\" transform=\"scale(1 1) rotate(0) translate(4 272.5)\">\n",
       "<title>Tree</title>\n",
       "<polygon fill=\"white\" stroke=\"transparent\" points=\"-4,4 -4,-272.5 417.5,-272.5 417.5,4 -4,4\"/>\n",
       "<!-- 0 -->\n",
       "<g id=\"node1\" class=\"node\">\n",
       "<title>0</title>\n",
       "<path fill=\"#f0e8fc\" stroke=\"black\" d=\"M393,-268.5C393,-268.5 169,-268.5 169,-268.5 163,-268.5 157,-262.5 157,-256.5 157,-256.5 157,-212.5 157,-212.5 157,-206.5 163,-200.5 169,-200.5 169,-200.5 393,-200.5 393,-200.5 399,-200.5 405,-206.5 405,-212.5 405,-212.5 405,-256.5 405,-256.5 405,-262.5 399,-268.5 393,-268.5\"/>\n",
       "<text text-anchor=\"middle\" x=\"281\" y=\"-253.3\" font-family=\"Helvetica,sans-Serif\" font-size=\"14.00\">tBodyAccJerk&#45;mad()&#45;X &lt;= &#45;0.593</text>\n",
       "<text text-anchor=\"middle\" x=\"281\" y=\"-238.3\" font-family=\"Helvetica,sans-Serif\" font-size=\"14.00\">7218</text>\n",
       "<text text-anchor=\"middle\" x=\"281\" y=\"-223.3\" font-family=\"Helvetica,sans-Serif\" font-size=\"14.00\">[1371, 2656, 3191]</text>\n",
       "<text text-anchor=\"middle\" x=\"281\" y=\"-208.3\" font-family=\"Helvetica,sans-Serif\" font-size=\"14.00\">WALKING_ALL</text>\n",
       "</g>\n",
       "<!-- 1 -->\n",
       "<g id=\"node2\" class=\"node\">\n",
       "<title>1</title>\n",
       "<path fill=\"#9ff2c2\" stroke=\"black\" d=\"M316.5,-164.5C316.5,-164.5 95.5,-164.5 95.5,-164.5 89.5,-164.5 83.5,-158.5 83.5,-152.5 83.5,-152.5 83.5,-108.5 83.5,-108.5 83.5,-102.5 89.5,-96.5 95.5,-96.5 95.5,-96.5 316.5,-96.5 316.5,-96.5 322.5,-96.5 328.5,-102.5 328.5,-108.5 328.5,-108.5 328.5,-152.5 328.5,-152.5 328.5,-158.5 322.5,-164.5 316.5,-164.5\"/>\n",
       "<text text-anchor=\"middle\" x=\"206\" y=\"-149.3\" font-family=\"Helvetica,sans-Serif\" font-size=\"14.00\">angle(X,gravityMean) &lt;= &#45;1.553</text>\n",
       "<text text-anchor=\"middle\" x=\"206\" y=\"-134.3\" font-family=\"Helvetica,sans-Serif\" font-size=\"14.00\">4027</text>\n",
       "<text text-anchor=\"middle\" x=\"206\" y=\"-119.3\" font-family=\"Helvetica,sans-Serif\" font-size=\"14.00\">[1371, 2656, 0]</text>\n",
       "<text text-anchor=\"middle\" x=\"206\" y=\"-104.3\" font-family=\"Helvetica,sans-Serif\" font-size=\"14.00\">STANDING_SITTING</text>\n",
       "</g>\n",
       "<!-- 0&#45;&gt;1 -->\n",
       "<g id=\"edge1\" class=\"edge\">\n",
       "<title>0&#45;&gt;1</title>\n",
       "<path fill=\"none\" stroke=\"black\" d=\"M256.65,-200.38C250.23,-191.65 243.22,-182.12 236.52,-173.01\"/>\n",
       "<polygon fill=\"black\" stroke=\"black\" points=\"239.23,-170.78 230.48,-164.8 233.59,-174.93 239.23,-170.78\"/>\n",
       "<text text-anchor=\"middle\" x=\"226.71\" y=\"-185.81\" font-family=\"Helvetica,sans-Serif\" font-size=\"14.00\">True</text>\n",
       "</g>\n",
       "<!-- 4 -->\n",
       "<g id=\"node5\" class=\"node\">\n",
       "<title>4</title>\n",
       "<path fill=\"#8139e5\" stroke=\"black\" d=\"M401.5,-53C401.5,-53 312.5,-53 312.5,-53 306.5,-53 300.5,-47 300.5,-41 300.5,-41 300.5,-12 300.5,-12 300.5,-6 306.5,0 312.5,0 312.5,0 401.5,0 401.5,0 407.5,0 413.5,-6 413.5,-12 413.5,-12 413.5,-41 413.5,-41 413.5,-47 407.5,-53 401.5,-53\"/>\n",
       "<text text-anchor=\"middle\" x=\"357\" y=\"-37.8\" font-family=\"Helvetica,sans-Serif\" font-size=\"14.00\">3191</text>\n",
       "<text text-anchor=\"middle\" x=\"357\" y=\"-22.8\" font-family=\"Helvetica,sans-Serif\" font-size=\"14.00\">[0, 0, 3191]</text>\n",
       "<text text-anchor=\"middle\" x=\"357\" y=\"-7.8\" font-family=\"Helvetica,sans-Serif\" font-size=\"14.00\">WALKING_ALL</text>\n",
       "</g>\n",
       "<!-- 0&#45;&gt;4 -->\n",
       "<g id=\"edge4\" class=\"edge\">\n",
       "<title>0&#45;&gt;4</title>\n",
       "<path fill=\"none\" stroke=\"black\" d=\"M308.5,-200.21C323.07,-182.57 338,-164.5 338,-164.5 338,-164.5 346.4,-103.95 352.03,-63.36\"/>\n",
       "<polygon fill=\"black\" stroke=\"black\" points=\"355.52,-63.65 353.43,-53.27 348.59,-62.69 355.52,-63.65\"/>\n",
       "<text text-anchor=\"middle\" x=\"368.51\" y=\"-69.51\" font-family=\"Helvetica,sans-Serif\" font-size=\"14.00\">False</text>\n",
       "</g>\n",
       "<!-- 2 -->\n",
       "<g id=\"node3\" class=\"node\">\n",
       "<title>2</title>\n",
       "<path fill=\"#39e581\" stroke=\"black\" d=\"M140,-53C140,-53 12,-53 12,-53 6,-53 0,-47 0,-41 0,-41 0,-12 0,-12 0,-6 6,0 12,0 12,0 140,0 140,0 146,0 152,-6 152,-12 152,-12 152,-41 152,-41 152,-47 146,-53 140,-53\"/>\n",
       "<text text-anchor=\"middle\" x=\"76\" y=\"-37.8\" font-family=\"Helvetica,sans-Serif\" font-size=\"14.00\">2656</text>\n",
       "<text text-anchor=\"middle\" x=\"76\" y=\"-22.8\" font-family=\"Helvetica,sans-Serif\" font-size=\"14.00\">[0, 2656, 0]</text>\n",
       "<text text-anchor=\"middle\" x=\"76\" y=\"-7.8\" font-family=\"Helvetica,sans-Serif\" font-size=\"14.00\">STANDING_SITTING</text>\n",
       "</g>\n",
       "<!-- 1&#45;&gt;2 -->\n",
       "<g id=\"edge2\" class=\"edge\">\n",
       "<title>1&#45;&gt;2</title>\n",
       "<path fill=\"none\" stroke=\"black\" d=\"M163.79,-96.38C148.65,-84.51 131.63,-71.15 116.63,-59.38\"/>\n",
       "<polygon fill=\"black\" stroke=\"black\" points=\"118.55,-56.44 108.53,-53.02 114.23,-61.95 118.55,-56.44\"/>\n",
       "</g>\n",
       "<!-- 3 -->\n",
       "<g id=\"node4\" class=\"node\">\n",
       "<title>3</title>\n",
       "<path fill=\"#e58139\" stroke=\"black\" d=\"M257.5,-53C257.5,-53 182.5,-53 182.5,-53 176.5,-53 170.5,-47 170.5,-41 170.5,-41 170.5,-12 170.5,-12 170.5,-6 176.5,0 182.5,0 182.5,0 257.5,0 257.5,0 263.5,0 269.5,-6 269.5,-12 269.5,-12 269.5,-41 269.5,-41 269.5,-47 263.5,-53 257.5,-53\"/>\n",
       "<text text-anchor=\"middle\" x=\"220\" y=\"-37.8\" font-family=\"Helvetica,sans-Serif\" font-size=\"14.00\">1371</text>\n",
       "<text text-anchor=\"middle\" x=\"220\" y=\"-22.8\" font-family=\"Helvetica,sans-Serif\" font-size=\"14.00\">[1371, 0, 0]</text>\n",
       "<text text-anchor=\"middle\" x=\"220\" y=\"-7.8\" font-family=\"Helvetica,sans-Serif\" font-size=\"14.00\">LAYING</text>\n",
       "</g>\n",
       "<!-- 1&#45;&gt;3 -->\n",
       "<g id=\"edge3\" class=\"edge\">\n",
       "<title>1&#45;&gt;3</title>\n",
       "<path fill=\"none\" stroke=\"black\" d=\"M210.55,-96.38C212.01,-85.72 213.64,-73.85 215.12,-63.02\"/>\n",
       "<polygon fill=\"black\" stroke=\"black\" points=\"218.6,-63.4 216.5,-53.02 211.67,-62.45 218.6,-63.4\"/>\n",
       "</g>\n",
       "</g>\n",
       "</svg>\n"
      ],
      "text/plain": [
       "<graphviz.files.Source at 0x7f8be3c56040>"
      ]
     },
     "execution_count": 13,
     "metadata": {},
     "output_type": "execute_result"
    }
   ],
   "source": [
    "dot_data = tree.export_graphviz(\n",
    "    tree_clf,\n",
    "    feature_names=X.columns,\n",
    "    class_names=tree_clf.classes_,\n",
    "    label=\"none\",\n",
    "    filled=True,\n",
    "    leaves_parallel=True,\n",
    "    impurity=False,\n",
    "    rounded=True\n",
    ")\n",
    "graph = graphviz.Source(dot_data)\n",
    "graph.render(\"3categories_tree\", directory=PATH, format=\"pdf\")\n",
    "graph"
   ]
  },
  {
   "cell_type": "markdown",
   "id": "after-gazette",
   "metadata": {},
   "source": [
    "# Wyjaśnienie drzewa decyzyjnego"
   ]
  },
  {
   "cell_type": "markdown",
   "id": "overall-blood",
   "metadata": {},
   "source": [
    "## Pierwszy podział"
   ]
  },
  {
   "cell_type": "markdown",
   "id": "coastal-holmes",
   "metadata": {},
   "source": [
    "Pierwszy podział w drzewie wykorzystuje zmienną `tBodyAccJerk-mad()-X`.\n",
    "\n",
    "Wiemy, że zmienna `tBodyAccJerk-mad()-X` jest związana z medianą bezwzględnego odchylenia zrywu.\n",
    "Możemy przypuszczać, że aktywności dynamiczne (chodzenie) będą miały dużą medianę bezwzględnego odchylenia\n",
    "zrywu w osi X, związaną z wykonywaniem kroków, a aktywności statyczne (leżenie, stanie, siedzenie) będą miały małą medianę, ze względu na brak ruchu w osi X."
   ]
  },
  {
   "cell_type": "code",
   "execution_count": 14,
   "id": "patient-boxing",
   "metadata": {},
   "outputs": [
    {
     "data": {
      "image/png": "[encoded data removed]",
      "text/plain": [
       "<Figure size 1080x720 with 1 Axes>"
      ]
     },
     "metadata": {
      "needs_background": "light"
     },
     "output_type": "display_data"
    }
   ],
   "source": [
    "first_feature = X.columns[tree_clf.tree_.feature[0]]\n",
    "first_threshold = tree_clf.tree_.threshold[0]\n",
    "\n",
    "fig, ax = plt.subplots(figsize=(15, 10))\n",
    "sns.boxplot(y=first_feature, x=df[\"Activity\"], data=X, ax=ax)\n",
    "ax.hlines(first_threshold, *ax.get_xlim())\n",
    "plt.tight_layout()\n",
    "plt.show()"
   ]
  },
  {
   "cell_type": "markdown",
   "id": "featured-french",
   "metadata": {},
   "source": [
    "Na wykresie możemy zobaczyć, że faktycznie wartości tej zmiennej dla grup, odpowiadających statycznym aktywnościom, są skumulowane wokół pewnej wartości i pozwala to na odseparowanie ich od aktywności dynamicznych."
   ]
  },
  {
   "cell_type": "markdown",
   "id": "formed-prerequisite",
   "metadata": {},
   "source": [
    "# Drugi podział"
   ]
  },
  {
   "cell_type": "markdown",
   "id": "south-honor",
   "metadata": {},
   "source": [
    "Drugi podział w drzewie wykorzystuje zmienną `angle(X,gravityMean)`.\n",
    "\n",
    "Wiemy, że zmienna `angle(X,gravityMean)` jest związana z kątem między osią X urządzenia oraz wektorem przyspieszenia ziemskiego (który jest skierowany w stronę ziemi).\n",
    "Stąd, możemy interpretować nasz rewelacyjny wynik jako wskazanie, czy tułów badanej osoby znajduje się w pozycji poziomej."
   ]
  },
  {
   "cell_type": "code",
   "execution_count": 15,
   "id": "express-paraguay",
   "metadata": {},
   "outputs": [],
   "source": [
    "unexplained_X = X[X[first_feature] <= first_threshold]\n",
    "unexplained_y = y[X[first_feature] <= first_threshold]"
   ]
  },
  {
   "cell_type": "code",
   "execution_count": 16,
   "id": "surprising-going",
   "metadata": {},
   "outputs": [
    {
     "data": {
      "image/png": "[encoded data removed]",
      "text/plain": [
       "<Figure size 1080x720 with 1 Axes>"
      ]
     },
     "metadata": {
      "needs_background": "light"
     },
     "output_type": "display_data"
    }
   ],
   "source": [
    "feature = X.columns[tree_clf.tree_.feature[1]]\n",
    "threshold = tree_clf.tree_.threshold[1]\n",
    "\n",
    "fig, ax = plt.subplots(figsize=(15, 10))\n",
    "sns.boxplot(y=feature, x=unexplained_y, data=unexplained_X, ax=ax)\n",
    "ax.hlines(threshold, *ax.get_xlim())\n",
    "ax.set_title(\"Second node decision explaination\")\n",
    "\n",
    "plt.tight_layout()\n",
    "plt.show()"
   ]
  },
  {
   "cell_type": "markdown",
   "id": "suburban-denmark",
   "metadata": {},
   "source": [
    "Widzimy, że z wykorzystaniem tej zmiennej możemy bardzo dokładnie odseparować te klasy."
   ]
  },
  {
   "cell_type": "markdown",
   "id": "criminal-emergency",
   "metadata": {},
   "source": [
    "# Zapisanie drzewa decyzyjnego"
   ]
  },
  {
   "cell_type": "code",
   "execution_count": 17,
   "id": "otherwise-southwest",
   "metadata": {},
   "outputs": [
    {
     "data": {
      "text/plain": [
       "['results/3categories/3categories_tree.joblib']"
      ]
     },
     "execution_count": 17,
     "metadata": {},
     "output_type": "execute_result"
    }
   ],
   "source": [
    "joblib.dump(tree_clf, PATH / \"3categories_tree.joblib\")"
   ]
  },
  {
   "cell_type": "markdown",
   "id": "present-glass",
   "metadata": {},
   "source": [
    "# Podsumowanie\n",
    "\n",
    "Kroki:\n",
    "* Przetworzenie danych\n",
    "    * Usunięcie zmiennych `subject` i `void()`\n",
    "* Balansowanie\n",
    "    * Nie wykorzystano balansowania zmiennych\n",
    "* Transformacje zmiennych\n",
    "    * Zamiana zmiennej `Activity` według podziału na 3 grupy:\n",
    "        * `WALKING_ALL`: `WALKING`, `WALKING_DOWNSTAIRS`, `WALKING_UPSTAIRS`\n",
    "        * `STANDING_SITTING`: `STANDING`, `SITTING`\n",
    "        * `LAYING`: `LAYING`\n",
    "* Klasyfikator\n",
    "    * Drzewo klasyfikacyjne"
   ]
  },
  {
   "cell_type": "markdown",
   "id": "deadly-sense",
   "metadata": {},
   "source": [
    "Dzięki temu modelowi otrzymujemy znakomite rezultaty w rozpoznawaniu trzech klas.\n",
    "Co więcej, jest on bardzo prosty i łatwy w interpretacji."
   ]
  }
 ],
 "metadata": {
  "kernelspec": {
   "display_name": "Python 3",
   "language": "python",
   "name": "python3"
  },
  "language_info": {
   "codemirror_mode": {
    "name": "ipython",
    "version": 3
   },
   "file_extension": ".py",
   "mimetype": "text/x-python",
   "name": "python",
   "nbconvert_exporter": "python",
   "pygments_lexer": "ipython3",
   "version": "3.8.5"
  }
 },
 "nbformat": 4,
 "nbformat_minor": 5
}