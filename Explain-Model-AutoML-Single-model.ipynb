{
 "cells": [
  {
   "cell_type": "code",
   "execution_count": null,
   "metadata": {},
   "outputs": [],
   "source": [
    "import logging\n",
    "import os\n",
    "import pandas as pd\n",
    "import numpy as np\n",
    "import dalex as dx\n",
    "import shap\n",
    "import autosklearn.classification\n",
    "import joblib\n",
    "import matplotlib.pyplot as plt\n",
    "import seaborn as sns\n",
    "\n",
    "from datetime import datetime\n",
    "from sklearn.metrics import classification_report, confusion_matrix\n",
    "from sklearn.model_selection import train_test_split\n",
    "from sklearn.tree import DecisionTreeClassifier, plot_tree\n",
    "from sklearn.metrics import accuracy_score, confusion_matrix\n",
    "\n",
    "pd.options.display.max_columns = 999\n",
    "RANDOM_STATE = 42"
   ]
  },
  {
   "cell_type": "code",
   "execution_count": null,
   "metadata": {},
   "outputs": [],
   "source": [
    "DATA_PATH = 'data/final_train.csv'\n",
    "df = pd.read_csv(DATA_PATH, index_col=0)"
   ]
  },
  {
   "cell_type": "code",
   "execution_count": null,
   "metadata": {},
   "outputs": [],
   "source": [
    "x, y = df.drop(columns = ['Activity']), df['Activity']"
   ]
  },
  {
   "cell_type": "code",
   "execution_count": null,
   "metadata": {},
   "outputs": [],
   "source": [
    "y_ = y.astype('category').cat.codes"
   ]
  },
  {
   "cell_type": "code",
   "execution_count": null,
   "metadata": {},
   "outputs": [],
   "source": [
    "x_train, x_test, y_train, y_test = train_test_split(x, y, random_state=RANDOM_STATE)"
   ]
  },
  {
   "cell_type": "code",
   "execution_count": null,
   "metadata": {},
   "outputs": [],
   "source": [
    "model = joblib.load('results/automl-single-model-2021-28-09-21:28:03/model.joblib')"
   ]
  },
  {
   "cell_type": "code",
   "execution_count": null,
   "metadata": {},
   "outputs": [],
   "source": [
    "def generate_shap_values(model, x, i):\n",
    "    med = x.median().values.reshape((1, x.shape[1]))\n",
    "    shap_model = shap.KernelExplainer(model.predict_proba, med, )\n",
    "    shap_values = shap_model.shap_values(x.iloc[:i, :], )\n",
    "    return shap_model, shap_values"
   ]
  },
  {
   "cell_type": "code",
   "execution_count": null,
   "metadata": {},
   "outputs": [],
   "source": [
    "explain_observation_no = 100"
   ]
  },
  {
   "cell_type": "code",
   "execution_count": null,
   "metadata": {},
   "outputs": [],
   "source": [
    "shap_model, shap_values = generate_shap_values(model, x, explain_observation_no)"
   ]
  },
  {
   "cell_type": "code",
   "execution_count": null,
   "metadata": {},
   "outputs": [],
   "source": [
    "fig, axs = plt.subplots(6, 1)\n",
    "for i in range(6):\n",
    "    plt.sca(axs[i])\n",
    "    shap.summary_plot(shap_values[i], x.columns, plot_type='dot',show=False)\n",
    "    plt.gca().set_title(f\"Activity type: {model.classes_[i]}\")\n",
    "fig.set_size_inches(9, 30)\n",
    "fig.tight_layout()\n",
    "plt.savefig(f'explain-reports/SHAP-dot.png')"
   ]
  },
  {
   "cell_type": "code",
   "execution_count": null,
   "metadata": {
    "scrolled": true
   },
   "outputs": [],
   "source": [
    "fig, axs = plt.subplots(6, 1)\n",
    "for i in range(6):\n",
    "    plt.sca(axs[i])\n",
    "    shap.summary_plot(shap_values[i], x.columns, plot_type='bar',show=False)\n",
    "    plt.gca().set_title(f\"Activity type: {model.classes_[i]}\")\n",
    "fig.set_size_inches(9, 30)\n",
    "fig.tight_layout()\n",
    "plt.savefig(f'explain-reports/SHAP-FI.png')"
   ]
  },
  {
   "cell_type": "code",
   "execution_count": null,
   "metadata": {},
   "outputs": [],
   "source": [
    "plt.figure()\n",
    "shap.summary_plot(shap_values, x.columns, plot_type='bar', class_names=list(model.classes_), show=False)\n",
    "plt.title('SHAP Feature Importance', size=24)\n",
    "plt.tight_layout()\n",
    "plt.savefig(f'explain-reports/SHAP-FI-all.png')\n",
    "plt.show()"
   ]
  },
  {
   "cell_type": "code",
   "execution_count": null,
   "metadata": {
    "scrolled": true
   },
   "outputs": [],
   "source": [
    "for j in range(6):\n",
    "    if not os.path.exists(f'explain-reports/dependence/png/{model.classes_[j]}'):\n",
    "        os.mkdir(f'explain-reports/dependence/png/{model.classes_[j]}')\n",
    "    important_features = np.argsort(np.abs(shap_values[j]).mean(0))[-10:][::-1]\n",
    "    for i, feature in enumerate(important_features):\n",
    "        shap.dependence_plot(feature, shap_values[j], x.iloc[:explain_observation_no, :], show=False)        \n",
    "        plt.title(f'SHAP dependece {x.columns[feature]}', size=18)\n",
    "        plt.tight_layout()\n",
    "        plt.savefig(f'explain-reports/dependence/png/{model.classes_[j]}/SHAP-dependence{x.columns[feature]}.png', dpi=300)\n",
    "        plt.show()"
   ]
  }
 ],
 "metadata": {
  "kernelspec": {
   "display_name": "data_science",
   "language": "python",
   "name": "data_science"
  },
  "language_info": {
   "codemirror_mode": {
    "name": "ipython",
    "version": 3
   },
   "file_extension": ".py",
   "mimetype": "text/x-python",
   "name": "python",
   "nbconvert_exporter": "python",
   "pygments_lexer": "ipython3",
   "version": "3.8.5"
  }
 },
 "nbformat": 4,
 "nbformat_minor": 4
}
