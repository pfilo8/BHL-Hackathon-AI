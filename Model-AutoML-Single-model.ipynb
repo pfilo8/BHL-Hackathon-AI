{
 "cells": [
  {
   "cell_type": "code",
   "execution_count": 1,
   "metadata": {},
   "outputs": [],
   "source": [
    "import os\n",
    "import warnings\n",
    "\n",
    "warnings.filterwarnings('ignore')\n",
    "\n",
    "import autosklearn.classification\n",
    "import joblib\n",
    "import matplotlib.pyplot as plt\n",
    "import numpy as np\n",
    "import pandas as pd\n",
    "import seaborn as sns\n",
    "\n",
    "from datetime import datetime\n",
    "from sklearn.metrics import classification_report, confusion_matrix\n",
    "from sklearn.model_selection import train_test_split\n",
    "from sklearn.tree import DecisionTreeClassifier, plot_tree\n",
    "\n",
    "pd.options.display.max_columns = 999\n",
    "RANDOM_STATE = 42\n",
    "\n",
    "\n",
    "MODEL_DIR = os.path.join(\n",
    "    'results',\n",
    "    f\"automl-single-model-{datetime.strftime(datetime.now(), '%Y-%M-%d-%H-%M-%S')}\"\n",
    ")\n",
    "\n",
    "os.makedirs(MODEL_DIR)\n",
    "\n",
    "MODEL_PATH = os.path.join(MODEL_DIR, 'model.joblib')\n",
    "DATA_PATH = 'data/final_train.csv'"
   ]
  },
  {
   "cell_type": "code",
   "execution_count": 1,
   "metadata": {},
   "outputs": [
    {
     "name": "stderr",
     "output_type": "stream",
     "text": [
      "/home/pwielopolski/anaconda3/envs/datascience/lib/python3.7/site-packages/pyparsing.py:3190: FutureWarning: Possible set intersection at position 3\n",
      "  self.re = re.compile(self.reString)\n"
     ]
    }
   ],
   "source": [
    "from autosklearn.experimental.askl2 import AutoSklearn2Classifier"
   ]
  },
  {
   "cell_type": "code",
   "execution_count": 2,
   "metadata": {},
   "outputs": [],
   "source": [
    "df = pd.read_csv(DATA_PATH, index_col=0)\n",
    "\n",
    "x, y = df.drop(columns = ['Activity', 'void()', 'subject']), df['Activity']\n",
    "x_train, x_test, y_train, y_test = train_test_split(x, y, random_state=RANDOM_STATE)\n",
    "\n",
    "automl = AutoSklearn2Classifier(\n",
    "    time_left_for_this_task = 60*60*8,\n",
    "    ensemble_size=1,\n",
    "    n_jobs=-1\n",
    ")\n",
    "automl.fit(x_train, y_train)\n",
    "\n",
    "joblib.dump(automl, MODEL_PATH)\n",
    "\n",
    "y_train_hat = automl.predict(x_train)\n",
    "y_test_hat = automl.predict(x_test)"
   ]
  },
  {
   "cell_type": "code",
   "execution_count": 3,
   "metadata": {},
   "outputs": [
    {
     "name": "stdout",
     "output_type": "stream",
     "text": [
      "Train results\n",
      "                    precision    recall  f1-score   support\n",
      "\n",
      "            LAYING       1.00      1.00      1.00      1650\n",
      "           SITTING       0.99      0.99      0.99      1479\n",
      "          STANDING       1.00      0.99      0.99      1500\n",
      "           WALKING       1.00      1.00      1.00      1417\n",
      "WALKING_DOWNSTAIRS       1.00      1.00      1.00      1047\n",
      "  WALKING_UPSTAIRS       1.00      1.00      1.00      1221\n",
      "\n",
      "          accuracy                           1.00      8314\n",
      "         macro avg       1.00      1.00      1.00      8314\n",
      "      weighted avg       1.00      1.00      1.00      8314\n",
      "\n",
      "[[1650    0    0    0    0    0]\n",
      " [   0 1471    7    0    0    1]\n",
      " [   0   17 1483    0    0    0]\n",
      " [   0    0    0 1417    0    0]\n",
      " [   0    0    0    0 1047    0]\n",
      " [   0    0    0    0    0 1221]]\n",
      "----------------------------------------\n"
     ]
    }
   ],
   "source": [
    "print('Train results')\n",
    "print(classification_report(y_train, y_train_hat))\n",
    "print(confusion_matrix(y_train, y_train_hat))\n",
    "print('-'*40)"
   ]
  },
  {
   "cell_type": "code",
   "execution_count": 4,
   "metadata": {},
   "outputs": [
    {
     "name": "stdout",
     "output_type": "stream",
     "text": [
      "Test results\n",
      "                    precision    recall  f1-score   support\n",
      "\n",
      "            LAYING       1.00      1.00      1.00       517\n",
      "           SITTING       0.98      0.97      0.97       540\n",
      "          STANDING       0.96      0.97      0.97       479\n",
      "           WALKING       1.00      1.00      1.00       483\n",
      "WALKING_DOWNSTAIRS       0.99      1.00      0.99       341\n",
      "  WALKING_UPSTAIRS       1.00      0.99      1.00       412\n",
      "\n",
      "          accuracy                           0.99      2772\n",
      "         macro avg       0.99      0.99      0.99      2772\n",
      "      weighted avg       0.99      0.99      0.99      2772\n",
      "\n",
      "[[517   0   0   0   0   0]\n",
      " [  0 523  17   0   0   0]\n",
      " [  0  13 466   0   0   0]\n",
      " [  0   0   0 483   0   0]\n",
      " [  0   0   0   1 340   0]\n",
      " [  0   0   0   0   4 408]]\n",
      "----------------------------------------\n"
     ]
    }
   ],
   "source": [
    "print('Test results')\n",
    "print(classification_report(y_test, y_test_hat))\n",
    "print(confusion_matrix(y_test, y_test_hat))\n",
    "print('-'*40)"
   ]
  },
  {
   "cell_type": "code",
   "execution_count": 5,
   "metadata": {},
   "outputs": [
    {
     "data": {
      "text/plain": [
       "[(1.0,\n",
       "  SimpleClassificationPipeline({'balancing:strategy': 'none', 'classifier:__choice__': 'libsvm_svc', 'data_preprocessing:categorical_transformer:categorical_encoding:__choice__': 'no_encoding', 'data_preprocessing:categorical_transformer:category_coalescence:__choice__': 'minority_coalescer', 'data_preprocessing:numerical_transformer:imputation:strategy': 'median', 'data_preprocessing:numerical_transformer:rescaling:__choice__': 'minmax', 'feature_preprocessor:__choice__': 'no_preprocessing', 'classifier:libsvm_svc:C': 12923.91167672086, 'classifier:libsvm_svc:gamma': 0.028106748647672205, 'classifier:libsvm_svc:kernel': 'rbf', 'classifier:libsvm_svc:max_iter': -1, 'classifier:libsvm_svc:shrinking': 'False', 'classifier:libsvm_svc:tol': 2.0706197108771777e-05, 'data_preprocessing:categorical_transformer:category_coalescence:minority_coalescer:minimum_fraction': 0.03972767277005085},\n",
       "  dataset_properties={\n",
       "    'task': 2,\n",
       "    'sparse': False,\n",
       "    'multilabel': False,\n",
       "    'multiclass': True,\n",
       "    'target_type': 'classification',\n",
       "    'signed': False}))]"
      ]
     },
     "execution_count": 5,
     "metadata": {},
     "output_type": "execute_result"
    }
   ],
   "source": [
    "automl.get_models_with_weights()"
   ]
  }
 ],
 "metadata": {
  "kernelspec": {
   "display_name": "Python 3",
   "language": "python",
   "name": "python3"
  },
  "language_info": {
   "codemirror_mode": {
    "name": "ipython",
    "version": 3
   },
   "file_extension": ".py",
   "mimetype": "text/x-python",
   "name": "python",
   "nbconvert_exporter": "python",
   "pygments_lexer": "ipython3",
   "version": "3.7.4"
  }
 },
 "nbformat": 4,
 "nbformat_minor": 2
}
