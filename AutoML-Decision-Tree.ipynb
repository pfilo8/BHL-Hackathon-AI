{
 "cells": [
  {
   "cell_type": "code",
   "execution_count": 1,
   "metadata": {},
   "outputs": [],
   "source": [
    "import os\n",
    "import warnings\n",
    "\n",
    "warnings.filterwarnings('ignore')\n",
    "\n",
    "import autosklearn.classification\n",
    "import joblib\n",
    "import matplotlib.pyplot as plt\n",
    "import numpy as np\n",
    "import pandas as pd\n",
    "import seaborn as sns\n",
    "\n",
    "from datetime import datetime\n",
    "from sklearn.metrics import classification_report, confusion_matrix\n",
    "from sklearn.model_selection import train_test_split\n",
    "from sklearn.tree import DecisionTreeClassifier, plot_tree\n",
    "\n",
    "pd.options.display.max_columns = 999\n",
    "RANDOM_STATE = 42\n",
    "\n",
    "\n",
    "MODEL_DIR = os.path.join(\n",
    "    'results',\n",
    "    f\"automl-decision-tree-{datetime.strftime(datetime.now(), '%Y-%M-%d-%H:%M:%S')}\"\n",
    ")\n",
    "\n",
    "os.makedirs(MODEL_DIR)\n",
    "\n",
    "MODEL_PATH = os.path.join(MODEL_DIR, 'model.joblib')\n",
    "PLOT_PATH = os.path.join(MODEL_DIR, 'tree.pdf')\n",
    "PLOT_FI_PATH = os.path.join(MODEL_DIR, 'fi.pdf')\n",
    "DATA_PATH = 'data/final_train.csv'"
   ]
  },
  {
   "cell_type": "code",
   "execution_count": 3,
   "metadata": {},
   "outputs": [
    {
     "ename": "TypeError",
     "evalue": "__init__() got an unexpected keyword argument 'include_estimators'",
     "output_type": "error",
     "traceback": [
      "\u001b[0;31m---------------------------------------------------------------------------\u001b[0m",
      "\u001b[0;31mTypeError\u001b[0m                                 Traceback (most recent call last)",
      "\u001b[0;32m<ipython-input-3-eb16e110a2a6>\u001b[0m in \u001b[0;36m<module>\u001b[0;34m\u001b[0m\n\u001b[1;32m      7\u001b[0m     \u001b[0mtime_left_for_this_task\u001b[0m \u001b[0;34m=\u001b[0m \u001b[0;36m120\u001b[0m\u001b[0;34m,\u001b[0m\u001b[0;34m\u001b[0m\u001b[0;34m\u001b[0m\u001b[0m\n\u001b[1;32m      8\u001b[0m     \u001b[0minclude_estimators\u001b[0m \u001b[0;34m=\u001b[0m \u001b[0;34m[\u001b[0m\u001b[0;34m'decision_tree'\u001b[0m\u001b[0;34m]\u001b[0m\u001b[0;34m,\u001b[0m\u001b[0;34m\u001b[0m\u001b[0;34m\u001b[0m\u001b[0m\n\u001b[0;32m----> 9\u001b[0;31m     \u001b[0mensemble_nbest\u001b[0m\u001b[0;34m=\u001b[0m\u001b[0;36m1\u001b[0m\u001b[0;34m\u001b[0m\u001b[0;34m\u001b[0m\u001b[0m\n\u001b[0m\u001b[1;32m     10\u001b[0m )\n\u001b[1;32m     11\u001b[0m \u001b[0mautoml\u001b[0m\u001b[0;34m.\u001b[0m\u001b[0mfit\u001b[0m\u001b[0;34m(\u001b[0m\u001b[0mx_train\u001b[0m\u001b[0;34m,\u001b[0m \u001b[0my_train\u001b[0m\u001b[0;34m)\u001b[0m\u001b[0;34m\u001b[0m\u001b[0;34m\u001b[0m\u001b[0m\n",
      "\u001b[0;31mTypeError\u001b[0m: __init__() got an unexpected keyword argument 'include_estimators'"
     ]
    }
   ],
   "source": [
    "df = pd.read_csv(DATA_PATH, index_col=0)\n",
    "\n",
    "x, y = df.drop(columns = ['Activity', 'subject', 'void()']), df['Activity']\n",
    "x_train, x_test, y_train, y_test = train_test_split(x, y, random_state=RANDOM_STATE)\n",
    "\n",
    "automl = autosklearn.classification.AutoSklearnClassifier(\n",
    "    time_left_for_this_task = 60*60*8, \n",
    "    include_estimators = ['decision_tree'],\n",
    "    ensemble_nbest=1,\n",
    "    n_jobs=-1\n",
    ")\n",
    "automl.fit(x_train, y_train)\n",
    "\n",
    "joblib.dump(automl, MODEL_PATH)\n",
    "\n",
    "y_train_hat = automl.predict(x_train)\n",
    "y_test_hat = automl.predict(x_test)"
   ]
  },
  {
   "cell_type": "code",
   "execution_count": null,
   "metadata": {},
   "outputs": [],
   "source": [
    "print('Train results')\n",
    "print(classification_report(y_train, y_train_hat))\n",
    "print(confusion_matrix(y_train, y_train_hat))\n",
    "print('-'*40)"
   ]
  },
  {
   "cell_type": "code",
   "execution_count": null,
   "metadata": {},
   "outputs": [],
   "source": [
    "print('Test results')\n",
    "print(classification_report(y_test, y_test_hat))\n",
    "print(confusion_matrix(y_test, y_test_hat))\n",
    "print('-'*40)"
   ]
  },
  {
   "cell_type": "code",
   "execution_count": null,
   "metadata": {},
   "outputs": [],
   "source": [
    "pipeline = automl.get_models_with_weights()[0][1]\n",
    "model = pipeline.named_steps['classifier'].choice.estimator"
   ]
  },
  {
   "cell_type": "code",
   "execution_count": null,
   "metadata": {},
   "outputs": [],
   "source": [
    "fig, ax = plt.subplots(figsize=(60, 30))\n",
    "\n",
    "plot_tree(\n",
    "    model, \n",
    "    fontsize=10, \n",
    "    feature_names=x_train.columns, \n",
    "    class_names=automl.classes_,\n",
    "    impurity=False,\n",
    "    proportion=True\n",
    ")\n",
    "\n",
    "plt.savefig(PLOT_PATH)"
   ]
  },
  {
   "cell_type": "code",
   "execution_count": null,
   "metadata": {},
   "outputs": [],
   "source": [
    "selector = pipeline.named_steps['feature_preprocessor'].choice.get_preprocessor()"
   ]
  },
  {
   "cell_type": "code",
   "execution_count": null,
   "metadata": {},
   "outputs": [],
   "source": [
    "df = pd.DataFrame({\n",
    "    'column': x.columns[selector.get_support()], \n",
    "    'feature-importance': model.feature_importances_\n",
    "})\n",
    "df = df.replace({0.0: np.nan}).dropna()"
   ]
  },
  {
   "cell_type": "code",
   "execution_count": null,
   "metadata": {},
   "outputs": [],
   "source": [
    "df.sort_values('feature-importance', ascending=False).plot(kind = 'bar', y = 'feature-importance', x = 'column', rot = 90, figsize = (16, 10))\n",
    "plt.savefig(PLOT_FI_PATH)"
   ]
  }
 ],
 "metadata": {
  "kernelspec": {
   "display_name": "Python 3",
   "language": "python",
   "name": "python3"
  },
  "language_info": {
   "codemirror_mode": {
    "name": "ipython",
    "version": 3
   },
   "file_extension": ".py",
   "mimetype": "text/x-python",
   "name": "python",
   "nbconvert_exporter": "python",
   "pygments_lexer": "ipython3",
   "version": "3.7.4"
  }
 },
 "nbformat": 4,
 "nbformat_minor": 2
}
