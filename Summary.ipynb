{
 "cells": [
  {
   "cell_type": "code",
   "execution_count": 1,
   "metadata": {},
   "outputs": [],
   "source": [
    "import warnings\n",
    "\n",
    "warnings.filterwarnings('ignore')\n",
    "\n",
    "import joblib\n",
    "import matplotlib.pyplot as plt\n",
    "import numpy as np\n",
    "import pandas as pd\n",
    "import seaborn as sns\n",
    "\n",
    "from sklearn.model_selection import train_test_split\n",
    "from sklearn.metrics import classification_report, confusion_matrix\n",
    "\n",
    "pd.options.display.max_columns = 999\n",
    "RANDOM_STATE = 42\n",
    "\n",
    "DATA_PATH = 'data/final_train.csv'\n",
    "MODEL_AUTOML_PATH = 'results/automl-single-model-2021-28-09-21-28-03/model.joblib'\n",
    "MODEL_DECISION_TREE_PATH = 'results/prunned_tree/prunned_tree.joblib'\n",
    "MODEL_DECISION_TREE_3_CAT_PATH = 'results/3categories/3categories_tree.joblib'"
   ]
  },
  {
   "cell_type": "code",
   "execution_count": 2,
   "metadata": {},
   "outputs": [],
   "source": [
    "def summary(model, x, y):\n",
    "    y_hat = model.predict(x)\n",
    "    print('-'*40)\n",
    "    print('Raport klasyfikacyjny')\n",
    "    print()\n",
    "    print(classification_report(y, y_hat))\n",
    "    print('-'*40)\n",
    "    print('Macierz pomyłek')\n",
    "    print()\n",
    "    print(confusion_matrix(y, y_hat))\n",
    "    print('-'*40)"
   ]
  },
  {
   "source": [
    "# Dane\n",
    "Dane do trenowania modelu znajdują się w pliku  `final_train.csv` i zostały dostarczone przez organizatorów.\n",
    "\n",
    "## Pochodzenie danych\n",
    "Dane zawierają informacje o aktywnościach uczestników biorących udział w eksperymencie. \n",
    "\n",
    "Zbiór danych składa się z sześciu podstawowych czynności: trzech postaw statycznych (stanie, siedzenie, leżenie) oraz trzech czynności dynamicznych (chodzenie, schodzenie po schodach i wchodzenie po schodach). \n",
    "\n",
    "Eksperyment polegał na noszeniu przypiętego na pasku smartfona (Samsung Galaxy S II).\n",
    "\n",
    "![experiment](./docs/img/experiment.png)\n",
    "\n",
    "Urządzenie było przypięte na pasku tak jak przedstawiono na zdjęciu poniżej:\n",
    "\n",
    "![smartphone](./docs/img/smartphone.png)\n",
    "\n",
    "Szczególnie cenną informacją jest skierowanie osi wymiarów.\n",
    "\n",
    "Przechwytywano 3-wymiarowe przyspieszenie liniowe i 3-wymiarową prędkość kątową w stałej częstotliwości 50Hz przy użyciu wbudowanego w urządzenie akcelerometru i żyroskopu.\n",
    "\n",
    "## Wczytanie danych\n"
   ],
   "cell_type": "markdown",
   "metadata": {}
  },
  {
   "cell_type": "code",
   "execution_count": 3,
   "metadata": {},
   "outputs": [],
   "source": [
    "df = pd.read_csv(DATA_PATH, index_col=0)\n",
    "df"
   ]
  },
  {
   "cell_type": "markdown",
   "metadata": {},
   "source": [
    "Aby lepiej zrozumieć dane skupmy się na przetłumaczeniu kilku nazw:\n",
    "\n",
    "### Aktywności:\n",
    "* Laying - Leżenie\n",
    "* Sitting - Siedzenie\n",
    "* Standing - Stanie\n",
    "* Walking - Chodzenie\n",
    "* Walking upstairs - Chodzenie po schodach do góry\n",
    "* Walking downstairs - Chodzenie po schodach w dół\n",
    "\n",
    "Jeśli chcemy tworzyć klasyfikator aktywności, warto sprawdzić, czy klasy sa zbalansowane. W tym celu zliczamy wystąpienia poszczególnych klas w naszym zestawie danych."
   ]
  },
  {
   "cell_type": "code",
   "execution_count": 5,
   "metadata": {},
   "outputs": [
    {
     "data": {
      "text/plain": [
       "LAYING                2167\n",
       "SITTING               2019\n",
       "STANDING              1979\n",
       "WALKING               1900\n",
       "WALKING_UPSTAIRS      1633\n",
       "WALKING_DOWNSTAIRS    1388\n",
       "Name: Activity, dtype: int64"
      ]
     },
     "execution_count": 5,
     "metadata": {},
     "output_type": "execute_result"
    }
   ],
   "source": [
    "df['Activity'].value_counts()"
   ]
  },
  {
   "cell_type": "markdown",
   "metadata": {},
   "source": [
    "W rozkładzie klas nie występuje problem niezbalansowania.\n",
    "\n",
    "Nazwy kolumn posiadają przedrostki, oznaczają one poszczególne agregacje jakich dokonano na sygnałach z danego okna.\n",
    "Znaczenie nazw przedrostków:\n",
    "\n",
    "| Function | Description |\n",
    "|----------|-------------|\n",
    "| mean     | Mean value  |\n",
    "| std      | Standard deviation   |\n",
    "| mad      | Median absolute value             |\n",
    "| max      | Largest values in array           |\n",
    "| min      | Smallest value in array           |\n",
    "| sma      | Signal magnitude area             |\n",
    "| energy   | Average sum of the squares        |\n",
    "| iqr      | Interquartile range               |\n",
    "| entropy  | Signal Entropy                    |\n",
    "| arCoeff  | Autorregresion coefficients       |\n",
    "| correlation | Correlation coefficient        |\n",
    "| maxFreqInd | Largest frequency component     |\n",
    "| meanFreq | Frequency signal weighted average |\n",
    "| skewness | Frequency signal Skewness         |\n",
    "| kurtosis | Frequency signal Kurtosis         |\n",
    "| energyBand | Energy of a frequency interval  |\n",
    "| angle    | Angle between two vectors         |\n",
    "\n",
    "Poszczególne kolumny opisują atrybuty takie jak:\n",
    "\n",
    "| Function | Description |\n",
    "|----------|-------------|\n",
    "| Gravity     | Mean value  |\n",
    "|BodyAccJyro\n",
    "\n",
    "\n"
   ]
  },
  {
   "cell_type": "code",
   "execution_count": null,
   "metadata": {},
   "outputs": [],
   "source": [
    "model_automl = joblib.load(MODEL_AUTOML_PATH)\n",
    "model_decision_tree = joblib.load(MODEL_DECISION_TREE_PATH)\n",
    "model_decision_tree_3_cat = joblib.load(MODEL_DECISION_TREE_3_CAT_PATH)"
   ]
  },
  {
   "cell_type": "code",
   "execution_count": 7,
   "metadata": {},
   "outputs": [],
   "source": [
    "x, y = df.drop(columns = ['Activity']), df['Activity']"
   ]
  },
  {
   "cell_type": "code",
   "execution_count": 8,
   "metadata": {},
   "outputs": [],
   "source": [
    "x_train, x_test, y_train, y_test = train_test_split(x, y, random_state=RANDOM_STATE)"
   ]
  },
  {
   "cell_type": "markdown",
   "metadata": {},
   "source": [
    "# AutoML model - SVM"
   ]
  },
  {
   "cell_type": "markdown",
   "metadata": {},
   "source": [
    "Steps:\n",
    "\n",
    "* Data preprocessing\n",
    "    * Imputation strategy: Median\n",
    "    * Rescaling: Min Max\n",
    "* Balancing\n",
    "    * No class balancing was used\n",
    "* Feature preprocessor\n",
    "    * No additional feature preprocessing\n",
    "* Classifier\n",
    "    * SVM with RBF kernel"
   ]
  },
  {
   "cell_type": "code",
   "execution_count": 9,
   "metadata": {},
   "outputs": [
    {
     "name": "stdout",
     "output_type": "stream",
     "text": [
      "----------------------------------------\n",
      "Raport klasyfikacyjny\n",
      "\n",
      "                    precision    recall  f1-score   support\n",
      "\n",
      "            LAYING       1.00      1.00      1.00      1650\n",
      "           SITTING       0.99      0.99      0.99      1479\n",
      "          STANDING       1.00      0.99      0.99      1500\n",
      "           WALKING       1.00      1.00      1.00      1417\n",
      "WALKING_DOWNSTAIRS       1.00      1.00      1.00      1047\n",
      "  WALKING_UPSTAIRS       1.00      1.00      1.00      1221\n",
      "\n",
      "          accuracy                           1.00      8314\n",
      "         macro avg       1.00      1.00      1.00      8314\n",
      "      weighted avg       1.00      1.00      1.00      8314\n",
      "\n",
      "----------------------------------------\n",
      "Macierz pomyłek\n",
      "\n",
      "[[1650    0    0    0    0    0]\n",
      " [   0 1471    7    0    0    1]\n",
      " [   0   17 1483    0    0    0]\n",
      " [   0    0    0 1417    0    0]\n",
      " [   0    0    0    0 1047    0]\n",
      " [   0    0    0    0    0 1221]]\n",
      "----------------------------------------\n"
     ]
    }
   ],
   "source": [
    "summary(model_automl, x_train, y_train)"
   ]
  },
  {
   "cell_type": "code",
   "execution_count": 10,
   "metadata": {},
   "outputs": [
    {
     "name": "stdout",
     "output_type": "stream",
     "text": [
      "----------------------------------------\n",
      "Raport klasyfikacyjny\n",
      "\n",
      "                    precision    recall  f1-score   support\n",
      "\n",
      "            LAYING       1.00      1.00      1.00       517\n",
      "           SITTING       0.98      0.97      0.97       540\n",
      "          STANDING       0.96      0.97      0.97       479\n",
      "           WALKING       1.00      1.00      1.00       483\n",
      "WALKING_DOWNSTAIRS       0.99      1.00      0.99       341\n",
      "  WALKING_UPSTAIRS       1.00      0.99      1.00       412\n",
      "\n",
      "          accuracy                           0.99      2772\n",
      "         macro avg       0.99      0.99      0.99      2772\n",
      "      weighted avg       0.99      0.99      0.99      2772\n",
      "\n",
      "----------------------------------------\n",
      "Macierz pomyłek\n",
      "\n",
      "[[517   0   0   0   0   0]\n",
      " [  0 523  17   0   0   0]\n",
      " [  0  13 466   0   0   0]\n",
      " [  0   0   0 483   0   0]\n",
      " [  0   0   0   1 340   0]\n",
      " [  0   0   0   0   4 408]]\n",
      "----------------------------------------\n"
     ]
    }
   ],
   "source": [
    "summary(model_automl, x_test, y_test)"
   ]
  }
 ],
 "metadata": {
  "kernelspec": {
   "display_name": "Python 3",
   "language": "python",
   "name": "python3"
  },
  "language_info": {
   "codemirror_mode": {
    "name": "ipython",
    "version": 3
   },
   "file_extension": ".py",
   "mimetype": "text/x-python",
   "name": "python",
   "nbconvert_exporter": "python",
   "pygments_lexer": "ipython3",
   "version": "3.7.4"
  }
 },
 "nbformat": 4,
 "nbformat_minor": 2
}